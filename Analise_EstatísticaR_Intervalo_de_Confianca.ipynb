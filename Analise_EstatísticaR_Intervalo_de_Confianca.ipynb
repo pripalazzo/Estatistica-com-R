{
  "nbformat": 4,
  "nbformat_minor": 0,
  "metadata": {
    "colab": {
      "name": "Analise_EstatísticaR_Intervalo_de_Confianca.ipynb",
      "provenance": [],
      "collapsed_sections": [],
      "include_colab_link": true
    },
    "kernelspec": {
      "name": "ir",
      "display_name": "R"
    }
  },
  "cells": [
    {
      "cell_type": "markdown",
      "metadata": {
        "id": "view-in-github",
        "colab_type": "text"
      },
      "source": [
        "<a href=\"https://colab.research.google.com/github/pripalazzo/Estatistica-com-R/blob/main/Analise_Estat%C3%ADsticaR_Intervalo_de_Confianca.ipynb\" target=\"_parent\"><img src=\"https://colab.research.google.com/assets/colab-badge.svg\" alt=\"Open In Colab\"/></a>"
      ]
    },
    {
      "cell_type": "markdown",
      "source": [
        "# Estatística com R - Colab \n",
        "**Autora**: P. P\n",
        "\n",
        "**Data:** Maio de 2022\n",
        "\n",
        "**Laboratório - IGTI - Ciência de Dados**\n",
        "\n",
        "*   # Intervalo de confiança para média amostral pela distribuição Normal Padrão\n",
        "*   # Intervalo de confiança para a média amostral pela distribuição t de Student\n",
        "*   # Intervalo de confiança para a proporção\n",
        "*   # Intervalo de confiança para média via Bootstrap\n"
      ],
      "metadata": {
        "id": "Z6VZF20ygns4"
      }
    },
    {
      "cell_type": "markdown",
      "source": [
        "# Intervalo de confiança para média amostral pela distribuição Normal Padrão"
      ],
      "metadata": {
        "id": "4L04sVfTa9xM"
      }
    },
    {
      "cell_type": "code",
      "source": [
        "# Obter o intervalo de confiança para uma variável cuja média = 30, desvio padrão = 7,31 e n = 30\n",
        "# Temos que definir o nível de confiança do nosso intervalo.\n",
        "# Podemos obter o valor do quantil para o nível de confiança desejado com a função qnorm()\n",
        "# O quantil na distribuição normal padrão para 95% de confiança\n",
        "ic <- 0.95\n",
        "alfa <- 1-ic\n",
        "1-(alfa/2)\n",
        "qnorm(0.975)"
      ],
      "metadata": {
        "colab": {
          "base_uri": "https://localhost:8080/",
          "height": 52
        },
        "id": "4Z0NOofjbFwD",
        "outputId": "ca1d2caa-4303-4a42-8c11-3ca771317443"
      },
      "execution_count": 23,
      "outputs": [
        {
          "output_type": "display_data",
          "data": {
            "text/html": [
              "0.975"
            ],
            "text/markdown": "0.975",
            "text/latex": "0.975",
            "text/plain": [
              "[1] 0.975"
            ]
          },
          "metadata": {}
        },
        {
          "output_type": "display_data",
          "data": {
            "text/html": [
              "1.95996398454005"
            ],
            "text/markdown": "1.95996398454005",
            "text/latex": "1.95996398454005",
            "text/plain": [
              "[1] 1.959964"
            ]
          },
          "metadata": {}
        }
      ]
    },
    {
      "cell_type": "code",
      "source": [
        "# Vamos armazenar os valores em objetos\n",
        "media <- 30\n",
        "desvio_padrao_populacional <- 7.31\n",
        "n <- 30\n",
        "quantil_95 <- qnorm(0.975)"
      ],
      "metadata": {
        "id": "-o9SLz9na97j"
      },
      "execution_count": 24,
      "outputs": []
    },
    {
      "cell_type": "code",
      "source": [
        "#Aplicando a fórmula vista na apostila fica:\n",
        "Limite_Superior <- 30+quantil_95*(desvio_padrao_populacional/sqrt(n))\n",
        "Limite_Inferior <- 30-quantil_95*(desvio_padrao_populacional/sqrt(n))\n",
        "paste(\"Com 95% de confiança, podemos afirmar que a média varia entre\",Limite_Inferior,\" e \",Limite_Superior)"
      ],
      "metadata": {
        "colab": {
          "base_uri": "https://localhost:8080/",
          "height": 34
        },
        "id": "Yn5xmmF0bhWs",
        "outputId": "494b7b01-55e8-4748-a28c-55b5abcc6fda"
      },
      "execution_count": 25,
      "outputs": [
        {
          "output_type": "display_data",
          "data": {
            "text/html": [
              "<span style=white-space:pre-wrap>'Com 95% de confiança, podemos afirmar que a média varia entre 27.3841981618855  e  32.6158018381145'</span>"
            ],
            "text/markdown": "<span style=white-space:pre-wrap>'Com 95% de confiança, podemos afirmar que a média varia entre 27.3841981618855  e  32.6158018381145'</span>",
            "text/latex": "'Com 95\\% de confiança, podemos afirmar que a média varia entre 27.3841981618855  e  32.6158018381145'",
            "text/plain": [
              "[1] \"Com 95% de confiança, podemos afirmar que a média varia entre 27.3841981618855  e  32.6158018381145\""
            ]
          },
          "metadata": {}
        }
      ]
    },
    {
      "cell_type": "markdown",
      "source": [
        "# Intervalo de confiança para a média amostral pela distribuição t de Student "
      ],
      "metadata": {
        "id": "Zmc6erTNbzte"
      }
    },
    {
      "cell_type": "code",
      "source": [
        "# A teoria nos diz para utilizar a distribuição t de Student quando não soubermos o desvio padrão populacional.\n",
        "# Vamos assumir que o desvio padrão que temos é obtido a partir da amostra\n",
        "# Vamos armazenar os valores em objetos\n",
        "media <- 30\n",
        "desvio_padrao_amostral <- 7.31\n",
        "n <- 30\n",
        "quantil_95_t <- qt(0.975,df = n-1)"
      ],
      "metadata": {
        "id": "SV5lZGdEbXxW"
      },
      "execution_count": 26,
      "outputs": []
    },
    {
      "cell_type": "code",
      "source": [
        "# Aplicando a fórmula vista na apostila fica:\n",
        "Limite_Superior_t <- 30+quantil_95_t*(desvio_padrao_amostral/sqrt(n))\n",
        "Limite_Inferior_t <- 30-quantil_95_t*(desvio_padrao_amostral/sqrt(n))\n",
        "paste(\"Com 95% de confiança, podemos afirmar que a média varia entre\",Limite_Inferior_t,\" e \",Limite_Superior_t)"
      ],
      "metadata": {
        "colab": {
          "base_uri": "https://localhost:8080/",
          "height": 34
        },
        "id": "dIvgTu7ncGKd",
        "outputId": "63ee0821-6068-4669-ad0b-2e198e2e1a62"
      },
      "execution_count": 27,
      "outputs": [
        {
          "output_type": "display_data",
          "data": {
            "text/html": [
              "<span style=white-space:pre-wrap>'Com 95% de confiança, podemos afirmar que a média varia entre 27.2704011402983  e  32.7295988597017'</span>"
            ],
            "text/markdown": "<span style=white-space:pre-wrap>'Com 95% de confiança, podemos afirmar que a média varia entre 27.2704011402983  e  32.7295988597017'</span>",
            "text/latex": "'Com 95\\% de confiança, podemos afirmar que a média varia entre 27.2704011402983  e  32.7295988597017'",
            "text/plain": [
              "[1] \"Com 95% de confiança, podemos afirmar que a média varia entre 27.2704011402983  e  32.7295988597017\""
            ]
          },
          "metadata": {}
        }
      ]
    },
    {
      "cell_type": "code",
      "source": [
        "# Supondo que nossa variável já esteja em um data frame aqui no R, tem um comando para\n",
        "# fornecer o intervalo de confiança de forma bem mais fácil\n",
        "# Vamos gerar com o comando rnorm() uma variável aleatoria com média 30, desvio padrão 7,31 e n = 30\n",
        "va <- rnorm(n = 30, mean = 30, sd = 7.31)\n",
        "# Vamos visualizar a va gerada\n",
        "hist(va)"
      ],
      "metadata": {
        "colab": {
          "base_uri": "https://localhost:8080/",
          "height": 437
        },
        "id": "5YiHQ53WcQQh",
        "outputId": "8ed1f62e-91c6-498a-c728-1dac04148ca0"
      },
      "execution_count": 28,
      "outputs": [
        {
          "output_type": "display_data",
          "data": {
            "text/plain": [
              "Plot with title “Histogram of va”"
            ],
            "image/png": "[encoded data removed]"
          },
          "metadata": {
            "image/png": {
              "width": 420,
              "height": 420
            }
          }
        }
      ]
    },
    {
      "cell_type": "code",
      "source": [
        "# Calculando o intervalo de 95% de confiança com a distribuição t de Student com a funçao t.test()\n",
        "IC <-t.test(va, conf.level = 0.95)\n",
        "IC$conf.int\n",
        "# Pronto, já temos o intervalo de confiança para média. Função nativa e sintética do R"
      ],
      "metadata": {
        "colab": {
          "base_uri": "https://localhost:8080/",
          "height": 34
        },
        "id": "4kC18K8Vcau7",
        "outputId": "d7b2b5f1-a80f-4c18-d72d-b5079ed7a9fa"
      },
      "execution_count": 29,
      "outputs": [
        {
          "output_type": "display_data",
          "data": {
            "text/html": [
              "<style>\n",
              ".list-inline {list-style: none; margin:0; padding: 0}\n",
              ".list-inline>li {display: inline-block}\n",
              ".list-inline>li:not(:last-child)::after {content: \"\\00b7\"; padding: 0 .5ex}\n",
              "</style>\n",
              "<ol class=list-inline><li>28.6080918767397</li><li>33.9224832691704</li></ol>\n"
            ],
            "text/markdown": "1. 28.6080918767397\n2. 33.9224832691704\n\n\n",
            "text/latex": "\\begin{enumerate*}\n\\item 28.6080918767397\n\\item 33.9224832691704\n\\end{enumerate*}\n",
            "text/plain": [
              "[1] 28.60809 33.92248\n",
              "attr(,\"conf.level\")\n",
              "[1] 0.95"
            ]
          },
          "metadata": {}
        }
      ]
    },
    {
      "cell_type": "markdown",
      "source": [
        "# Intervalo de confiança para a proporção"
      ],
      "metadata": {
        "id": "BuRSudDxclgD"
      }
    },
    {
      "cell_type": "code",
      "source": [
        "# Utilizando o exemplo da apostila, onde calculamos o intervalo para proporção onde 138 de n = 500 clientes realizaram a devolução do produto\n",
        "# Vamos armazenar os valores em objetos\n",
        "devolucoes <- 138\n",
        "n <- 500\n",
        "quantil_95 <-qnorm(0.975)\n",
        "proporcao_devolucoes <- devolucoes/n\n",
        "# Aplicando a fórmula vista na apostila fica:\n",
        "Limite_Superior_prop <-\n",
        " proporcao_devolucoes + quantil_95 *\n",
        " sqrt(proporcao_devolucoes*(1-proporcao_devolucoes)/n)\n",
        "Limite_Inferior_prop <-\n",
        " proporcao_devolucoes - quantil_95 *\n",
        " sqrt(proporcao_devolucoes*(1-proporcao_devolucoes)/n)\n",
        "paste(\"Com 95% de confiança, podemos afirmar que a proporção varia entre\",Limite_Inferior_prop,\" e \",Limite_Superior_prop)"
      ],
      "metadata": {
        "colab": {
          "base_uri": "https://localhost:8080/",
          "height": 34
        },
        "id": "rYKeYXUocnRz",
        "outputId": "84314dc2-b123-4a1c-b653-92ba5d199534"
      },
      "execution_count": 30,
      "outputs": [
        {
          "output_type": "display_data",
          "data": {
            "text/html": [
              "<span style=white-space:pre-wrap>'Com 95% de confiança, podemos afirmar que a proporção varia entre 0.236817971788424  e  0.315182028211576'</span>"
            ],
            "text/markdown": "<span style=white-space:pre-wrap>'Com 95% de confiança, podemos afirmar que a proporção varia entre 0.236817971788424  e  0.315182028211576'</span>",
            "text/latex": "'Com 95\\% de confiança, podemos afirmar que a proporção varia entre 0.236817971788424  e  0.315182028211576'",
            "text/plain": [
              "[1] \"Com 95% de confiança, podemos afirmar que a proporção varia entre 0.236817971788424  e  0.315182028211576\""
            ]
          },
          "metadata": {}
        }
      ]
    },
    {
      "cell_type": "code",
      "source": [
        "# Podemos obter o intervalo de confiança para proporção mais fácil pela função prop.test()\n",
        "IC_proporcao <- prop.test(x = 138, n = 500, conf.level = 0.95)\n",
        "IC_proporcao$conf.int"
      ],
      "metadata": {
        "colab": {
          "base_uri": "https://localhost:8080/",
          "height": 34
        },
        "id": "TTRpbQOrcsKW",
        "outputId": "e9ced559-b9f5-4954-ab9a-817547e9a255"
      },
      "execution_count": 31,
      "outputs": [
        {
          "output_type": "display_data",
          "data": {
            "text/html": [
              "<style>\n",
              ".list-inline {list-style: none; margin:0; padding: 0}\n",
              ".list-inline>li {display: inline-block}\n",
              ".list-inline>li:not(:last-child)::after {content: \"\\00b7\"; padding: 0 .5ex}\n",
              "</style>\n",
              "<ol class=list-inline><li>0.237689257987382</li><li>0.317813206121542</li></ol>\n"
            ],
            "text/markdown": "1. 0.237689257987382\n2. 0.317813206121542\n\n\n",
            "text/latex": "\\begin{enumerate*}\n\\item 0.237689257987382\n\\item 0.317813206121542\n\\end{enumerate*}\n",
            "text/plain": [
              "[1] 0.2376893 0.3178132\n",
              "attr(,\"conf.level\")\n",
              "[1] 0.95"
            ]
          },
          "metadata": {}
        }
      ]
    },
    {
      "cell_type": "markdown",
      "source": [
        "# Intervalo de confiança para média via Bootstrap"
      ],
      "metadata": {
        "id": "xCAlpKwVc-6M"
      }
    },
    {
      "cell_type": "code",
      "source": [
        "# Vamos gerar uma va seguindo uma distribuição qui-quadrado\n",
        "va <- rchisq(n = 60, df = 3)"
      ],
      "metadata": {
        "id": "Z9nhVllxcseh"
      },
      "execution_count": 32,
      "outputs": []
    },
    {
      "cell_type": "code",
      "source": [
        "# Observe o quão assimétrica é a va\n",
        "hist(va)"
      ],
      "metadata": {
        "colab": {
          "base_uri": "https://localhost:8080/",
          "height": 437
        },
        "id": "AgrqcLutdGbf",
        "outputId": "d365c277-ed7b-40c0-9408-adf96dd09e70"
      },
      "execution_count": 33,
      "outputs": [
        {
          "output_type": "display_data",
          "data": {
            "text/plain": [
              "Plot with title “Histogram of va”"
            ],
            "image/png": "[encoded data removed]"
          },
          "metadata": {
            "image/png": {
              "width": 420,
              "height": 420
            }
          }
        }
      ]
    },
    {
      "cell_type": "code",
      "source": [
        "# Inicializa variaveis\n",
        "medias <- c() #Essa variável é um vetor para armazenar a média de cada subamostra bootstrap"
      ],
      "metadata": {
        "id": "rKJwJ_qRdGiU"
      },
      "execution_count": 34,
      "outputs": []
    },
    {
      "cell_type": "code",
      "source": [
        "R <- 1000 #Numero de subamostras extraídas para gerar a distribuição amostral de médias #bootstrap\n",
        "for (i in 1:R) {#Realiza uma subamostragem aleatória com reposição da va\n",
        " reamostra <- sample(va, size = 50, replace = T)\n",
        " #Armazena a média da subamostra\n",
        " medias[i] <- mean(reamostra)\n",
        "}"
      ],
      "metadata": {
        "id": "6YJvA9GfdGlh"
      },
      "execution_count": 35,
      "outputs": []
    },
    {
      "cell_type": "code",
      "source": [
        "# Distribuicao das médias das subamostras (distribuição amostral da média da va)\n",
        "hist(medias)"
      ],
      "metadata": {
        "colab": {
          "base_uri": "https://localhost:8080/",
          "height": 437
        },
        "id": "3wELUOPQdg2o",
        "outputId": "fcddcece-4fb3-45c3-e039-4754cf7ddf2a"
      },
      "execution_count": 36,
      "outputs": [
        {
          "output_type": "display_data",
          "data": {
            "text/plain": [
              "Plot with title “Histogram of medias”"
            ],
            "image/png": "[encoded data removed]"
          },
          "metadata": {
            "image/png": {
              "width": 420,
              "height": 420
            }
          }
        }
      ]
    },
    {
      "cell_type": "code",
      "source": [
        "# Observe que mesmo a variável original não seguindo uma distribuição normal, o Teorema Central do Limite nos garante que a distribuição das médias \n",
        "# será normal se n é suficientemente grande\n",
        "# A partir das médias geradas, precisamos achar dois valores, o que corta a cauda inferior e o que corta a cauda superior da distribuição. Lembrando \n",
        "# que ela é simétrica\n",
        "# Caso o intervalo desejado seja de 95% de confiança, temos que ordenar essa distribuição do menor valor para o maior e achar o valor que deixará 2,5% \n",
        "# dos dados para trás e o valor que deixará 97,5% para trás\n",
        "(1-0.95)/2\n",
        "1-(1-0.95)/2"
      ],
      "metadata": {
        "colab": {
          "base_uri": "https://localhost:8080/",
          "height": 52
        },
        "id": "UAvKWbTDduXH",
        "outputId": "40ed8be7-eea2-482b-d930-30c1c2a73531"
      },
      "execution_count": 37,
      "outputs": [
        {
          "output_type": "display_data",
          "data": {
            "text/html": [
              "0.025"
            ],
            "text/markdown": "0.025",
            "text/latex": "0.025",
            "text/plain": [
              "[1] 0.025"
            ]
          },
          "metadata": {}
        },
        {
          "output_type": "display_data",
          "data": {
            "text/html": [
              "0.975"
            ],
            "text/markdown": "0.975",
            "text/latex": "0.975",
            "text/plain": [
              "[1] 0.975"
            ]
          },
          "metadata": {}
        }
      ]
    },
    {
      "cell_type": "code",
      "source": [
        "#Visualize o intervalo de confiança via bootstrap\n",
        "quantile( medias, probs = c(0.025,0.975))"
      ],
      "metadata": {
        "colab": {
          "base_uri": "https://localhost:8080/",
          "height": 34
        },
        "id": "RyAMNQhJd---",
        "outputId": "b5fb1f6f-a2cd-430d-b0ed-dfee1c95e1cb"
      },
      "execution_count": 38,
      "outputs": [
        {
          "output_type": "display_data",
          "data": {
            "text/html": [
              "<style>\n",
              ".dl-inline {width: auto; margin:0; padding: 0}\n",
              ".dl-inline>dt, .dl-inline>dd {float: none; width: auto; display: inline-block}\n",
              ".dl-inline>dt::after {content: \":\\0020\"; padding-right: .5ex}\n",
              ".dl-inline>dt:not(:first-of-type) {padding-left: .5ex}\n",
              "</style><dl class=dl-inline><dt>2.5%</dt><dd>2.45138868185825</dd><dt>97.5%</dt><dd>3.68779850652067</dd></dl>\n"
            ],
            "text/markdown": "2.5%\n:   2.4513886818582597.5%\n:   3.68779850652067\n\n",
            "text/latex": "\\begin{description*}\n\\item[2.5\\textbackslash{}\\%] 2.45138868185825\n\\item[97.5\\textbackslash{}\\%] 3.68779850652067\n\\end{description*}\n",
            "text/plain": [
              "    2.5%    97.5% \n",
              "2.451389 3.687799 "
            ]
          },
          "metadata": {}
        }
      ]
    },
    {
      "cell_type": "code",
      "source": [
        "# Geraremos uma va com média = 30 e desvio padrão amostral =7.31 e n = 30\n",
        "va <- rnorm(n = 30, mean = 30, sd = 7.31)"
      ],
      "metadata": {
        "id": "Y1y0vrqKeBMF"
      },
      "execution_count": 39,
      "outputs": []
    },
    {
      "cell_type": "code",
      "source": [
        "# Iremos calcular o intervalo de confiança usando o Bootstrap e também com a distribuição t de Student. Compararemos os resultados.\n",
        "# Inicializa variavel para armazenar as médias de cada subamostra\n",
        "medias <- c()\n",
        "R <- 10000 #Numero de subamostras extraídas para gerar a distribuição amostral de médias bootstrap\n",
        "for (i in 1:R) {\n",
        " #Realiza uma subamostragem aleatória com reposição da va\n",
        " reamostra <- sample(va, size = 20, replace = T)\n",
        " #Armazena a média da subamostra\n",
        " medias[i] <- mean(reamostra)\n",
        "}"
      ],
      "metadata": {
        "id": "S2EusOrveNC1"
      },
      "execution_count": 40,
      "outputs": []
    },
    {
      "cell_type": "code",
      "source": [
        "#Distribuicao das médias das subamostras (distribuição amostral da média da va)\n",
        "hist(medias)"
      ],
      "metadata": {
        "colab": {
          "base_uri": "https://localhost:8080/",
          "height": 437
        },
        "id": "wWDQvOPQeWji",
        "outputId": "8d2df868-ae4d-433b-98e8-53719ff54efa"
      },
      "execution_count": 41,
      "outputs": [
        {
          "output_type": "display_data",
          "data": {
            "text/plain": [
              "Plot with title “Histogram of medias”"
            ],
            "image/png": "[encoded data removed]"
          },
          "metadata": {
            "image/png": {
              "width": 420,
              "height": 420
            }
          }
        }
      ]
    },
    {
      "cell_type": "code",
      "source": [
        "#Limites inferior e superior do intervalo pelo bootstrap\n",
        "quantile( medias, probs = c(0.025,0.975))"
      ],
      "metadata": {
        "colab": {
          "base_uri": "https://localhost:8080/",
          "height": 34
        },
        "id": "WSrODv33eb_8",
        "outputId": "9d185d49-64ce-447b-ab75-bb86d1024cc8"
      },
      "execution_count": 42,
      "outputs": [
        {
          "output_type": "display_data",
          "data": {
            "text/html": [
              "<style>\n",
              ".dl-inline {width: auto; margin:0; padding: 0}\n",
              ".dl-inline>dt, .dl-inline>dd {float: none; width: auto; display: inline-block}\n",
              ".dl-inline>dt::after {content: \":\\0020\"; padding-right: .5ex}\n",
              ".dl-inline>dt:not(:first-of-type) {padding-left: .5ex}\n",
              "</style><dl class=dl-inline><dt>2.5%</dt><dd>26.5394638573707</dd><dt>97.5%</dt><dd>33.0495579388557</dd></dl>\n"
            ],
            "text/markdown": "2.5%\n:   26.539463857370797.5%\n:   33.0495579388557\n\n",
            "text/latex": "\\begin{description*}\n\\item[2.5\\textbackslash{}\\%] 26.5394638573707\n\\item[97.5\\textbackslash{}\\%] 33.0495579388557\n\\end{description*}\n",
            "text/plain": [
              "    2.5%    97.5% \n",
              "26.53946 33.04956 "
            ]
          },
          "metadata": {}
        }
      ]
    },
    {
      "cell_type": "code",
      "source": [
        "#Limites inferior e superior do intervalo via t de Student\n",
        "IC<-t.test(va, conf.level = 0.95)\n",
        "IC$conf.int"
      ],
      "metadata": {
        "colab": {
          "base_uri": "https://localhost:8080/",
          "height": 34
        },
        "id": "OlCtk0Myeg8-",
        "outputId": "3218f5fb-64b9-44fd-e204-222db0b1cf22"
      },
      "execution_count": 43,
      "outputs": [
        {
          "output_type": "display_data",
          "data": {
            "text/html": [
              "<style>\n",
              ".list-inline {list-style: none; margin:0; padding: 0}\n",
              ".list-inline>li {display: inline-block}\n",
              ".list-inline>li:not(:last-child)::after {content: \"\\00b7\"; padding: 0 .5ex}\n",
              "</style>\n",
              "<ol class=list-inline><li>27.0342901819253</li><li>32.6745439068168</li></ol>\n"
            ],
            "text/markdown": "1. 27.0342901819253\n2. 32.6745439068168\n\n\n",
            "text/latex": "\\begin{enumerate*}\n\\item 27.0342901819253\n\\item 32.6745439068168\n\\end{enumerate*}\n",
            "text/plain": [
              "[1] 27.03429 32.67454\n",
              "attr(,\"conf.level\")\n",
              "[1] 0.95"
            ]
          },
          "metadata": {}
        }
      ]
    }
  ]
}