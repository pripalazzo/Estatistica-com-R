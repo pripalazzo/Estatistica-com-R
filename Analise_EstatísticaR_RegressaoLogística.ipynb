{
  "nbformat": 4,
  "nbformat_minor": 0,
  "metadata": {
    "colab": {
      "name": "Analise_EstatísticaR_RegressaoLogística.ipynb",
      "provenance": [],
      "collapsed_sections": [],
      "include_colab_link": true
    },
    "kernelspec": {
      "name": "ir",
      "display_name": "R"
    }
  },
  "cells": [
    {
      "cell_type": "markdown",
      "metadata": {
        "id": "view-in-github",
        "colab_type": "text"
      },
      "source": [
        "<a href=\"https://colab.research.google.com/github/pripalazzo/Estatistica-com-R/blob/main/Analise_Estat%C3%ADsticaR_RegressaoLog%C3%ADstica.ipynb\" target=\"_parent\"><img src=\"https://colab.research.google.com/assets/colab-badge.svg\" alt=\"Open In Colab\"/></a>"
      ]
    },
    {
      "cell_type": "markdown",
      "source": [
        "# Estatística com R - Colab \n",
        "\n",
        "**Autora**: P. P\n",
        "\n",
        "**Data:** Junho de 2022\n",
        "\n",
        "**Laboratório - IGTI - Ciência de Dados**"
      ],
      "metadata": {
        "id": "Z6VZF20ygns4"
      }
    },
    {
      "cell_type": "code",
      "source": [
        "#Instala e carrega biblioteca para gerar a curva ROC\n",
        "install.packages('pROC') #Instala\n"
      ],
      "metadata": {
        "colab": {
          "base_uri": "https://localhost:8080/"
        },
        "id": "J2XV_89T6Lvp",
        "outputId": "e08d120d-fb60-4f2d-c4e4-5c659caa2bf0"
      },
      "execution_count": 61,
      "outputs": [
        {
          "output_type": "stream",
          "name": "stderr",
          "text": [
            "Installing package into ‘/usr/local/lib/R/site-library’\n",
            "(as ‘lib’ is unspecified)\n",
            "\n"
          ]
        }
      ]
    },
    {
      "cell_type": "code",
      "source": [
        "library('pROC') #Carrega"
      ],
      "metadata": {
        "id": "zF-BlJMP7fWI"
      },
      "execution_count": 62,
      "outputs": []
    },
    {
      "cell_type": "code",
      "source": [
        "#Montando o dataset\n",
        "dados <- data.frame(\n",
        "Prova_Logica = c(2, 2, 5, 5, 5, 2, 3, 2, 1, 4, \n",
        " 5, 8, 1, 1, 3, 4, 3, 2, 1, 1, 8, 8, 1, 2, 1, 5, 3, 3, 5, 4, 4, \n",
        " 1, 8, 3, 2, 3, 3, 2, 1, 1, 5, 4, 1, 5, 3, 1, 4, 6, 1, 1, 8, 1, \n",
        " 1, 5, 1, 5, 3, 1, 1, 8, 1, 1, 1, 1, 1, 2, 1, 5, 5, 4, 2, 1, 8, \n",
        " 4, 5, 1, 3, 3, 3, 5, 3, 1, 7, 1, 1, 2, 9, 5, 3, 1, 5, 1, 4, 2, \n",
        " 1, 4, 3, 3, 8, 1, 1, 8, 5, 1, 1, 1, 5, 8, 5, 1, 4, 2, 5, 4, 5, \n",
        " 3, 3, 5, 5, 5, 5, 5, 8, 5, 4, 9, 8, 1, 3, 4, 2, 5, 1, 4, 3, 5, \n",
        " 5, 5, 6, 4, 3, 5, 7, 1, 8, 5, 7, 3, 2, 3, 2, 5, 5, 5, 5, 4, 4, \n",
        " 8, 1, 1, 2, 5, 3, 2, 7, 4, 1, 1, 1, 4, 5, 1, 1, 8, 3, 6, 8, 3, \n",
        " 1, 3, 3, 2, 8, 4, 1, 1, 1, 1, 1, 2, 3, 4, 6, 2, 3, 3, 4, 2, 1, \n",
        " 5, 2, 4, 3, 3, 1, 3, 3, 3, 1, 3, 5, 6, 1, 5, 1, 5, 4, 3, 1, 6, \n",
        " 1, 4, 9, 3, 3, 2, 1, 1, 4, 3, 1, 3, 1, 1, 3, 7, 8, 1, 3, 5, 6, \n",
        " 3, 6, 5, 8, 5, 1, 1, 4, 2, 1, 8, 7, 5, 1, 1, 1, 6, 5, 7, 3, 3, \n",
        " 5, 1, 3, 5, 1, 8, 8, 1, 2, 3, 3, 3, 3, 7, 1, 9, 8, 4, 1, 7, 1, \n",
        " 1, 1, 5, 1, 1, 5, 3, 5, 1, 3, 6, 2, 1, 3, 4, 5, 6, 1, 5, 1, 5, \n",
        " 1, 1, 5, 1, 1, 1, 5, 1, 3, 7, 1, 4, 3, 7, 1, 1, 5, 4, 1, 1, 3, \n",
        " 5, 4, 2, 1, 5, 1, 1, 1, 8, 8, 5, 1, 2, 1, 6, 8, 3, 1, 5, 1, 5, \n",
        " 1, 4, 4, 8, 1, 1, 1, 5, 1, 1, 5, 4, 6, 8, 1, 3, 1, 6, 1, 1, 1, \n",
        " 1, 1, 8, 1, 5, 3, 1, 4, 4, 7, 2, 3, 3, 5, 8, 3, 1, 4, 1, 5, 1, \n",
        " 7, 2, 6, 4, 1, 3, 1, 8, 5, 5, 5, 3, 1, 4, 5, 3, 6, 1, 3, 3, 5, \n",
        " 4, 5, 3, 1, 4, 5, 1, 3, 6, 1, 1, 1, 3, 1, 1, 1, 1, 3, 1, 5, 4, \n",
        " 8, 1, 5, 6, 6, 4, 2, 5, 5, 6, 1, 2, 5, 6, 4, 2, 1, 2, 7, 2, 8, \n",
        " 1, 3, 1, 1, 1, 6, 1, 4, 3, 1, 5, 2, 1, 1, 5, 4, 3, 1, 3, 1, 1, \n",
        " 2, 4, 5, 4, 5, 4, 3, 7, 4, 1, 7, 1, 8, 5, 3, 3, 5, 1, 2, 1, 5, \n",
        " 4, 4, 4, 3, 6, 8, 8, 1, 1, 1, 8, 8, 1, 5, 1, 4, 5, 1, 4, 1, 4,\n",
        " 1, 5, 1, 4, 4, 1, 1, 2, 5, 1, 4, 4, 5, 4, 1, 1, 5, 3, 5, 4, 1, \n",
        " 1, 5, 3, 3, 1, 5, 5, 4, 5, 7, 2, 5, 9, 4, 6, 1, 1, 1, 1, 8, 7, \n",
        " 2, 3, 2, 9, 3, 1, 5, 1, 3, 5, 1, 4, 6, 3, 1, 5, 1, 3, 9, 1, 4, \n",
        " 8, 8, 1, 3, 2, 3, 3, 1, 5, 1, 1, 3, 1, 5, 3, 4, 3, 4, 1, 4, 3, \n",
        " 5, 1, 5, 2, 5, 8, 9, 4, 7, 4, 8, 5, 7, 5, 3, 5, 6, 3, 1, 5, 6, \n",
        " 4, 3, 5, 1, 2, 4, 1, 1, 2, 9, 5, 1, 5, 1, 2, 1, 5, 1, 2, 3, 5, \n",
        " 1, 1, 5, 3, 9, 5, 6, 9, 6, 1, 1, 9, 1, 3, 5, 4, 8, 4, 2, 7, 1, \n",
        " 6, 3, 7, 8, 1, 5, 5, 6, 1, 4, 4, 3, 1, 5, 5, 8, 3, 3, 1, 9, 5, \n",
        " 5, 5, 5, 1, 9, 6, 3, 1, 1, 2, 4, 6, 5, 7, 6, 5, 1), \n",
        " Redacao = c(1, \n",
        " 1, 1, 4, 3, 3, 5, 5, 9, 1, 1, 1, 1, 1, 4, 3, 3, 1, 1, 1, 1, 7, \n",
        " 1, 1, 8, 1, 1, 1, 3, 8, 3, 1, 5, 3, 3, 1, 2, 7, 1, 1, 1, 1, 1, \n",
        " 1, 7, 1, 1, 8, 7, 1, 1, 1, 1, 1, 1, 1, 1, 1, 1, 1, 5, 1, 8, 5, \n",
        " 1, 1, 1, 1, 1, 2, 1, 1, 6, 1, 1, 1, 1, 1, 1, 1, 4, 1, 8, 5, 1, \n",
        " 5, 8, 1, 1, 1, 5, 1, 1, 1, 2, 3, 3, 1, 3, 8, 1, 4, 6, 1, 1, 1, \n",
        " 1, 3, 1, 1, 2, 3, 2, 1, 1, 1, 1, 4, 1, 1, 1, 1, 4, 1, 8, 1, 5, \n",
        " 1, 1, 1, 1, 1, 3, 6, 1, 2, 5, 6, 1, 2, 2, 1, 8, 1, 4, 6, 9, 3, \n",
        " 1, 1, 1, 1, 1, 1, 1, 1, 1, 7, 1, 1, 1, 1, 1, 1, 6, 1, 1, 1, 1, \n",
        " 1, 3, 5, 1, 1, 1, 1, 3, 1, 4, 1, 1, 1, 2, 1, 3, 1, 1, 1, 4, 5,\n",
        " 1, 1, 6, 1, 3, 1, 4, 1, 1, 1, 1, 1, 1, 1, 1, 1, 1, 1, 1, 2, 3, \n",
        " 6, 1, 8, 1, 1, 5, 1, 8, 2, 6, 1, 5, 1, 6, 1, 1, 1, 1, 1, 1, 1, \n",
        " 1, 3, 1, 4, 8, 1, 1, 1, 8, 1, 3, 1, 6, 3, 1, 1, 1, 1, 1, 1, 1, \n",
        " 1, 1, 1, 1, 1, 1, 5, 1, 1, 3, 1, 1, 7, 4, 1, 1, 1, 1, 6, 1, 3, \n",
        " 1, 4, 1, 1, 7, 2, 6, 4, 1, 1, 1, 1, 1, 4, 7, 1, 3, 1, 1, 9, 1, \n",
        " 1, 1, 1, 1, 1, 1, 3, 1, 3, 1, 3, 1, 1, 3, 2, 1, 1, 1, 5, 3, 1, \n",
        " 1, 2, 1, 1, 4, 1, 1, 1, 1, 1, 1, 1, 1, 1, 1, 1, 4, 8, 1, 7, 1, \n",
        " 1, 3, 8, 1, 1, 1, 1, 1, 4, 1, 1, 1, 2, 2, 7, 1, 3, 1, 1, 1, 4, \n",
        " 2, 4, 2, 2, 5, 3, 1, 1, 1, 5, 1, 9, 1, 1, 3, 2, 1, 1, 5, 1, 2, \n",
        " 1, 3, 8, 1, 5, 1, 4, 3, 1, 8, 1, 6, 5, 1, 1, 1, 1, 1, 4, 5, 1, \n",
        " 7, 8, 1, 4, 1, 1, 1, 1, 4, 1, 1, 2, 1, 8, 2, 6, 2, 1, 4, 1, 1, \n",
        " 1, 1, 1, 4, 1, 1, 1, 1, 1, 8, 1, 1, 1, 3, 1, 1, 1, 8, 1, 1, 1, \n",
        " 3, 1, 1, 1, 1, 1, 6, 1, 1, 1, 1, 1, 4, 1, 1, 1, 1, 1, 1, 1, 1, \n",
        " 3, 1, 2, 7, 2, 1, 1, 1, 1, 1, 2, 2, 1, 3, 1, 1, 3, 1, 1, 5, 1, \n",
        " 7, 1, 1, 1, 3, 6, 1, 1, 1, 1, 1, 1, 1, 1, 4, 1, 6, 8, 8, 7, 2, \n",
        " 1, 1, 1, 1, 1, 1, 1, 5, 1, 1, 5, 1, 1, 1, 1, 9, 1, 8, 1, 1, 2, \n",
        " 4, 1, 1, 6, 2, 1, 1, 1, 1, 1, 1, 1, 1, 2, 1, 1, 1, 1, 6, 1, 2, \n",
        " 1, 1, 5, 4, 1, 8, 4, 6, 6, 1, 1, 1, 9, 1, 1, 1, 1, 1, 8, 1, 1,\n",
        " 1, 1, 1, 3, 1, 1, 4, 1, 1, 3, 4, 1, 1, 3, 2, 3, 1, 2, 1, 1, 1, \n",
        " 1, 1, 1, 1, 1, 1, 1, 1, 1, 1, 1, 2, 3, 1, 4, 1, 4, 2, 1, 6, 1, \n",
        " 4, 2, 2, 1, 1, 1, 4, 1, 1, 1, 1, 1, 6, 1, 1, 1, 3, 2, 8, 1, 1, \n",
        " 1, 1, 1, 2, 3, 1, 1, 1, 1, 1, 1, 6, 1, 6, 7, 1, 1, 5, 1, 2, 5, \n",
        " 1, 1, 1, 1, 1, 2, 1, 3, 1, 1, 1, 8, 7, 1, 1, 1, 1, 4, 1, 6, 1, \n",
        " 2, 8, 4, 7, 1, 1, 1, 5, 1, 1, 2, 1, 1, 7, 1, 1, 1, 4, 1, 1, 3, \n",
        " 1, 5, 1, 7, 1), \n",
        " Auto_Avaliacao = c(1, 1, 1, 1, 1, 1, 1, 7, 1, \n",
        " 1, 1, 9, 1, 1, 1, 3, 6, 1, 1, 1, 1, 1, 1, 1, 1, 1, 1, 1, 1, 1, \n",
        " 1, 1, 3, 1, 1, 1, 1, 9, 1, 1, 1, 1, 1, 1, 8, 1, 1, 9, 7, 1, 2, \n",
        " 1, 1, 1, 1, 1, 1, 1, 1, 7, 1, 3, 8, 1, 1, 1, 1, 1, 1, 6, 1, 1, \n",
        " 1, 2, 1, 1, 1, 1, 1, 1, 3, 1, 8, 3, 1, 6, 1, 6, 1, 1, 3, 1, 1, \n",
        " 1, 1, 8, 5, 3, 3, 1, 1, 3, 1, 1, 1, 1, 1, 6, 1, 2, 1, 1, 1, 1, \n",
        " 1, 4, 1, 6, 1, 1, 1, 2, 3, 1, 4, 7, 6, 1, 1, 1, 1, 1, 1, 9, 1, \n",
        " 2, 1, 1, 1, 1, 2, 1, 8, 1, 8, 1, 3, 2, 1, 1, 1, 1, 2, 6, 1, 1, \n",
        " 1, 2, 1, 3, 1, 1, 8, 1, 4, 1, 1, 1, 1, 1, 1, 1, 1, 1, 1, 1, 9, \n",
        " 1, 5, 1, 1, 1, 1, 1, 5, 1, 1, 1, 3, 5, 1, 1, 1, 1, 1, 1, 3, 1, \n",
        " 1, 1, 1, 1, 1, 1, 1, 1, 1, 1, 1, 1, 3, 6, 1, 8, 1, 2, 5, 2, 1, \n",
        " 1, 7, 1, 1, 1, 8, 1, 1, 5, 1, 1, 1, 3, 1, 1, 1, 9, 1, 1, 1, 5,\n",
        " 9, 1, 5, 3, 4, 1, 1, 1, 1, 1, 1, 7, 1, 1, 1, 1, 3, 3, 1, 3, 1, \n",
        " 1, 1, 1, 1, 1, 3, 8, 1, 4, 1, 4, 1, 1, 1, 6, 1, 3, 1, 1, 2, 3, \n",
        " 1, 1, 1, 1, 1, 1, 1, 1, 9, 1, 1, 2, 2, 8, 1, 1, 1, 1, 1, 4, 1, \n",
        " 1, 1, 1, 1, 1, 2, 1, 1, 1, 1, 4, 3, 1, 1, 4, 1, 6, 2, 1, 5, 3, \n",
        " 1, 1, 2, 1, 1, 1, 1, 1, 1, 8, 3, 4, 8, 1, 3, 7, 7, 1, 1, 2, 1, \n",
        " 1, 1, 1, 1, 4, 1, 1, 1, 1, 1, 1, 1, 1, 1, 1, 1, 3, 9, 1, 1, 1, \n",
        " 1, 8, 1, 7, 1, 1, 1, 1, 1, 1, 1, 1, 2, 1, 1, 1, 2, 9, 6, 3, 3, \n",
        " 1, 2, 1, 8, 7, 1, 1, 1, 1, 1, 6, 3, 1, 4, 5, 1, 6, 1, 1, 1, 1, \n",
        " 3, 1, 1, 2, 1, 6, 3, 7, 1, 8, 3, 1, 1, 1, 1, 1, 1, 1, 1, 1, 1, \n",
        " 1, 8, 1, 1, 1, 9, 1, 1, 1, 7, 1, 1, 1, 1, 1, 1, 1, 1, 1, 1, 1, \n",
        " 1, 1, 1, 1, 3, 1, 1, 1, 1, 1, 1, 1, 1, 6, 1, 1, 1, 1, 1, 1, 2, \n",
        " 1, 1, 1, 2, 1, 7, 1, 1, 4, 2, 1, 5, 1, 5, 1, 1, 1, 4, 6, 1, 1, \n",
        " 4, 1, 2, 1, 1, 1, 9, 8, 1, 9, 1, 1, 1, 1, 1, 1, 1, 3, 1, 1, 1, \n",
        " 1, 1, 4, 1, 1, 1, 1, 7, 1, 1, 1, 1, 1, 3, 1, 1, 8, 1, 1, 6, 1, \n",
        " 1, 1, 2, 1, 1, 1, 1, 1, 1, 2, 5, 1, 6, 3, 1, 4, 3, 1, 7, 5, 1, \n",
        " 1, 1, 1, 1, 1, 2, 1, 5, 9, 1, 1, 1, 2, 1, 1, 1, 1, 3, 1, 8, 1, \n",
        " 1, 2, 5, 1, 1, 5, 1, 4, 1, 1, 1, 1, 1, 1, 1, 1, 1, 1, 1, 1, 1, \n",
        " 1, 1, 1, 1, 1, 1, 3, 1, 1, 3, 1, 5, 1, 8, 1, 1, 1, 1, 1, 1, 1,\n",
        " 1, 1, 1, 1, 6, 1, 1, 1, 2, 1, 1, 2, 1, 1, 1, 1, 2, 1, 1, 1, 1, \n",
        " 1, 1, 1, 6, 1, 9, 5, 3, 1, 8, 1, 1, 3, 1, 1, 1, 1, 1, 1, 1, 2, \n",
        " 1, 1, 1, 8, 1, 1, 1, 1, 1, 1, 1, 7, 1, 1, 1, 1, 1, 1, 1, 1, 1, \n",
        " 1, 1, 1, 1, 2, 8, 1, 1, 1, 6, 1, 1, 1, 1, 9, 1, 1, 1),\n",
        "Classe = c(\"Ruim\", \n",
        " \"Ruim\", \"Ruim\", \"Boa\", \"Ruim\", \"Ruim\", \"Boa\", \"Boa\", \"Boa\", \"Ruim\", \n",
        " \"Ruim\", \"Boa\", \"Ruim\", \"Ruim\", \"Boa\", \"Ruim\", \"Ruim\", \"Ruim\", \n",
        " \"Ruim\", \"Ruim\", \"Boa\", \"Boa\", \"Ruim\", \"Ruim\", \"Boa\", \"Ruim\", \n",
        " \"Ruim\", \"Ruim\", \"Boa\", \"Boa\", \"Ruim\", \"Ruim\", \"Boa\", \"Boa\", \"Ruim\", \n",
        " \"Ruim\", \"Ruim\", \"Boa\", \"Ruim\", \"Ruim\", \"Boa\", \"Ruim\", \"Ruim\", \n",
        " \"Ruim\", \"Boa\", \"Ruim\", \"Ruim\", \"Boa\", \"Boa\", \"Ruim\", \"Boa\", \"Ruim\", \n",
        " \"Ruim\", \"Ruim\", \"Ruim\", \"Ruim\", \"Ruim\", \"Ruim\", \"Ruim\", \"Boa\", \n",
        " \"Boa\", \"Boa\", \"Boa\", \"Boa\", \"Ruim\", \"Ruim\", \"Ruim\", \"Ruim\", \"Ruim\", \n",
        " \"Boa\", \"Ruim\", \"Boa\", \"Boa\", \"Ruim\", \"Ruim\", \"Ruim\", \"Ruim\", \n",
        " \"Ruim\", \"Ruim\", \"Ruim\", \"Boa\", \"Ruim\", \"Boa\", \"Boa\", \"Ruim\", \n",
        " \"Boa\", \"Boa\", \"Boa\", \"Ruim\", \"Ruim\", \"Boa\", \"Ruim\", \"Ruim\", \"Ruim\", \n",
        " \"Ruim\", \"Ruim\", \"Ruim\", \"Boa\", \"Boa\", \"Boa\", \"Ruim\", \"Ruim\", \n",
        " \"Boa\", \"Ruim\", \"Ruim\", \"Ruim\", \"Ruim\", \"Boa\", \"Boa\", \"Boa\", \"Ruim\",\n",
        " \"Ruim\", \"Ruim\", \"Ruim\", \"Ruim\", \"Boa\", \"Ruim\", \"Ruim\", \"Ruim\", \n",
        " \"Ruim\", \"Boa\", \"Ruim\", \"Boa\", \"Ruim\", \"Boa\", \"Boa\", \"Boa\", \"Ruim\", \n",
        " \"Ruim\", \"Boa\", \"Ruim\", \"Ruim\", \"Boa\", \"Ruim\", \"Ruim\", \"Ruim\", \n",
        " \"Boa\", \"Boa\", \"Boa\", \"Ruim\", \"Ruim\", \"Ruim\", \"Boa\", \"Ruim\", \"Ruim\", \n",
        " \"Boa\", \"Boa\", \"Ruim\", \"Ruim\", \"Ruim\", \"Ruim\", \"Ruim\", \"Ruim\", \n",
        " \"Boa\", \"Ruim\", \"Ruim\", \"Ruim\", \"Boa\", \"Ruim\", \"Ruim\", \"Ruim\", \n",
        " \"Ruim\", \"Ruim\", \"Ruim\", \"Boa\", \"Boa\", \"Ruim\", \"Ruim\", \"Ruim\", \n",
        " \"Ruim\", \"Ruim\", \"Boa\", \"Boa\", \"Boa\", \"Ruim\", \"Boa\", \"Boa\", \"Ruim\", \n",
        " \"Boa\", \"Ruim\", \"Ruim\", \"Ruim\", \"Ruim\", \"Ruim\", \"Boa\", \"Ruim\", \n",
        " \"Ruim\", \"Ruim\", \"Boa\", \"Boa\", \"Ruim\", \"Ruim\", \"Boa\", \"Ruim\", \n",
        " \"Ruim\", \"Ruim\", \"Ruim\", \"Ruim\", \"Ruim\", \"Ruim\", \"Ruim\", \"Ruim\", \n",
        " \"Ruim\", \"Ruim\", \"Ruim\", \"Ruim\", \"Ruim\", \"Ruim\", \"Ruim\", \"Ruim\", \n",
        " \"Boa\", \"Boa\", \"Ruim\", \"Boa\", \"Ruim\", \"Ruim\", \"Boa\", \"Ruim\", \"Boa\", \n",
        " \"Ruim\", \"Boa\", \"Ruim\", \"Boa\", \"Ruim\", \"Boa\", \"Ruim\", \"Ruim\", \n",
        " \"Boa\", \"Ruim\", \"Ruim\", \"Ruim\", \"Ruim\", \"Ruim\", \"Boa\", \"Ruim\", \n",
        " \"Boa\", \"Boa\", \"Ruim\", \"Ruim\", \"Boa\", \"Boa\", \"Ruim\", \"Ruim\", \"Ruim\", \n",
        " \"Boa\", \"Ruim\", \"Ruim\", \"Ruim\", \"Ruim\", \"Ruim\", \"Ruim\", \"Boa\", \n",
        " \"Ruim\", \"Ruim\", \"Ruim\", \"Ruim\", \"Ruim\", \"Boa\", \"Ruim\", \"Boa\",\n",
        " \"Ruim\", \"Ruim\", \"Boa\", \"Ruim\", \"Ruim\", \"Boa\", \"Boa\", \"Boa\", \"Boa\", \n",
        " \"Boa\", \"Ruim\", \"Boa\", \"Ruim\", \"Ruim\", \"Ruim\", \"Boa\", \"Ruim\", \n",
        " \"Boa\", \"Boa\", \"Ruim\", \"Boa\", \"Boa\", \"Ruim\", \"Ruim\", \"Ruim\", \"Ruim\", \n",
        " \"Ruim\", \"Boa\", \"Boa\", \"Ruim\", \"Boa\", \"Ruim\", \"Ruim\", \"Ruim\", \n",
        " \"Ruim\", \"Boa\", \"Ruim\", \"Ruim\", \"Ruim\", \"Boa\", \"Boa\", \"Boa\", \"Ruim\", \n",
        " \"Ruim\", \"Ruim\", \"Boa\", \"Ruim\", \"Ruim\", \"Ruim\", \"Ruim\", \"Ruim\", \n",
        " \"Ruim\", \"Ruim\", \"Boa\", \"Ruim\", \"Ruim\", \"Ruim\", \"Boa\", \"Ruim\", \n",
        " \"Boa\", \"Ruim\", \"Boa\", \"Boa\", \"Boa\", \"Ruim\", \"Ruim\", \"Ruim\", \"Ruim\", \n",
        " \"Ruim\", \"Ruim\", \"Ruim\", \"Ruim\", \"Boa\", \"Boa\", \"Boa\", \"Ruim\", \n",
        " \"Boa\", \"Ruim\", \"Boa\", \"Ruim\", \"Boa\", \"Ruim\", \"Ruim\", \"Ruim\", \n",
        " \"Ruim\", \"Boa\", \"Ruim\", \"Ruim\", \"Ruim\", \"Boa\", \"Ruim\", \"Boa\", \n",
        " \"Ruim\", \"Ruim\", \"Boa\", \"Ruim\", \"Ruim\", \"Ruim\", \"Ruim\", \"Boa\", \n",
        " \"Ruim\", \"Ruim\", \"Boa\", \"Ruim\", \"Ruim\", \"Boa\", \"Ruim\", \"Boa\", \n",
        " \"Ruim\", \"Boa\", \"Ruim\", \"Ruim\", \"Boa\", \"Ruim\", \"Ruim\", \"Ruim\", \n",
        " \"Boa\", \"Ruim\", \"Ruim\", \"Ruim\", \"Ruim\", \"Boa\", \"Ruim\", \"Boa\", \n",
        " \"Ruim\", \"Boa\", \"Boa\", \"Ruim\", \"Boa\", \"Ruim\", \"Ruim\", \"Boa\", \"Ruim\", \n",
        " \"Ruim\", \"Boa\", \"Boa\", \"Ruim\", \"Boa\", \"Boa\", \"Ruim\", \"Boa\", \"Boa\", \n",
        " \"Ruim\", \"Ruim\", \"Ruim\", \"Ruim\", \"Ruim\", \"Ruim\", \"Boa\", \"Ruim\",\n",
        " \"Ruim\", \"Ruim\", \"Ruim\", \"Boa\", \"Ruim\", \"Boa\", \"Ruim\", \"Boa\", \n",
        " \"Boa\", \"Ruim\", \"Ruim\", \"Ruim\", \"Ruim\", \"Ruim\", \"Boa\", \"Ruim\", \n",
        " \"Ruim\", \"Ruim\", \"Ruim\", \"Ruim\", \"Boa\", \"Ruim\", \"Ruim\", \"Ruim\", \n",
        " \"Boa\", \"Ruim\", \"Ruim\", \"Ruim\", \"Boa\", \"Ruim\", \"Ruim\", \"Ruim\", \n",
        " \"Ruim\", \"Boa\", \"Ruim\", \"Ruim\", \"Ruim\", \"Ruim\", \"Boa\", \"Ruim\", \n",
        " \"Boa\", \"Ruim\", \"Ruim\", \"Ruim\", \"Boa\", \"Ruim\", \"Ruim\", \"Ruim\", \n",
        " \"Ruim\", \"Ruim\", \"Ruim\", \"Ruim\", \"Ruim\", \"Boa\", \"Ruim\", \"Boa\", \n",
        " \"Boa\", \"Ruim\", \"Ruim\", \"Ruim\", \"Ruim\", \"Ruim\", \"Ruim\", \"Ruim\", \n",
        " \"Ruim\", \"Ruim\", \"Ruim\", \"Ruim\", \"Ruim\", \"Boa\", \"Ruim\", \"Ruim\", \n",
        " \"Boa\", \"Ruim\", \"Boa\", \"Ruim\", \"Ruim\", \"Ruim\", \"Boa\", \"Boa\", \"Ruim\", \n",
        " \"Ruim\", \"Boa\", \"Ruim\", \"Ruim\", \"Ruim\", \"Ruim\", \"Ruim\", \"Boa\", \n",
        " \"Boa\", \"Boa\", \"Boa\", \"Boa\", \"Boa\", \"Boa\", \"Ruim\", \"Ruim\", \"Ruim\", \n",
        " \"Ruim\", \"Ruim\", \"Boa\", \"Ruim\", \"Boa\", \"Ruim\", \"Ruim\", \"Boa\", \n",
        " \"Ruim\", \"Ruim\", \"Ruim\", \"Ruim\", \"Boa\", \"Ruim\", \"Boa\", \"Ruim\", \n",
        " \"Ruim\", \"Ruim\", \"Ruim\", \"Ruim\", \"Ruim\", \"Boa\", \"Ruim\", \"Ruim\", \n",
        " \"Boa\", \"Ruim\", \"Ruim\", \"Ruim\", \"Ruim\", \"Ruim\", \"Ruim\", \"Boa\", \n",
        " \"Boa\", \"Ruim\", \"Ruim\", \"Ruim\", \"Boa\", \"Ruim\", \"Boa\", \"Boa\", \"Ruim\", \n",
        " \"Boa\", \"Boa\", \"Ruim\", \"Boa\", \"Boa\", \"Boa\", \"Boa\", \"Ruim\", \"Ruim\",\n",
        " \"Ruim\", \"Boa\", \"Ruim\", \"Ruim\", \"Boa\", \"Boa\", \"Ruim\", \"Boa\", \"Ruim\", \n",
        " \"Ruim\", \"Boa\", \"Ruim\", \"Boa\", \"Boa\", \"Boa\", \"Ruim\", \"Boa\", \"Ruim\", \n",
        " \"Ruim\", \"Ruim\", \"Boa\", \"Ruim\", \"Ruim\", \"Boa\", \"Ruim\", \"Boa\", \n",
        " \"Ruim\", \"Ruim\", \"Ruim\", \"Ruim\", \"Ruim\", \"Boa\", \"Ruim\", \"Ruim\", \n",
        " \"Ruim\", \"Ruim\", \"Ruim\", \"Boa\", \"Ruim\", \"Ruim\", \"Ruim\", \"Ruim\", \n",
        " \"Ruim\", \"Ruim\", \"Boa\", \"Boa\", \"Boa\", \"Ruim\", \"Boa\", \"Ruim\", \"Boa\", \n",
        " \"Ruim\", \"Boa\", \"Ruim\", \"Ruim\", \"Ruim\", \"Ruim\", \"Ruim\", \"Boa\", \n",
        " \"Ruim\", \"Ruim\", \"Ruim\", \"Ruim\", \"Boa\", \"Boa\", \"Ruim\", \"Ruim\", \n",
        " \"Ruim\", \"Ruim\", \"Ruim\", \"Boa\", \"Ruim\", \"Ruim\", \"Ruim\", \"Boa\", \n",
        " \"Ruim\", \"Ruim\", \"Ruim\", \"Ruim\", \"Ruim\", \"Ruim\", \"Boa\", \"Ruim\", \n",
        " \"Ruim\", \"Boa\", \"Ruim\", \"Boa\", \"Boa\", \"Boa\", \"Boa\", \"Boa\", \"Boa\", \n",
        " \"Ruim\", \"Boa\", \"Ruim\", \"Ruim\", \"Ruim\", \"Ruim\", \"Boa\", \"Ruim\", \n",
        " \"Ruim\", \"Boa\", \"Ruim\", \"Ruim\", \"Ruim\", \"Boa\", \"Boa\", \"Ruim\", \n",
        " \"Ruim\", \"Ruim\", \"Boa\", \"Boa\", \"Ruim\", \"Boa\", \"Ruim\", \"Ruim\", \n",
        " \"Boa\", \"Boa\", \"Boa\", \"Ruim\", \"Ruim\", \"Ruim\", \"Boa\", \"Ruim\", \"Ruim\", \n",
        " \"Ruim\", \"Ruim\", \"Ruim\", \"Boa\", \"Ruim\", \"Boa\", \"Ruim\", \"Boa\", \n",
        " \"Ruim\", \"Ruim\", \"Boa\", \"Ruim\", \"Boa\", \"Boa\", \"Boa\", \"Ruim\"))\n",
        "\n",
        "#Visualiza o conjunto de dados\n",
        "View(dados)"
      ],
      "metadata": {
        "id": "eZHnibr66ReM",
        "colab": {
          "base_uri": "https://localhost:8080/",
          "height": 1000
        },
        "outputId": "a48e7c2b-49c0-43f9-c740-ec53a84413fc"
      },
      "execution_count": 63,
      "outputs": [
        {
          "output_type": "display_data",
          "data": {
            "text/plain": [
              "    Prova_Logica Redacao Auto_Avaliacao Classe\n",
              "1   2            1       1              Ruim  \n",
              "2   2            1       1              Ruim  \n",
              "3   5            1       1              Ruim  \n",
              "4   5            4       1              Boa   \n",
              "5   5            3       1              Ruim  \n",
              "6   2            3       1              Ruim  \n",
              "7   3            5       1              Boa   \n",
              "8   2            5       7              Boa   \n",
              "9   1            9       1              Boa   \n",
              "10  4            1       1              Ruim  \n",
              "11  5            1       1              Ruim  \n",
              "12  8            1       9              Boa   \n",
              "13  1            1       1              Ruim  \n",
              "14  1            1       1              Ruim  \n",
              "15  3            4       1              Boa   \n",
              "16  4            3       3              Ruim  \n",
              "17  3            3       6              Ruim  \n",
              "18  2            1       1              Ruim  \n",
              "19  1            1       1              Ruim  \n",
              "20  1            1       1              Ruim  \n",
              "21  8            1       1              Boa   \n",
              "22  8            7       1              Boa   \n",
              "23  1            1       1              Ruim  \n",
              "24  2            1       1              Ruim  \n",
              "25  1            8       1              Boa   \n",
              "26  5            1       1              Ruim  \n",
              "27  3            1       1              Ruim  \n",
              "28  3            1       1              Ruim  \n",
              "29  5            3       1              Boa   \n",
              "30  4            8       1              Boa   \n",
              "⋮   ⋮            ⋮       ⋮              ⋮     \n",
              "670 1            4       1              Boa   \n",
              "671 4            1       1              Ruim  \n",
              "672 4            6       7              Boa   \n",
              "673 3            1       1              Ruim  \n",
              "674 1            2       1              Ruim  \n",
              "675 5            8       1              Boa   \n",
              "676 5            4       1              Boa   \n",
              "677 8            7       1              Boa   \n",
              "678 3            1       1              Ruim  \n",
              "679 3            1       1              Ruim  \n",
              "680 1            1       1              Ruim  \n",
              "681 9            5       1              Boa   \n",
              "682 5            1       1              Ruim  \n",
              "683 5            1       1              Ruim  \n",
              "684 5            2       1              Ruim  \n",
              "685 5            1       1              Ruim  \n",
              "686 1            1       2              Ruim  \n",
              "687 9            7       8              Boa   \n",
              "688 6            1       1              Ruim  \n",
              "689 3            1       1              Boa   \n",
              "690 1            1       1              Ruim  \n",
              "691 1            4       6              Boa   \n",
              "692 2            1       1              Ruim  \n",
              "693 4            1       1              Ruim  \n",
              "694 6            3       1              Boa   \n",
              "695 5            1       1              Ruim  \n",
              "696 7            5       9              Boa   \n",
              "697 6            1       1              Boa   \n",
              "698 5            7       1              Boa   \n",
              "699 1            1       1              Ruim  "
            ],
            "text/html": [
              "<table class=\"dataframe\">\n",
              "<caption>A data.frame: 699 × 4</caption>\n",
              "<thead>\n",
              "\t<tr><th scope=col>Prova_Logica</th><th scope=col>Redacao</th><th scope=col>Auto_Avaliacao</th><th scope=col>Classe</th></tr>\n",
              "\t<tr><th scope=col>&lt;dbl&gt;</th><th scope=col>&lt;dbl&gt;</th><th scope=col>&lt;dbl&gt;</th><th scope=col>&lt;chr&gt;</th></tr>\n",
              "</thead>\n",
              "<tbody>\n",
              "\t<tr><td>2</td><td>1</td><td>1</td><td>Ruim</td></tr>\n",
              "\t<tr><td>2</td><td>1</td><td>1</td><td>Ruim</td></tr>\n",
              "\t<tr><td>5</td><td>1</td><td>1</td><td>Ruim</td></tr>\n",
              "\t<tr><td>5</td><td>4</td><td>1</td><td>Boa </td></tr>\n",
              "\t<tr><td>5</td><td>3</td><td>1</td><td>Ruim</td></tr>\n",
              "\t<tr><td>2</td><td>3</td><td>1</td><td>Ruim</td></tr>\n",
              "\t<tr><td>3</td><td>5</td><td>1</td><td>Boa </td></tr>\n",
              "\t<tr><td>2</td><td>5</td><td>7</td><td>Boa </td></tr>\n",
              "\t<tr><td>1</td><td>9</td><td>1</td><td>Boa </td></tr>\n",
              "\t<tr><td>4</td><td>1</td><td>1</td><td>Ruim</td></tr>\n",
              "\t<tr><td>5</td><td>1</td><td>1</td><td>Ruim</td></tr>\n",
              "\t<tr><td>8</td><td>1</td><td>9</td><td>Boa </td></tr>\n",
              "\t<tr><td>1</td><td>1</td><td>1</td><td>Ruim</td></tr>\n",
              "\t<tr><td>1</td><td>1</td><td>1</td><td>Ruim</td></tr>\n",
              "\t<tr><td>3</td><td>4</td><td>1</td><td>Boa </td></tr>\n",
              "\t<tr><td>4</td><td>3</td><td>3</td><td>Ruim</td></tr>\n",
              "\t<tr><td>3</td><td>3</td><td>6</td><td>Ruim</td></tr>\n",
              "\t<tr><td>2</td><td>1</td><td>1</td><td>Ruim</td></tr>\n",
              "\t<tr><td>1</td><td>1</td><td>1</td><td>Ruim</td></tr>\n",
              "\t<tr><td>1</td><td>1</td><td>1</td><td>Ruim</td></tr>\n",
              "\t<tr><td>8</td><td>1</td><td>1</td><td>Boa </td></tr>\n",
              "\t<tr><td>8</td><td>7</td><td>1</td><td>Boa </td></tr>\n",
              "\t<tr><td>1</td><td>1</td><td>1</td><td>Ruim</td></tr>\n",
              "\t<tr><td>2</td><td>1</td><td>1</td><td>Ruim</td></tr>\n",
              "\t<tr><td>1</td><td>8</td><td>1</td><td>Boa </td></tr>\n",
              "\t<tr><td>5</td><td>1</td><td>1</td><td>Ruim</td></tr>\n",
              "\t<tr><td>3</td><td>1</td><td>1</td><td>Ruim</td></tr>\n",
              "\t<tr><td>3</td><td>1</td><td>1</td><td>Ruim</td></tr>\n",
              "\t<tr><td>5</td><td>3</td><td>1</td><td>Boa </td></tr>\n",
              "\t<tr><td>4</td><td>8</td><td>1</td><td>Boa </td></tr>\n",
              "\t<tr><td>⋮</td><td>⋮</td><td>⋮</td><td>⋮</td></tr>\n",
              "\t<tr><td>1</td><td>4</td><td>1</td><td>Boa </td></tr>\n",
              "\t<tr><td>4</td><td>1</td><td>1</td><td>Ruim</td></tr>\n",
              "\t<tr><td>4</td><td>6</td><td>7</td><td>Boa </td></tr>\n",
              "\t<tr><td>3</td><td>1</td><td>1</td><td>Ruim</td></tr>\n",
              "\t<tr><td>1</td><td>2</td><td>1</td><td>Ruim</td></tr>\n",
              "\t<tr><td>5</td><td>8</td><td>1</td><td>Boa </td></tr>\n",
              "\t<tr><td>5</td><td>4</td><td>1</td><td>Boa </td></tr>\n",
              "\t<tr><td>8</td><td>7</td><td>1</td><td>Boa </td></tr>\n",
              "\t<tr><td>3</td><td>1</td><td>1</td><td>Ruim</td></tr>\n",
              "\t<tr><td>3</td><td>1</td><td>1</td><td>Ruim</td></tr>\n",
              "\t<tr><td>1</td><td>1</td><td>1</td><td>Ruim</td></tr>\n",
              "\t<tr><td>9</td><td>5</td><td>1</td><td>Boa </td></tr>\n",
              "\t<tr><td>5</td><td>1</td><td>1</td><td>Ruim</td></tr>\n",
              "\t<tr><td>5</td><td>1</td><td>1</td><td>Ruim</td></tr>\n",
              "\t<tr><td>5</td><td>2</td><td>1</td><td>Ruim</td></tr>\n",
              "\t<tr><td>5</td><td>1</td><td>1</td><td>Ruim</td></tr>\n",
              "\t<tr><td>1</td><td>1</td><td>2</td><td>Ruim</td></tr>\n",
              "\t<tr><td>9</td><td>7</td><td>8</td><td>Boa </td></tr>\n",
              "\t<tr><td>6</td><td>1</td><td>1</td><td>Ruim</td></tr>\n",
              "\t<tr><td>3</td><td>1</td><td>1</td><td>Boa </td></tr>\n",
              "\t<tr><td>1</td><td>1</td><td>1</td><td>Ruim</td></tr>\n",
              "\t<tr><td>1</td><td>4</td><td>6</td><td>Boa </td></tr>\n",
              "\t<tr><td>2</td><td>1</td><td>1</td><td>Ruim</td></tr>\n",
              "\t<tr><td>4</td><td>1</td><td>1</td><td>Ruim</td></tr>\n",
              "\t<tr><td>6</td><td>3</td><td>1</td><td>Boa </td></tr>\n",
              "\t<tr><td>5</td><td>1</td><td>1</td><td>Ruim</td></tr>\n",
              "\t<tr><td>7</td><td>5</td><td>9</td><td>Boa </td></tr>\n",
              "\t<tr><td>6</td><td>1</td><td>1</td><td>Boa </td></tr>\n",
              "\t<tr><td>5</td><td>7</td><td>1</td><td>Boa </td></tr>\n",
              "\t<tr><td>1</td><td>1</td><td>1</td><td>Ruim</td></tr>\n",
              "</tbody>\n",
              "</table>\n"
            ],
            "text/markdown": "\nA data.frame: 699 × 4\n\n| Prova_Logica &lt;dbl&gt; | Redacao &lt;dbl&gt; | Auto_Avaliacao &lt;dbl&gt; | Classe &lt;chr&gt; |\n|---|---|---|---|\n| 2 | 1 | 1 | Ruim |\n| 2 | 1 | 1 | Ruim |\n| 5 | 1 | 1 | Ruim |\n| 5 | 4 | 1 | Boa  |\n| 5 | 3 | 1 | Ruim |\n| 2 | 3 | 1 | Ruim |\n| 3 | 5 | 1 | Boa  |\n| 2 | 5 | 7 | Boa  |\n| 1 | 9 | 1 | Boa  |\n| 4 | 1 | 1 | Ruim |\n| 5 | 1 | 1 | Ruim |\n| 8 | 1 | 9 | Boa  |\n| 1 | 1 | 1 | Ruim |\n| 1 | 1 | 1 | Ruim |\n| 3 | 4 | 1 | Boa  |\n| 4 | 3 | 3 | Ruim |\n| 3 | 3 | 6 | Ruim |\n| 2 | 1 | 1 | Ruim |\n| 1 | 1 | 1 | Ruim |\n| 1 | 1 | 1 | Ruim |\n| 8 | 1 | 1 | Boa  |\n| 8 | 7 | 1 | Boa  |\n| 1 | 1 | 1 | Ruim |\n| 2 | 1 | 1 | Ruim |\n| 1 | 8 | 1 | Boa  |\n| 5 | 1 | 1 | Ruim |\n| 3 | 1 | 1 | Ruim |\n| 3 | 1 | 1 | Ruim |\n| 5 | 3 | 1 | Boa  |\n| 4 | 8 | 1 | Boa  |\n| ⋮ | ⋮ | ⋮ | ⋮ |\n| 1 | 4 | 1 | Boa  |\n| 4 | 1 | 1 | Ruim |\n| 4 | 6 | 7 | Boa  |\n| 3 | 1 | 1 | Ruim |\n| 1 | 2 | 1 | Ruim |\n| 5 | 8 | 1 | Boa  |\n| 5 | 4 | 1 | Boa  |\n| 8 | 7 | 1 | Boa  |\n| 3 | 1 | 1 | Ruim |\n| 3 | 1 | 1 | Ruim |\n| 1 | 1 | 1 | Ruim |\n| 9 | 5 | 1 | Boa  |\n| 5 | 1 | 1 | Ruim |\n| 5 | 1 | 1 | Ruim |\n| 5 | 2 | 1 | Ruim |\n| 5 | 1 | 1 | Ruim |\n| 1 | 1 | 2 | Ruim |\n| 9 | 7 | 8 | Boa  |\n| 6 | 1 | 1 | Ruim |\n| 3 | 1 | 1 | Boa  |\n| 1 | 1 | 1 | Ruim |\n| 1 | 4 | 6 | Boa  |\n| 2 | 1 | 1 | Ruim |\n| 4 | 1 | 1 | Ruim |\n| 6 | 3 | 1 | Boa  |\n| 5 | 1 | 1 | Ruim |\n| 7 | 5 | 9 | Boa  |\n| 6 | 1 | 1 | Boa  |\n| 5 | 7 | 1 | Boa  |\n| 1 | 1 | 1 | Ruim |\n\n",
            "text/latex": "A data.frame: 699 × 4\n\\begin{tabular}{llll}\n Prova\\_Logica & Redacao & Auto\\_Avaliacao & Classe\\\\\n <dbl> & <dbl> & <dbl> & <chr>\\\\\n\\hline\n\t 2 & 1 & 1 & Ruim\\\\\n\t 2 & 1 & 1 & Ruim\\\\\n\t 5 & 1 & 1 & Ruim\\\\\n\t 5 & 4 & 1 & Boa \\\\\n\t 5 & 3 & 1 & Ruim\\\\\n\t 2 & 3 & 1 & Ruim\\\\\n\t 3 & 5 & 1 & Boa \\\\\n\t 2 & 5 & 7 & Boa \\\\\n\t 1 & 9 & 1 & Boa \\\\\n\t 4 & 1 & 1 & Ruim\\\\\n\t 5 & 1 & 1 & Ruim\\\\\n\t 8 & 1 & 9 & Boa \\\\\n\t 1 & 1 & 1 & Ruim\\\\\n\t 1 & 1 & 1 & Ruim\\\\\n\t 3 & 4 & 1 & Boa \\\\\n\t 4 & 3 & 3 & Ruim\\\\\n\t 3 & 3 & 6 & Ruim\\\\\n\t 2 & 1 & 1 & Ruim\\\\\n\t 1 & 1 & 1 & Ruim\\\\\n\t 1 & 1 & 1 & Ruim\\\\\n\t 8 & 1 & 1 & Boa \\\\\n\t 8 & 7 & 1 & Boa \\\\\n\t 1 & 1 & 1 & Ruim\\\\\n\t 2 & 1 & 1 & Ruim\\\\\n\t 1 & 8 & 1 & Boa \\\\\n\t 5 & 1 & 1 & Ruim\\\\\n\t 3 & 1 & 1 & Ruim\\\\\n\t 3 & 1 & 1 & Ruim\\\\\n\t 5 & 3 & 1 & Boa \\\\\n\t 4 & 8 & 1 & Boa \\\\\n\t ⋮ & ⋮ & ⋮ & ⋮\\\\\n\t 1 & 4 & 1 & Boa \\\\\n\t 4 & 1 & 1 & Ruim\\\\\n\t 4 & 6 & 7 & Boa \\\\\n\t 3 & 1 & 1 & Ruim\\\\\n\t 1 & 2 & 1 & Ruim\\\\\n\t 5 & 8 & 1 & Boa \\\\\n\t 5 & 4 & 1 & Boa \\\\\n\t 8 & 7 & 1 & Boa \\\\\n\t 3 & 1 & 1 & Ruim\\\\\n\t 3 & 1 & 1 & Ruim\\\\\n\t 1 & 1 & 1 & Ruim\\\\\n\t 9 & 5 & 1 & Boa \\\\\n\t 5 & 1 & 1 & Ruim\\\\\n\t 5 & 1 & 1 & Ruim\\\\\n\t 5 & 2 & 1 & Ruim\\\\\n\t 5 & 1 & 1 & Ruim\\\\\n\t 1 & 1 & 2 & Ruim\\\\\n\t 9 & 7 & 8 & Boa \\\\\n\t 6 & 1 & 1 & Ruim\\\\\n\t 3 & 1 & 1 & Boa \\\\\n\t 1 & 1 & 1 & Ruim\\\\\n\t 1 & 4 & 6 & Boa \\\\\n\t 2 & 1 & 1 & Ruim\\\\\n\t 4 & 1 & 1 & Ruim\\\\\n\t 6 & 3 & 1 & Boa \\\\\n\t 5 & 1 & 1 & Ruim\\\\\n\t 7 & 5 & 9 & Boa \\\\\n\t 6 & 1 & 1 & Boa \\\\\n\t 5 & 7 & 1 & Boa \\\\\n\t 1 & 1 & 1 & Ruim\\\\\n\\end{tabular}\n"
          },
          "metadata": {}
        }
      ]
    },
    {
      "cell_type": "code",
      "source": [
        "#Converte variavel resposta para factor\n",
        "dados$Classe <- factor(dados$Classe, levels = c('Ruim','Boa'))"
      ],
      "metadata": {
        "id": "Yp0pl_Vu7Lzb"
      },
      "execution_count": 64,
      "outputs": []
    },
    {
      "cell_type": "code",
      "source": [
        "library(dplyr)"
      ],
      "metadata": {
        "id": "_2T9oDLJ_D4p"
      },
      "execution_count": 65,
      "outputs": []
    },
    {
      "cell_type": "code",
      "source": [
        "#Pequena analisa exploratoria\n",
        "dados %>% group_by(Classe) %>% summarise_all('mean')"
      ],
      "metadata": {
        "colab": {
          "base_uri": "https://localhost:8080/",
          "height": 161
        },
        "id": "mXM4bZZ-6IhH",
        "outputId": "e9eab6dd-675b-4f7a-ab2a-a80c7735fc19"
      },
      "execution_count": 66,
      "outputs": [
        {
          "output_type": "display_data",
          "data": {
            "text/html": [
              "<table class=\"dataframe\">\n",
              "<caption>A tibble: 2 × 4</caption>\n",
              "<thead>\n",
              "\t<tr><th scope=col>Classe</th><th scope=col>Prova_Logica</th><th scope=col>Redacao</th><th scope=col>Auto_Avaliacao</th></tr>\n",
              "\t<tr><th scope=col>&lt;fct&gt;</th><th scope=col>&lt;dbl&gt;</th><th scope=col>&lt;dbl&gt;</th><th scope=col>&lt;dbl&gt;</th></tr>\n",
              "</thead>\n",
              "<tbody>\n",
              "\t<tr><td>Ruim</td><td>2.956332</td><td>1.325328</td><td>1.290393</td></tr>\n",
              "\t<tr><td>Boa </td><td>4.622407</td><td>4.070539</td><td>3.585062</td></tr>\n",
              "</tbody>\n",
              "</table>\n"
            ],
            "text/markdown": "\nA tibble: 2 × 4\n\n| Classe &lt;fct&gt; | Prova_Logica &lt;dbl&gt; | Redacao &lt;dbl&gt; | Auto_Avaliacao &lt;dbl&gt; |\n|---|---|---|---|\n| Ruim | 2.956332 | 1.325328 | 1.290393 |\n| Boa  | 4.622407 | 4.070539 | 3.585062 |\n\n",
            "text/latex": "A tibble: 2 × 4\n\\begin{tabular}{llll}\n Classe & Prova\\_Logica & Redacao & Auto\\_Avaliacao\\\\\n <fct> & <dbl> & <dbl> & <dbl>\\\\\n\\hline\n\t Ruim & 2.956332 & 1.325328 & 1.290393\\\\\n\t Boa  & 4.622407 & 4.070539 & 3.585062\\\\\n\\end{tabular}\n",
            "text/plain": [
              "  Classe Prova_Logica Redacao  Auto_Avaliacao\n",
              "1 Ruim   2.956332     1.325328 1.290393      \n",
              "2 Boa    4.622407     4.070539 3.585062      "
            ]
          },
          "metadata": {}
        }
      ]
    },
    {
      "cell_type": "code",
      "source": [
        "#Ajusta regressao logistica (caso outras distribuições, é só trocar para poisson, etc)\n",
        "fit <- glm(Classe ~ Prova_Logica + Redacao + Auto_Avaliacao ,\n",
        " data = dados,\n",
        " family = binomial)"
      ],
      "metadata": {
        "id": "erpgPrra6N6P"
      },
      "execution_count": 67,
      "outputs": []
    },
    {
      "cell_type": "code",
      "source": [
        "#Visualiza resumo do modelo ajustado\n",
        "summary(fit)"
      ],
      "metadata": {
        "colab": {
          "base_uri": "https://localhost:8080/",
          "height": 451
        },
        "id": "EPYXEFUY6XtM",
        "outputId": "6c1a7b61-e724-4b2f-80f4-da79703f076a"
      },
      "execution_count": 68,
      "outputs": [
        {
          "output_type": "display_data",
          "data": {
            "text/plain": [
              "\n",
              "Call:\n",
              "glm(formula = Classe ~ Prova_Logica + Redacao + Auto_Avaliacao, \n",
              "    family = binomial, data = dados)\n",
              "\n",
              "Deviance Residuals: \n",
              "    Min       1Q   Median       3Q      Max  \n",
              "-3.4470  -0.5346  -0.3941   0.2987   2.2777  \n",
              "\n",
              "Coefficients:\n",
              "               Estimate Std. Error z value Pr(>|z|)    \n",
              "(Intercept)    -3.84584    0.27818 -13.825  < 2e-16 ***\n",
              "Prova_Logica    0.21431    0.05186   4.132 3.59e-05 ***\n",
              "Redacao         0.69144    0.07437   9.298  < 2e-16 ***\n",
              "Auto_Avaliacao  0.42384    0.06730   6.298 3.02e-10 ***\n",
              "---\n",
              "Signif. codes:  0 ‘***’ 0.001 ‘**’ 0.01 ‘*’ 0.05 ‘.’ 0.1 ‘ ’ 1\n",
              "\n",
              "(Dispersion parameter for binomial family taken to be 1)\n",
              "\n",
              "    Null deviance: 900.53  on 698  degrees of freedom\n",
              "Residual deviance: 526.77  on 695  degrees of freedom\n",
              "AIC: 534.77\n",
              "\n",
              "Number of Fisher Scoring iterations: 5\n"
            ]
          },
          "metadata": {}
        }
      ]
    },
    {
      "cell_type": "code",
      "source": [
        "#Aplica exponenciacao nos coeficientes para interpretar\n",
        "exp(fit$coefficients)"
      ],
      "metadata": {
        "colab": {
          "base_uri": "https://localhost:8080/",
          "height": 34
        },
        "id": "l5P3U0US6daY",
        "outputId": "bffea855-89d1-4821-b0d7-5c753e1a47a7"
      },
      "execution_count": 69,
      "outputs": [
        {
          "output_type": "display_data",
          "data": {
            "text/html": [
              "<style>\n",
              ".dl-inline {width: auto; margin:0; padding: 0}\n",
              ".dl-inline>dt, .dl-inline>dd {float: none; width: auto; display: inline-block}\n",
              ".dl-inline>dt::after {content: \":\\0020\"; padding-right: .5ex}\n",
              ".dl-inline>dt:not(:first-of-type) {padding-left: .5ex}\n",
              "</style><dl class=dl-inline><dt>(Intercept)</dt><dd>0.021368456213711</dd><dt>Prova_Logica</dt><dd>1.2390092194707</dd><dt>Redacao</dt><dd>1.99658084366104</dd><dt>Auto_Avaliacao</dt><dd>1.52781738901428</dd></dl>\n"
            ],
            "text/markdown": "(Intercept)\n:   0.021368456213711Prova_Logica\n:   1.2390092194707Redacao\n:   1.99658084366104Auto_Avaliacao\n:   1.52781738901428\n\n",
            "text/latex": "\\begin{description*}\n\\item[(Intercept)] 0.021368456213711\n\\item[Prova\\textbackslash{}\\_Logica] 1.2390092194707\n\\item[Redacao] 1.99658084366104\n\\item[Auto\\textbackslash{}\\_Avaliacao] 1.52781738901428\n\\end{description*}\n",
            "text/plain": [
              "   (Intercept)   Prova_Logica        Redacao Auto_Avaliacao \n",
              "    0.02136846     1.23900922     1.99658084     1.52781739 "
            ]
          },
          "metadata": {}
        }
      ]
    },
    {
      "cell_type": "code",
      "source": [
        "#Curva ROC\n",
        "prob = predict(fit, newdata = dados, type = \"response\")\n",
        "roc = roc(dados$Classe ~ prob, plot = TRUE, print.auc = TRUE)"
      ],
      "metadata": {
        "colab": {
          "base_uri": "https://localhost:8080/",
          "height": 506
        },
        "id": "HzciXTMt6e82",
        "outputId": "b0860704-9812-442b-c146-e9fa462274fa"
      },
      "execution_count": 70,
      "outputs": [
        {
          "output_type": "stream",
          "name": "stderr",
          "text": [
            "Setting levels: control = Ruim, case = Boa\n",
            "\n",
            "Setting direction: controls < cases\n",
            "\n"
          ]
        },
        {
          "output_type": "display_data",
          "data": {
            "text/plain": [
              "plot without title"
            ],
            "image/png": "[encoded data removed]"
          },
          "metadata": {
            "image/png": {
              "width": 420,
              "height": 420
            }
          }
        }
      ]
    },
    {
      "cell_type": "code",
      "source": [
        "prob"
      ],
      "metadata": {
        "colab": {
          "base_uri": "https://localhost:8080/",
          "height": 1000
        },
        "id": "1wP9LcdA_5tO",
        "outputId": "a0d20dff-63a8-4765-9a39-2a149d5d84db"
      },
      "execution_count": 71,
      "outputs": [
        {
          "output_type": "display_data",
          "data": {
            "text/html": [
              "<style>\n",
              ".dl-inline {width: auto; margin:0; padding: 0}\n",
              ".dl-inline>dt, .dl-inline>dd {float: none; width: auto; display: inline-block}\n",
              ".dl-inline>dt::after {content: \":\\0020\"; padding-right: .5ex}\n",
              ".dl-inline>dt:not(:first-of-type) {padding-left: .5ex}\n",
              "</style><dl class=dl-inline><dt>1</dt><dd>0.0909624967952725</dd><dt>2</dt><dd>0.0909624967952725</dd><dt>3</dt><dd>0.159895888278546</dd><dt>4</dt><dd>0.602359352523651</dd><dt>5</dt><dd>0.431402654708017</dd><dt>6</dt><dd>0.28514808373448</dd><dt>7</dt><dd>0.663318424365633</dd><dt>8</dt><dd>0.952882474342243</dd><dt>9</dt><dd>0.95325780154155</dd><dt>10</dt><dd>0.133158619188597</dd><dt>11</dt><dd>0.159895888278546</dd><dt>12</dt><dd>0.914874059254158</dd><dt>13</dt><dd>0.0747267414250701</dd><dt>14</dt><dd>0.0747267414250701</dd><dt>15</dt><dd>0.496670401549194</dd><dt>16</dt><dd>0.588371585644853</dd><dt>17</dt><dd>0.804466269453688</dd><dt>18</dt><dd>0.0909624967952725</dd><dt>19</dt><dd>0.0747267414250701</dd><dt>20</dt><dd>0.0747267414250701</dd><dt>21</dt><dd>0.265794249799912</dd><dt>22</dt><dd>0.958215612218938</dd><dt>23</dt><dd>0.0747267414250701</dd><dt>24</dt><dd>0.0909624967952725</dd><dt>25</dt><dd>0.910829209573828</dd><dt>26</dt><dd>0.159895888278546</dd><dt>27</dt><dd>0.110305239687793</dd><dt>28</dt><dd>0.110305239687793</dd><dt>29</dt><dd>0.431402654708017</dd><dt>30</dt><dd>0.951048637915309</dd><dt>31</dt><dd>0.379789287601837</dd><dt>32</dt><dd>0.0747267414250701</dd><dt>33</dt><dd>0.930691358750525</dd><dt>34</dt><dd>0.330758887293909</dd><dt>35</dt><dd>0.28514808373448</dd><dt>36</dt><dd>0.110305239687793</dd><dt>37</dt><dd>0.198421258757924</dd><dt>38</dt><dd>0.994714030137615</dd><dt>39</dt><dd>0.0747267414250701</dd><dt>40</dt><dd>0.0747267414250701</dd><dt>41</dt><dd>0.159895888278546</dd><dt>42</dt><dd>0.133158619188597</dd><dt>43</dt><dd>0.0747267414250701</dd><dt>44</dt><dd>0.159895888278546</dd><dt>45</dt><dd>0.993489912710972</dd><dt>46</dt><dd>0.0747267414250701</dd><dt>47</dt><dd>0.133158619188597</dd><dt>48</dt><dd>0.998871890701069</dd><dt>49</dt><dd>0.984863690449978</dd><dt>50</dt><dd>0.0747267414250701</dd><dt>51</dt><dd>0.35612412829145</dd><dt>52</dt><dd>0.0747267414250701</dd><dt>53</dt><dd>0.0747267414250701</dd><dt>54</dt><dd>0.159895888278546</dd><dt>55</dt><dd>0.0747267414250701</dd><dt>56</dt><dd>0.159895888278546</dd><dt>57</dt><dd>0.110305239687793</dd><dt>58</dt><dd>0.0747267414250701</dd><dt>59</dt><dd>0.0747267414250701</dd><dt>60</dt><dd>0.821563179804718</dd><dt>61</dt><dd>0.562051820539041</dd><dt>62</dt><dd>0.158614828196775</dd><dt>63</dt><dd>0.994986939958887</dd><dt>64</dt><dd>0.562051820539041</dd><dt>65</dt><dd>0.0747267414250701</dd><dt>66</dt><dd>0.0909624967952725</dd><dt>67</dt><dd>0.0747267414250701</dd><dt>68</dt><dd>0.159895888278546</dd><dt>69</dt><dd>0.159895888278546</dd><dt>70</dt><dd>0.718558405368916</dd><dt>71</dt><dd>0.0909624967952725</dd><dt>72</dt><dd>0.0747267414250701</dd><dt>73</dt><dd>0.919909194697235</dd><dt>74</dt><dd>0.190082409291486</dd><dt>75</dt><dd>0.159895888278546</dd><dt>76</dt><dd>0.0747267414250701</dd><dt>77</dt><dd>0.110305239687793</dd><dt>78</dt><dd>0.110305239687793</dd><dt>79</dt><dd>0.110305239687793</dd><dt>80</dt><dd>0.159895888278546</dd><dt>81</dt><dd>0.697276409722491</dd><dt>82</dt><dd>0.0747267414250701</dd><dt>83</dt><dd>0.998609298562092</dd><dt>84</dt><dd>0.749730188070328</dd><dt>85</dt><dd>0.0747267414250701</dd><dt>86</dt><dd>0.92975985861269</dd><dt>87</dt><dd>0.982677899588171</dd><dt>88</dt><dd>0.613061133731052</dd><dt>89</dt><dd>0.110305239687793</dd><dt>90</dt><dd>0.0747267414250701</dd><dt>91</dt><dd>0.875928014143586</dd><dt>92</dt><dd>0.0747267414250701</dd><dt>93</dt><dd>0.133158619188597</dd><dt>94</dt><dd>0.0909624967952725</dd><dt>95</dt><dd>0.13885711875871</dd><dt>96</dt><dd>0.922473478141386</dd><dt>97</dt><dd>0.729207595187973</dd><dt>98</dt><dd>0.224445270245691</dd><dt>99</dt><dd>0.771091703467631</dd><dt>100</dt><dd>0.910829209573828</dd><dt>101</dt><dd>0.0747267414250701</dd><dt>102</dt><dd>0.870560309419116</dd><dt>103</dt><dd>0.857926972111391</dd><dt>104</dt><dd>0.0747267414250701</dd><dt>105</dt><dd>0.0747267414250701</dd><dt>106</dt><dd>0.0747267414250701</dd><dt>107</dt><dd>0.159895888278546</dd><dt>108</dt><dd>0.923154972495578</dd><dt>109</dt><dd>0.159895888278546</dd><dt>110</dt><dd>0.10983663051452</dd><dt>111</dt><dd>0.234714546537871</dd><dt>112</dt><dd>0.28514808373448</dd><dt>113</dt><dd>0.275365759715968</dd><dt>114</dt><dd>0.133158619188597</dd><dt>115</dt><dd>0.159895888278546</dd><dt>116</dt><dd>0.306590768999799</dd><dt>117</dt><dd>0.110305239687793</dd><dt>118</dt><dd>0.926525718157216</dd><dt>119</dt><dd>0.159895888278546</dd><dt>120</dt><dd>0.159895888278546</dd><dt>121</dt><dd>0.159895888278546</dd><dt>122</dt><dd>0.22527910171333</dd><dt>123</dt><dd>0.870560309419116</dd><dt>124</dt><dd>0.159895888278546</dd><dt>125</dt><dd>0.98577263528107</dd><dt>126</dt><dd>0.850850375270593</dd><dt>127</dt><dd>0.979545356835132</dd><dt>128</dt><dd>0.0747267414250701</dd><dt>129</dt><dd>0.110305239687793</dd><dt>130</dt><dd>0.133158619188597</dd><dt>131</dt><dd>0.0909624967952725</dd><dt>132</dt><dd>0.159895888278546</dd><dt>133</dt><dd>0.243538091261021</dd><dt>134</dt><dd>0.993136067288857</dd><dt>135</dt><dd>0.110305239687793</dd><dt>136</dt><dd>0.367321104819539</dd><dt>137</dt><dd>0.751521152766203</dd><dt>138</dt><dd>0.857926972111391</dd><dt>139</dt><dd>0.19081999012857</dd><dt>140</dt><dd>0.234714546537871</dd><dt>141</dt><dd>0.274412206732746</dd><dt>142</dt><dd>0.159895888278546</dd><dt>143</dt><dd>0.998609298562092</dd><dt>144</dt><dd>0.0747267414250701</dd><dt>145</dt><dd>0.982452195501144</dd><dt>146</dt><dd>0.857926972111391</dd><dt>147</dt><dd>0.994227097308825</dd><dt>148</dt><dd>0.430229574681256</dd><dt>149</dt><dd>0.0909624967952725</dd><dt>150</dt><dd>0.110305239687793</dd><dt>151</dt><dd>0.0909624967952725</dd><dt>152</dt><dd>0.159895888278546</dd><dt>153</dt><dd>0.22527910171333</dd><dt>154</dt><dd>0.613061133731052</dd><dt>155</dt><dd>0.159895888278546</dd><dt>156</dt><dd>0.133158619188597</dd><dt>157</dt><dd>0.133158619188597</dd><dt>158</dt><dd>0.972250353080042</dd><dt>159</dt><dd>0.0747267414250701</dd><dt>160</dt><dd>0.158614828196775</dd><dt>161</dt><dd>0.0909624967952725</dd><dt>162</dt><dd>0.159895888278546</dd><dt>163</dt><dd>0.706667650772455</dd><dt>164</dt><dd>0.0909624967952725</dd><dt>165</dt><dd>0.970639998296067</dd><dt>166</dt><dd>0.133158619188597</dd><dt>167</dt><dd>0.0747267414250701</dd><dt>168</dt><dd>0.0747267414250701</dd><dt>169</dt><dd>0.0747267414250701</dd><dt>170</dt><dd>0.133158619188597</dd><dt>171</dt><dd>0.431402654708017</dd><dt>172</dt><dd>0.562051820539041</dd><dt>173</dt><dd>0.0747267414250701</dd><dt>174</dt><dd>0.265794249799912</dd><dt>175</dt><dd>0.110305239687793</dd><dt>176</dt><dd>0.19081999012857</dd><dt>177</dt><dd>0.977190998757116</dd><dt>178</dt><dd>0.110305239687793</dd><dt>179</dt><dd>0.777890975462454</dd><dt>180</dt><dd>0.110305239687793</dd><dt>181</dt><dd>0.110305239687793</dd><dt>182</dt><dd>0.0909624967952725</dd><dt>183</dt><dd>0.419547639094742</dd><dt>184</dt><dd>0.133158619188597</dd><dt>185</dt><dd>0.636910984424275</dd><dt>186</dt><dd>0.0747267414250701</dd><dt>187</dt><dd>0.0747267414250701</dd><dt>188</dt><dd>0.0747267414250701</dd><dt>189</dt><dd>0.600065412965045</dd><dt>190</dt><dd>0.896522222400301</dd><dt>191</dt><dd>0.110305239687793</dd><dt>192</dt><dd>0.133158619188597</dd><dt>193</dt><dd>0.882102204609361</dd><dt>194</dt><dd>0.0909624967952725</dd><dt>195</dt><dd>0.330758887293909</dd><dt>196</dt><dd>0.110305239687793</dd><dt>197</dt><dd>0.740520151186592</dd><dt>198</dt><dd>0.0909624967952725</dd><dt>199</dt><dd>0.0747267414250701</dd><dt>200</dt><dd>0.159895888278546</dd><dt>201</dt><dd>⋯</dd><dt>202</dt><dd>0.875535419535693</dd><dt>203</dt><dd>0.71928739418676</dd><dt>204</dt><dd>0.996713116956989</dd><dt>205</dt><dd>0.910829209573828</dd><dt>206</dt><dd>0.958215612218938</dd><dt>207</dt><dd>0.419547639094742</dd><dt>208</dt><dd>0.0747267414250701</dd><dt>209</dt><dd>0.159895888278546</dd><dt>210</dt><dd>0.0747267414250701</dd><dt>211</dt><dd>0.133158619188597</dd><dt>212</dt><dd>0.307608734844744</dd><dt>213</dt><dd>0.0747267414250701</dd><dt>214</dt><dd>0.133158619188597</dd><dt>215</dt><dd>0.562051820539041</dd><dt>216</dt><dd>0.133158619188597</dd><dt>217</dt><dd>0.0747267414250701</dd><dt>218</dt><dd>0.915154593912409</dd><dt>219</dt><dd>0.0747267414250701</dd><dt>220</dt><dd>0.133158619188597</dd><dt>221</dt><dd>0.133158619188597</dd><dt>222</dt><dd>0.0747267414250701</dd><dt>223</dt><dd>0.996159401458276</dd><dt>224</dt><dd>0.0909624967952725</dd><dt>225</dt><dd>0.960114896554388</dd><dt>226</dt><dd>0.0747267414250701</dd><dt>227</dt><dd>0.133158619188597</dd><dt>228</dt><dd>0.234714546537871</dd><dt>229</dt><dd>0.779539675993111</dd><dt>230</dt><dd>0.133158619188597</dd><dt>231</dt><dd>0.0747267414250701</dd><dt>232</dt><dd>0.980311020328613</dd><dt>233</dt><dd>0.275365759715968</dd><dt>234</dt><dd>0.110305239687793</dd><dt>235</dt><dd>0.613061133731052</dd><dt>236</dt><dd>0.133158619188597</dd><dt>237</dt><dd>0.0747267414250701</dd><dt>238</dt><dd>0.0747267414250701</dd><dt>239</dt><dd>0.22527910171333</dd><dt>240</dt><dd>0.110305239687793</dd><dt>241</dt><dd>0.110305239687793</dd><dt>242</dt><dd>0.13885711875871</dd><dt>243</dt><dd>0.159895888278546</dd><dt>244</dt><dd>0.159895888278546</dd><dt>245</dt><dd>0.133158619188597</dd><dt>246</dt><dd>0.22527910171333</dd><dt>247</dt><dd>0.980586126808533</dd><dt>248</dt><dd>0.0909624967952725</dd><dt>249</dt><dd>0.759809263004641</dd><dt>250</dt><dd>0.511479382614332</dd><dt>251</dt><dd>0.133158619188597</dd><dt>252</dt><dd>0.930382136099249</dd><dt>253</dt><dd>0.600065412965045</dd><dt>254</dt><dd>0.0747267414250701</dd><dt>255</dt><dd>0.99236117188543</dd><dt>256</dt><dd>0.777890975462454</dd><dt>257</dt><dd>0.919909194697235</dd><dt>258</dt><dd>0.902630641030897</dd><dt>259</dt><dd>0.0909624967952725</dd><dt>260</dt><dd>0.110305239687793</dd><dt>261</dt><dd>0.0909624967952725</dd><dt>262</dt><dd>0.99124844988402</dd><dt>263</dt><dd>0.159254314112973</dd><dt>264</dt><dd>0.0747267414250701</dd><dt>265</dt><dd>0.509088442282788</dd><dt>266</dt><dd>0.705675021091938</dd><dt>267</dt><dd>0.110305239687793</dd><dt>268</dt><dd>0.960114896554388</dd><dt>269</dt><dd>0.0747267414250701</dd><dt>270</dt><dd>0.190082409291486</dd><dt>271</dt><dd>0.19081999012857</dd><dt>272</dt><dd>0.110305239687793</dd><dt>273</dt><dd>0.0747267414250701</dd><dt>274</dt><dd>0.431402654708017</dd><dt>275</dt><dd>0.158614828196775</dd><dt>276</dt><dd>0.110305239687793</dd><dt>277</dt><dd>0.985789124186913</dd><dt>278</dt><dd>0.0747267414250701</dd><dt>279</dt><dd>0.133158619188597</dd><dt>280</dt><dd>0.687969949942274</dd><dt>281</dt><dd>0.940116473383247</dd><dt>282</dt><dd>0.0747267414250701</dd><dt>283</dt><dd>0.110305239687793</dd><dt>284</dt><dd>0.68488082003999</dd><dt>285</dt><dd>0.198421258757924</dd><dt>286</dt><dd>0.638016563953256</dd><dt>287</dt><dd>0.0747267414250701</dd><dt>288</dt><dd>0.275365759715968</dd><dt>289</dt><dd>0.0747267414250701</dd><dt>290</dt><dd>0.0747267414250701</dd><dt>291</dt><dd>0.110305239687793</dd><dt>292</dt><dd>0.0747267414250701</dd><dt>293</dt><dd>0.159895888278546</dd><dt>294</dt><dd>0.110305239687793</dd><dt>295</dt><dd>0.133158619188597</dd><dt>296</dt><dd>0.110305239687793</dd><dt>297</dt><dd>0.133158619188597</dd><dt>298</dt><dd>0.0747267414250701</dd><dt>299</dt><dd>0.133158619188597</dd><dt>300</dt><dd>0.110305239687793</dd><dt>301</dt><dd>0.159895888278546</dd><dt>302</dt><dd>0.0747267414250701</dd><dt>303</dt><dd>0.275365759715968</dd><dt>304</dt><dd>0.28514808373448</dd><dt>305</dt><dd>0.159895888278546</dd><dt>306</dt><dd>0.870560309419116</dd><dt>307</dt><dd>0.309650286700559</dd><dt>308</dt><dd>0.550079881201083</dd><dt>309</dt><dd>0.576577106640975</dd><dt>310</dt><dd>0.133158619188597</dd><dt>311</dt><dd>0.984272230403743</dd><dt>312</dt><dd>0.159895888278546</dd><dt>313</dt><dd>0.978348914979894</dd><dt>314</dt><dd>0.275365759715968</dd><dt>315</dt><dd>0.198421258757924</dd><dt>316</dt><dd>0.159895888278546</dd><dt>317</dt><dd>0.19081999012857</dd><dt>318</dt><dd>0.110305239687793</dd><dt>319</dt><dd>0.391278165445797</dd><dt>320</dt><dd>0.159895888278546</dd><dt>321</dt><dd>0.19081999012857</dd><dt>322</dt><dd>0.133158619188597</dd><dt>323</dt><dd>0.110305239687793</dd><dt>324</dt><dd>0.159895888278546</dd><dt>325</dt><dd>0.955217878344134</dd><dt>326</dt><dd>0.0909624967952725</dd><dt>327</dt><dd>0.133158619188597</dd><dt>328</dt><dd>0.0747267414250701</dd><dt>329</dt><dd>0.329700791097143</dd><dt>330</dt><dd>0.166518802407586</dd><dt>331</dt><dd>0.982677899588171</dd><dt>332</dt><dd>0.22527910171333</dd><dt>333</dt><dd>0.0747267414250701</dd><dt>334</dt><dd>0.159895888278546</dd><dt>335</dt><dd>0.0747267414250701</dd><dt>336</dt><dd>0.0909624967952725</dd><dt>337</dt><dd>0.197661473660173</dd><dt>338</dt><dd>0.431402654708017</dd><dt>339</dt><dd>0.0747267414250701</dd><dt>340</dt><dd>0.0909624967952725</dd><dt>341</dt><dd>0.110305239687793</dd><dt>342</dt><dd>0.159895888278546</dd><dt>343</dt><dd>0.0747267414250701</dd><dt>344</dt><dd>0.0747267414250701</dd><dt>345</dt><dd>0.980494845878745</dd><dt>346</dt><dd>0.110305239687793</dd><dt>347</dt><dd>0.997638625719676</dd><dt>348</dt><dd>0.985005660284357</dd><dt>349</dt><dd>0.355027934776369</dd><dt>350</dt><dd>0.309650286700559</dd><dt>351</dt><dd>0.986452790669783</dd><dt>352</dt><dd>0.0747267414250701</dd><dt>353</dt><dd>0.13885711875871</dd><dt>354</dt><dd>0.943303209205711</dd><dt>355</dt><dd>0.0747267414250701</dd><dt>356</dt><dd>0.110305239687793</dd><dt>357</dt><dd>0.159895888278546</dd><dt>358</dt><dd>0.133158619188597</dd><dt>359</dt><dd>0.265794249799912</dd><dt>360</dt><dd>0.234714546537871</dd><dt>361</dt><dd>0.0909624967952725</dd><dt>362</dt><dd>0.640223336371221</dd><dt>363</dt><dd>0.0747267414250701</dd><dt>364</dt><dd>0.19081999012857</dd><dt>365</dt><dd>0.110305239687793</dd><dt>366</dt><dd>0.998609298562092</dd><dt>367</dt><dd>0.958215612218938</dd><dt>368</dt><dd>0.0747267414250701</dd><dt>369</dt><dd>0.159895888278546</dd><dt>370</dt><dd>0.159895888278546</dd><dt>371</dt><dd>0.19081999012857</dd><dt>372</dt><dd>0.391278165445797</dd><dt>373</dt><dd>0.133158619188597</dd><dt>374</dt><dd>0.984123428217377</dd><dt>375</dt><dd>0.110305239687793</dd><dt>376</dt><dd>0.13885711875871</dd><dt>377</dt><dd>0.960114896554388</dd><dt>378</dt><dd>0.602359352523651</dd><dt>379</dt><dd>0.958215612218938</dd><dt>380</dt><dd>0.110305239687793</dd><dt>381</dt><dd>0.110305239687793</dd><dt>382</dt><dd>0.0747267414250701</dd><dt>383</dt><dd>0.876964093197874</dd><dt>384</dt><dd>0.159895888278546</dd><dt>385</dt><dd>0.159895888278546</dd><dt>386</dt><dd>0.275365759715968</dd><dt>387</dt><dd>0.159895888278546</dd><dt>388</dt><dd>0.10983663051452</dd><dt>389</dt><dd>0.998192034155166</dd><dt>390</dt><dd>0.19081999012857</dd><dt>391</dt><dd>0.110305239687793</dd><dt>392</dt><dd>0.0747267414250701</dd><dt>393</dt><dd>0.842541128968341</dd><dt>394</dt><dd>0.0909624967952725</dd><dt>395</dt><dd>0.133158619188597</dd><dt>396</dt><dd>0.4845502700727</dd><dt>397</dt><dd>0.159895888278546</dd><dt>398</dt><dd>0.992797418382369</dd><dt>399</dt><dd>0.19081999012857</dd><dt>400</dt><dd>0.923410501800968</dd><dt>401</dt><dd>0.0747267414250701</dd></dl>\n"
            ],
            "text/markdown": "1\n:   0.09096249679527252\n:   0.09096249679527253\n:   0.1598958882785464\n:   0.6023593525236515\n:   0.4314026547080176\n:   0.285148083734487\n:   0.6633184243656338\n:   0.9528824743422439\n:   0.9532578015415510\n:   0.13315861918859711\n:   0.15989588827854612\n:   0.91487405925415813\n:   0.074726741425070114\n:   0.074726741425070115\n:   0.49667040154919416\n:   0.58837158564485317\n:   0.80446626945368818\n:   0.090962496795272519\n:   0.074726741425070120\n:   0.074726741425070121\n:   0.26579424979991222\n:   0.95821561221893823\n:   0.074726741425070124\n:   0.090962496795272525\n:   0.91082920957382826\n:   0.15989588827854627\n:   0.11030523968779328\n:   0.11030523968779329\n:   0.43140265470801730\n:   0.95104863791530931\n:   0.37978928760183732\n:   0.074726741425070133\n:   0.93069135875052534\n:   0.33075888729390935\n:   0.2851480837344836\n:   0.11030523968779337\n:   0.19842125875792438\n:   0.99471403013761539\n:   0.074726741425070140\n:   0.074726741425070141\n:   0.15989588827854642\n:   0.13315861918859743\n:   0.074726741425070144\n:   0.15989588827854645\n:   0.99348991271097246\n:   0.074726741425070147\n:   0.13315861918859748\n:   0.99887189070106949\n:   0.98486369044997850\n:   0.074726741425070151\n:   0.3561241282914552\n:   0.074726741425070153\n:   0.074726741425070154\n:   0.15989588827854655\n:   0.074726741425070156\n:   0.15989588827854657\n:   0.11030523968779358\n:   0.074726741425070159\n:   0.074726741425070160\n:   0.82156317980471861\n:   0.56205182053904162\n:   0.15861482819677563\n:   0.99498693995888764\n:   0.56205182053904165\n:   0.074726741425070166\n:   0.090962496795272567\n:   0.074726741425070168\n:   0.15989588827854669\n:   0.15989588827854670\n:   0.71855840536891671\n:   0.090962496795272572\n:   0.074726741425070173\n:   0.91990919469723574\n:   0.19008240929148675\n:   0.15989588827854676\n:   0.074726741425070177\n:   0.11030523968779378\n:   0.11030523968779379\n:   0.11030523968779380\n:   0.15989588827854681\n:   0.69727640972249182\n:   0.074726741425070183\n:   0.99860929856209284\n:   0.74973018807032885\n:   0.074726741425070186\n:   0.9297598586126987\n:   0.98267789958817188\n:   0.61306113373105289\n:   0.11030523968779390\n:   0.074726741425070191\n:   0.87592801414358692\n:   0.074726741425070193\n:   0.13315861918859794\n:   0.090962496795272595\n:   0.1388571187587196\n:   0.92247347814138697\n:   0.72920759518797398\n:   0.22444527024569199\n:   0.771091703467631100\n:   0.910829209573828101\n:   0.0747267414250701102\n:   0.870560309419116103\n:   0.857926972111391104\n:   0.0747267414250701105\n:   0.0747267414250701106\n:   0.0747267414250701107\n:   0.159895888278546108\n:   0.923154972495578109\n:   0.159895888278546110\n:   0.10983663051452111\n:   0.234714546537871112\n:   0.28514808373448113\n:   0.275365759715968114\n:   0.133158619188597115\n:   0.159895888278546116\n:   0.306590768999799117\n:   0.110305239687793118\n:   0.926525718157216119\n:   0.159895888278546120\n:   0.159895888278546121\n:   0.159895888278546122\n:   0.22527910171333123\n:   0.870560309419116124\n:   0.159895888278546125\n:   0.98577263528107126\n:   0.850850375270593127\n:   0.979545356835132128\n:   0.0747267414250701129\n:   0.110305239687793130\n:   0.133158619188597131\n:   0.0909624967952725132\n:   0.159895888278546133\n:   0.243538091261021134\n:   0.993136067288857135\n:   0.110305239687793136\n:   0.367321104819539137\n:   0.751521152766203138\n:   0.857926972111391139\n:   0.19081999012857140\n:   0.234714546537871141\n:   0.274412206732746142\n:   0.159895888278546143\n:   0.998609298562092144\n:   0.0747267414250701145\n:   0.982452195501144146\n:   0.857926972111391147\n:   0.994227097308825148\n:   0.430229574681256149\n:   0.0909624967952725150\n:   0.110305239687793151\n:   0.0909624967952725152\n:   0.159895888278546153\n:   0.22527910171333154\n:   0.613061133731052155\n:   0.159895888278546156\n:   0.133158619188597157\n:   0.133158619188597158\n:   0.972250353080042159\n:   0.0747267414250701160\n:   0.158614828196775161\n:   0.0909624967952725162\n:   0.159895888278546163\n:   0.706667650772455164\n:   0.0909624967952725165\n:   0.970639998296067166\n:   0.133158619188597167\n:   0.0747267414250701168\n:   0.0747267414250701169\n:   0.0747267414250701170\n:   0.133158619188597171\n:   0.431402654708017172\n:   0.562051820539041173\n:   0.0747267414250701174\n:   0.265794249799912175\n:   0.110305239687793176\n:   0.19081999012857177\n:   0.977190998757116178\n:   0.110305239687793179\n:   0.777890975462454180\n:   0.110305239687793181\n:   0.110305239687793182\n:   0.0909624967952725183\n:   0.419547639094742184\n:   0.133158619188597185\n:   0.636910984424275186\n:   0.0747267414250701187\n:   0.0747267414250701188\n:   0.0747267414250701189\n:   0.600065412965045190\n:   0.896522222400301191\n:   0.110305239687793192\n:   0.133158619188597193\n:   0.882102204609361194\n:   0.0909624967952725195\n:   0.330758887293909196\n:   0.110305239687793197\n:   0.740520151186592198\n:   0.0909624967952725199\n:   0.0747267414250701200\n:   0.159895888278546201\n:   ⋯202\n:   0.875535419535693203\n:   0.71928739418676204\n:   0.996713116956989205\n:   0.910829209573828206\n:   0.958215612218938207\n:   0.419547639094742208\n:   0.0747267414250701209\n:   0.159895888278546210\n:   0.0747267414250701211\n:   0.133158619188597212\n:   0.307608734844744213\n:   0.0747267414250701214\n:   0.133158619188597215\n:   0.562051820539041216\n:   0.133158619188597217\n:   0.0747267414250701218\n:   0.915154593912409219\n:   0.0747267414250701220\n:   0.133158619188597221\n:   0.133158619188597222\n:   0.0747267414250701223\n:   0.996159401458276224\n:   0.0909624967952725225\n:   0.960114896554388226\n:   0.0747267414250701227\n:   0.133158619188597228\n:   0.234714546537871229\n:   0.779539675993111230\n:   0.133158619188597231\n:   0.0747267414250701232\n:   0.980311020328613233\n:   0.275365759715968234\n:   0.110305239687793235\n:   0.613061133731052236\n:   0.133158619188597237\n:   0.0747267414250701238\n:   0.0747267414250701239\n:   0.22527910171333240\n:   0.110305239687793241\n:   0.110305239687793242\n:   0.13885711875871243\n:   0.159895888278546244\n:   0.159895888278546245\n:   0.133158619188597246\n:   0.22527910171333247\n:   0.980586126808533248\n:   0.0909624967952725249\n:   0.759809263004641250\n:   0.511479382614332251\n:   0.133158619188597252\n:   0.930382136099249253\n:   0.600065412965045254\n:   0.0747267414250701255\n:   0.99236117188543256\n:   0.777890975462454257\n:   0.919909194697235258\n:   0.902630641030897259\n:   0.0909624967952725260\n:   0.110305239687793261\n:   0.0909624967952725262\n:   0.99124844988402263\n:   0.159254314112973264\n:   0.0747267414250701265\n:   0.509088442282788266\n:   0.705675021091938267\n:   0.110305239687793268\n:   0.960114896554388269\n:   0.0747267414250701270\n:   0.190082409291486271\n:   0.19081999012857272\n:   0.110305239687793273\n:   0.0747267414250701274\n:   0.431402654708017275\n:   0.158614828196775276\n:   0.110305239687793277\n:   0.985789124186913278\n:   0.0747267414250701279\n:   0.133158619188597280\n:   0.687969949942274281\n:   0.940116473383247282\n:   0.0747267414250701283\n:   0.110305239687793284\n:   0.68488082003999285\n:   0.198421258757924286\n:   0.638016563953256287\n:   0.0747267414250701288\n:   0.275365759715968289\n:   0.0747267414250701290\n:   0.0747267414250701291\n:   0.110305239687793292\n:   0.0747267414250701293\n:   0.159895888278546294\n:   0.110305239687793295\n:   0.133158619188597296\n:   0.110305239687793297\n:   0.133158619188597298\n:   0.0747267414250701299\n:   0.133158619188597300\n:   0.110305239687793301\n:   0.159895888278546302\n:   0.0747267414250701303\n:   0.275365759715968304\n:   0.28514808373448305\n:   0.159895888278546306\n:   0.870560309419116307\n:   0.309650286700559308\n:   0.550079881201083309\n:   0.576577106640975310\n:   0.133158619188597311\n:   0.984272230403743312\n:   0.159895888278546313\n:   0.978348914979894314\n:   0.275365759715968315\n:   0.198421258757924316\n:   0.159895888278546317\n:   0.19081999012857318\n:   0.110305239687793319\n:   0.391278165445797320\n:   0.159895888278546321\n:   0.19081999012857322\n:   0.133158619188597323\n:   0.110305239687793324\n:   0.159895888278546325\n:   0.955217878344134326\n:   0.0909624967952725327\n:   0.133158619188597328\n:   0.0747267414250701329\n:   0.329700791097143330\n:   0.166518802407586331\n:   0.982677899588171332\n:   0.22527910171333333\n:   0.0747267414250701334\n:   0.159895888278546335\n:   0.0747267414250701336\n:   0.0909624967952725337\n:   0.197661473660173338\n:   0.431402654708017339\n:   0.0747267414250701340\n:   0.0909624967952725341\n:   0.110305239687793342\n:   0.159895888278546343\n:   0.0747267414250701344\n:   0.0747267414250701345\n:   0.980494845878745346\n:   0.110305239687793347\n:   0.997638625719676348\n:   0.985005660284357349\n:   0.355027934776369350\n:   0.309650286700559351\n:   0.986452790669783352\n:   0.0747267414250701353\n:   0.13885711875871354\n:   0.943303209205711355\n:   0.0747267414250701356\n:   0.110305239687793357\n:   0.159895888278546358\n:   0.133158619188597359\n:   0.265794249799912360\n:   0.234714546537871361\n:   0.0909624967952725362\n:   0.640223336371221363\n:   0.0747267414250701364\n:   0.19081999012857365\n:   0.110305239687793366\n:   0.998609298562092367\n:   0.958215612218938368\n:   0.0747267414250701369\n:   0.159895888278546370\n:   0.159895888278546371\n:   0.19081999012857372\n:   0.391278165445797373\n:   0.133158619188597374\n:   0.984123428217377375\n:   0.110305239687793376\n:   0.13885711875871377\n:   0.960114896554388378\n:   0.602359352523651379\n:   0.958215612218938380\n:   0.110305239687793381\n:   0.110305239687793382\n:   0.0747267414250701383\n:   0.876964093197874384\n:   0.159895888278546385\n:   0.159895888278546386\n:   0.275365759715968387\n:   0.159895888278546388\n:   0.10983663051452389\n:   0.998192034155166390\n:   0.19081999012857391\n:   0.110305239687793392\n:   0.0747267414250701393\n:   0.842541128968341394\n:   0.0909624967952725395\n:   0.133158619188597396\n:   0.4845502700727397\n:   0.159895888278546398\n:   0.992797418382369399\n:   0.19081999012857400\n:   0.923410501800968401\n:   0.0747267414250701\n\n",
            "text/latex": "\\begin{description*}\n\\item[1] 0.0909624967952725\n\\item[2] 0.0909624967952725\n\\item[3] 0.159895888278546\n\\item[4] 0.602359352523651\n\\item[5] 0.431402654708017\n\\item[6] 0.28514808373448\n\\item[7] 0.663318424365633\n\\item[8] 0.952882474342243\n\\item[9] 0.95325780154155\n\\item[10] 0.133158619188597\n\\item[11] 0.159895888278546\n\\item[12] 0.914874059254158\n\\item[13] 0.0747267414250701\n\\item[14] 0.0747267414250701\n\\item[15] 0.496670401549194\n\\item[16] 0.588371585644853\n\\item[17] 0.804466269453688\n\\item[18] 0.0909624967952725\n\\item[19] 0.0747267414250701\n\\item[20] 0.0747267414250701\n\\item[21] 0.265794249799912\n\\item[22] 0.958215612218938\n\\item[23] 0.0747267414250701\n\\item[24] 0.0909624967952725\n\\item[25] 0.910829209573828\n\\item[26] 0.159895888278546\n\\item[27] 0.110305239687793\n\\item[28] 0.110305239687793\n\\item[29] 0.431402654708017\n\\item[30] 0.951048637915309\n\\item[31] 0.379789287601837\n\\item[32] 0.0747267414250701\n\\item[33] 0.930691358750525\n\\item[34] 0.330758887293909\n\\item[35] 0.28514808373448\n\\item[36] 0.110305239687793\n\\item[37] 0.198421258757924\n\\item[38] 0.994714030137615\n\\item[39] 0.0747267414250701\n\\item[40] 0.0747267414250701\n\\item[41] 0.159895888278546\n\\item[42] 0.133158619188597\n\\item[43] 0.0747267414250701\n\\item[44] 0.159895888278546\n\\item[45] 0.993489912710972\n\\item[46] 0.0747267414250701\n\\item[47] 0.133158619188597\n\\item[48] 0.998871890701069\n\\item[49] 0.984863690449978\n\\item[50] 0.0747267414250701\n\\item[51] 0.35612412829145\n\\item[52] 0.0747267414250701\n\\item[53] 0.0747267414250701\n\\item[54] 0.159895888278546\n\\item[55] 0.0747267414250701\n\\item[56] 0.159895888278546\n\\item[57] 0.110305239687793\n\\item[58] 0.0747267414250701\n\\item[59] 0.0747267414250701\n\\item[60] 0.821563179804718\n\\item[61] 0.562051820539041\n\\item[62] 0.158614828196775\n\\item[63] 0.994986939958887\n\\item[64] 0.562051820539041\n\\item[65] 0.0747267414250701\n\\item[66] 0.0909624967952725\n\\item[67] 0.0747267414250701\n\\item[68] 0.159895888278546\n\\item[69] 0.159895888278546\n\\item[70] 0.718558405368916\n\\item[71] 0.0909624967952725\n\\item[72] 0.0747267414250701\n\\item[73] 0.919909194697235\n\\item[74] 0.190082409291486\n\\item[75] 0.159895888278546\n\\item[76] 0.0747267414250701\n\\item[77] 0.110305239687793\n\\item[78] 0.110305239687793\n\\item[79] 0.110305239687793\n\\item[80] 0.159895888278546\n\\item[81] 0.697276409722491\n\\item[82] 0.0747267414250701\n\\item[83] 0.998609298562092\n\\item[84] 0.749730188070328\n\\item[85] 0.0747267414250701\n\\item[86] 0.92975985861269\n\\item[87] 0.982677899588171\n\\item[88] 0.613061133731052\n\\item[89] 0.110305239687793\n\\item[90] 0.0747267414250701\n\\item[91] 0.875928014143586\n\\item[92] 0.0747267414250701\n\\item[93] 0.133158619188597\n\\item[94] 0.0909624967952725\n\\item[95] 0.13885711875871\n\\item[96] 0.922473478141386\n\\item[97] 0.729207595187973\n\\item[98] 0.224445270245691\n\\item[99] 0.771091703467631\n\\item[100] 0.910829209573828\n\\item[101] 0.0747267414250701\n\\item[102] 0.870560309419116\n\\item[103] 0.857926972111391\n\\item[104] 0.0747267414250701\n\\item[105] 0.0747267414250701\n\\item[106] 0.0747267414250701\n\\item[107] 0.159895888278546\n\\item[108] 0.923154972495578\n\\item[109] 0.159895888278546\n\\item[110] 0.10983663051452\n\\item[111] 0.234714546537871\n\\item[112] 0.28514808373448\n\\item[113] 0.275365759715968\n\\item[114] 0.133158619188597\n\\item[115] 0.159895888278546\n\\item[116] 0.306590768999799\n\\item[117] 0.110305239687793\n\\item[118] 0.926525718157216\n\\item[119] 0.159895888278546\n\\item[120] 0.159895888278546\n\\item[121] 0.159895888278546\n\\item[122] 0.22527910171333\n\\item[123] 0.870560309419116\n\\item[124] 0.159895888278546\n\\item[125] 0.98577263528107\n\\item[126] 0.850850375270593\n\\item[127] 0.979545356835132\n\\item[128] 0.0747267414250701\n\\item[129] 0.110305239687793\n\\item[130] 0.133158619188597\n\\item[131] 0.0909624967952725\n\\item[132] 0.159895888278546\n\\item[133] 0.243538091261021\n\\item[134] 0.993136067288857\n\\item[135] 0.110305239687793\n\\item[136] 0.367321104819539\n\\item[137] 0.751521152766203\n\\item[138] 0.857926972111391\n\\item[139] 0.19081999012857\n\\item[140] 0.234714546537871\n\\item[141] 0.274412206732746\n\\item[142] 0.159895888278546\n\\item[143] 0.998609298562092\n\\item[144] 0.0747267414250701\n\\item[145] 0.982452195501144\n\\item[146] 0.857926972111391\n\\item[147] 0.994227097308825\n\\item[148] 0.430229574681256\n\\item[149] 0.0909624967952725\n\\item[150] 0.110305239687793\n\\item[151] 0.0909624967952725\n\\item[152] 0.159895888278546\n\\item[153] 0.22527910171333\n\\item[154] 0.613061133731052\n\\item[155] 0.159895888278546\n\\item[156] 0.133158619188597\n\\item[157] 0.133158619188597\n\\item[158] 0.972250353080042\n\\item[159] 0.0747267414250701\n\\item[160] 0.158614828196775\n\\item[161] 0.0909624967952725\n\\item[162] 0.159895888278546\n\\item[163] 0.706667650772455\n\\item[164] 0.0909624967952725\n\\item[165] 0.970639998296067\n\\item[166] 0.133158619188597\n\\item[167] 0.0747267414250701\n\\item[168] 0.0747267414250701\n\\item[169] 0.0747267414250701\n\\item[170] 0.133158619188597\n\\item[171] 0.431402654708017\n\\item[172] 0.562051820539041\n\\item[173] 0.0747267414250701\n\\item[174] 0.265794249799912\n\\item[175] 0.110305239687793\n\\item[176] 0.19081999012857\n\\item[177] 0.977190998757116\n\\item[178] 0.110305239687793\n\\item[179] 0.777890975462454\n\\item[180] 0.110305239687793\n\\item[181] 0.110305239687793\n\\item[182] 0.0909624967952725\n\\item[183] 0.419547639094742\n\\item[184] 0.133158619188597\n\\item[185] 0.636910984424275\n\\item[186] 0.0747267414250701\n\\item[187] 0.0747267414250701\n\\item[188] 0.0747267414250701\n\\item[189] 0.600065412965045\n\\item[190] 0.896522222400301\n\\item[191] 0.110305239687793\n\\item[192] 0.133158619188597\n\\item[193] 0.882102204609361\n\\item[194] 0.0909624967952725\n\\item[195] 0.330758887293909\n\\item[196] 0.110305239687793\n\\item[197] 0.740520151186592\n\\item[198] 0.0909624967952725\n\\item[199] 0.0747267414250701\n\\item[200] 0.159895888278546\n\\item[201] ⋯\n\\item[202] 0.875535419535693\n\\item[203] 0.71928739418676\n\\item[204] 0.996713116956989\n\\item[205] 0.910829209573828\n\\item[206] 0.958215612218938\n\\item[207] 0.419547639094742\n\\item[208] 0.0747267414250701\n\\item[209] 0.159895888278546\n\\item[210] 0.0747267414250701\n\\item[211] 0.133158619188597\n\\item[212] 0.307608734844744\n\\item[213] 0.0747267414250701\n\\item[214] 0.133158619188597\n\\item[215] 0.562051820539041\n\\item[216] 0.133158619188597\n\\item[217] 0.0747267414250701\n\\item[218] 0.915154593912409\n\\item[219] 0.0747267414250701\n\\item[220] 0.133158619188597\n\\item[221] 0.133158619188597\n\\item[222] 0.0747267414250701\n\\item[223] 0.996159401458276\n\\item[224] 0.0909624967952725\n\\item[225] 0.960114896554388\n\\item[226] 0.0747267414250701\n\\item[227] 0.133158619188597\n\\item[228] 0.234714546537871\n\\item[229] 0.779539675993111\n\\item[230] 0.133158619188597\n\\item[231] 0.0747267414250701\n\\item[232] 0.980311020328613\n\\item[233] 0.275365759715968\n\\item[234] 0.110305239687793\n\\item[235] 0.613061133731052\n\\item[236] 0.133158619188597\n\\item[237] 0.0747267414250701\n\\item[238] 0.0747267414250701\n\\item[239] 0.22527910171333\n\\item[240] 0.110305239687793\n\\item[241] 0.110305239687793\n\\item[242] 0.13885711875871\n\\item[243] 0.159895888278546\n\\item[244] 0.159895888278546\n\\item[245] 0.133158619188597\n\\item[246] 0.22527910171333\n\\item[247] 0.980586126808533\n\\item[248] 0.0909624967952725\n\\item[249] 0.759809263004641\n\\item[250] 0.511479382614332\n\\item[251] 0.133158619188597\n\\item[252] 0.930382136099249\n\\item[253] 0.600065412965045\n\\item[254] 0.0747267414250701\n\\item[255] 0.99236117188543\n\\item[256] 0.777890975462454\n\\item[257] 0.919909194697235\n\\item[258] 0.902630641030897\n\\item[259] 0.0909624967952725\n\\item[260] 0.110305239687793\n\\item[261] 0.0909624967952725\n\\item[262] 0.99124844988402\n\\item[263] 0.159254314112973\n\\item[264] 0.0747267414250701\n\\item[265] 0.509088442282788\n\\item[266] 0.705675021091938\n\\item[267] 0.110305239687793\n\\item[268] 0.960114896554388\n\\item[269] 0.0747267414250701\n\\item[270] 0.190082409291486\n\\item[271] 0.19081999012857\n\\item[272] 0.110305239687793\n\\item[273] 0.0747267414250701\n\\item[274] 0.431402654708017\n\\item[275] 0.158614828196775\n\\item[276] 0.110305239687793\n\\item[277] 0.985789124186913\n\\item[278] 0.0747267414250701\n\\item[279] 0.133158619188597\n\\item[280] 0.687969949942274\n\\item[281] 0.940116473383247\n\\item[282] 0.0747267414250701\n\\item[283] 0.110305239687793\n\\item[284] 0.68488082003999\n\\item[285] 0.198421258757924\n\\item[286] 0.638016563953256\n\\item[287] 0.0747267414250701\n\\item[288] 0.275365759715968\n\\item[289] 0.0747267414250701\n\\item[290] 0.0747267414250701\n\\item[291] 0.110305239687793\n\\item[292] 0.0747267414250701\n\\item[293] 0.159895888278546\n\\item[294] 0.110305239687793\n\\item[295] 0.133158619188597\n\\item[296] 0.110305239687793\n\\item[297] 0.133158619188597\n\\item[298] 0.0747267414250701\n\\item[299] 0.133158619188597\n\\item[300] 0.110305239687793\n\\item[301] 0.159895888278546\n\\item[302] 0.0747267414250701\n\\item[303] 0.275365759715968\n\\item[304] 0.28514808373448\n\\item[305] 0.159895888278546\n\\item[306] 0.870560309419116\n\\item[307] 0.309650286700559\n\\item[308] 0.550079881201083\n\\item[309] 0.576577106640975\n\\item[310] 0.133158619188597\n\\item[311] 0.984272230403743\n\\item[312] 0.159895888278546\n\\item[313] 0.978348914979894\n\\item[314] 0.275365759715968\n\\item[315] 0.198421258757924\n\\item[316] 0.159895888278546\n\\item[317] 0.19081999012857\n\\item[318] 0.110305239687793\n\\item[319] 0.391278165445797\n\\item[320] 0.159895888278546\n\\item[321] 0.19081999012857\n\\item[322] 0.133158619188597\n\\item[323] 0.110305239687793\n\\item[324] 0.159895888278546\n\\item[325] 0.955217878344134\n\\item[326] 0.0909624967952725\n\\item[327] 0.133158619188597\n\\item[328] 0.0747267414250701\n\\item[329] 0.329700791097143\n\\item[330] 0.166518802407586\n\\item[331] 0.982677899588171\n\\item[332] 0.22527910171333\n\\item[333] 0.0747267414250701\n\\item[334] 0.159895888278546\n\\item[335] 0.0747267414250701\n\\item[336] 0.0909624967952725\n\\item[337] 0.197661473660173\n\\item[338] 0.431402654708017\n\\item[339] 0.0747267414250701\n\\item[340] 0.0909624967952725\n\\item[341] 0.110305239687793\n\\item[342] 0.159895888278546\n\\item[343] 0.0747267414250701\n\\item[344] 0.0747267414250701\n\\item[345] 0.980494845878745\n\\item[346] 0.110305239687793\n\\item[347] 0.997638625719676\n\\item[348] 0.985005660284357\n\\item[349] 0.355027934776369\n\\item[350] 0.309650286700559\n\\item[351] 0.986452790669783\n\\item[352] 0.0747267414250701\n\\item[353] 0.13885711875871\n\\item[354] 0.943303209205711\n\\item[355] 0.0747267414250701\n\\item[356] 0.110305239687793\n\\item[357] 0.159895888278546\n\\item[358] 0.133158619188597\n\\item[359] 0.265794249799912\n\\item[360] 0.234714546537871\n\\item[361] 0.0909624967952725\n\\item[362] 0.640223336371221\n\\item[363] 0.0747267414250701\n\\item[364] 0.19081999012857\n\\item[365] 0.110305239687793\n\\item[366] 0.998609298562092\n\\item[367] 0.958215612218938\n\\item[368] 0.0747267414250701\n\\item[369] 0.159895888278546\n\\item[370] 0.159895888278546\n\\item[371] 0.19081999012857\n\\item[372] 0.391278165445797\n\\item[373] 0.133158619188597\n\\item[374] 0.984123428217377\n\\item[375] 0.110305239687793\n\\item[376] 0.13885711875871\n\\item[377] 0.960114896554388\n\\item[378] 0.602359352523651\n\\item[379] 0.958215612218938\n\\item[380] 0.110305239687793\n\\item[381] 0.110305239687793\n\\item[382] 0.0747267414250701\n\\item[383] 0.876964093197874\n\\item[384] 0.159895888278546\n\\item[385] 0.159895888278546\n\\item[386] 0.275365759715968\n\\item[387] 0.159895888278546\n\\item[388] 0.10983663051452\n\\item[389] 0.998192034155166\n\\item[390] 0.19081999012857\n\\item[391] 0.110305239687793\n\\item[392] 0.0747267414250701\n\\item[393] 0.842541128968341\n\\item[394] 0.0909624967952725\n\\item[395] 0.133158619188597\n\\item[396] 0.4845502700727\n\\item[397] 0.159895888278546\n\\item[398] 0.992797418382369\n\\item[399] 0.19081999012857\n\\item[400] 0.923410501800968\n\\item[401] 0.0747267414250701\n\\end{description*}\n",
            "text/plain": [
              "         1          2          3          4          5          6          7 \n",
              "0.09096250 0.09096250 0.15989589 0.60235935 0.43140265 0.28514808 0.66331842 \n",
              "         8          9         10         11         12         13         14 \n",
              "0.95288247 0.95325780 0.13315862 0.15989589 0.91487406 0.07472674 0.07472674 \n",
              "        15         16         17         18         19         20         21 \n",
              "0.49667040 0.58837159 0.80446627 0.09096250 0.07472674 0.07472674 0.26579425 \n",
              "        22         23         24         25         26         27         28 \n",
              "0.95821561 0.07472674 0.09096250 0.91082921 0.15989589 0.11030524 0.11030524 \n",
              "        29         30         31         32         33         34         35 \n",
              "0.43140265 0.95104864 0.37978929 0.07472674 0.93069136 0.33075889 0.28514808 \n",
              "        36         37         38         39         40         41         42 \n",
              "0.11030524 0.19842126 0.99471403 0.07472674 0.07472674 0.15989589 0.13315862 \n",
              "        43         44         45         46         47         48         49 \n",
              "0.07472674 0.15989589 0.99348991 0.07472674 0.13315862 0.99887189 0.98486369 \n",
              "        50         51         52         53         54         55         56 \n",
              "0.07472674 0.35612413 0.07472674 0.07472674 0.15989589 0.07472674 0.15989589 \n",
              "        57         58         59         60         61         62         63 \n",
              "0.11030524 0.07472674 0.07472674 0.82156318 0.56205182 0.15861483 0.99498694 \n",
              "        64         65         66         67         68         69         70 \n",
              "0.56205182 0.07472674 0.09096250 0.07472674 0.15989589 0.15989589 0.71855841 \n",
              "        71         72         73         74         75         76         77 \n",
              "0.09096250 0.07472674 0.91990919 0.19008241 0.15989589 0.07472674 0.11030524 \n",
              "        78         79         80         81         82         83         84 \n",
              "0.11030524 0.11030524 0.15989589 0.69727641 0.07472674 0.99860930 0.74973019 \n",
              "        85         86         87         88         89         90         91 \n",
              "0.07472674 0.92975986 0.98267790 0.61306113 0.11030524 0.07472674 0.87592801 \n",
              "        92         93         94         95         96         97         98 \n",
              "0.07472674 0.13315862 0.09096250 0.13885712 0.92247348 0.72920760 0.22444527 \n",
              "        99        100        101        102        103        104        105 \n",
              "0.77109170 0.91082921 0.07472674 0.87056031 0.85792697 0.07472674 0.07472674 \n",
              "       106        107        108        109        110        111        112 \n",
              "0.07472674 0.15989589 0.92315497 0.15989589 0.10983663 0.23471455 0.28514808 \n",
              "       113        114        115        116        117        118        119 \n",
              "0.27536576 0.13315862 0.15989589 0.30659077 0.11030524 0.92652572 0.15989589 \n",
              "       120        121        122        123        124        125        126 \n",
              "0.15989589 0.15989589 0.22527910 0.87056031 0.15989589 0.98577264 0.85085038 \n",
              "       127        128        129        130        131        132        133 \n",
              "0.97954536 0.07472674 0.11030524 0.13315862 0.09096250 0.15989589 0.24353809 \n",
              "       134        135        136        137        138        139        140 \n",
              "0.99313607 0.11030524 0.36732110 0.75152115 0.85792697 0.19081999 0.23471455 \n",
              "       141        142        143        144        145        146        147 \n",
              "0.27441221 0.15989589 0.99860930 0.07472674 0.98245220 0.85792697 0.99422710 \n",
              "       148        149        150        151        152        153        154 \n",
              "0.43022957 0.09096250 0.11030524 0.09096250 0.15989589 0.22527910 0.61306113 \n",
              "       155        156        157        158        159        160        161 \n",
              "0.15989589 0.13315862 0.13315862 0.97225035 0.07472674 0.15861483 0.09096250 \n",
              "       162        163        164        165        166        167        168 \n",
              "0.15989589 0.70666765 0.09096250 0.97064000 0.13315862 0.07472674 0.07472674 \n",
              "       169        170        171        172        173        174        175 \n",
              "0.07472674 0.13315862 0.43140265 0.56205182 0.07472674 0.26579425 0.11030524 \n",
              "       176        177        178        179        180        181        182 \n",
              "0.19081999 0.97719100 0.11030524 0.77789098 0.11030524 0.11030524 0.09096250 \n",
              "       183        184        185        186        187        188        189 \n",
              "0.41954764 0.13315862 0.63691098 0.07472674 0.07472674 0.07472674 0.60006541 \n",
              "       190        191        192        193        194        195        196 \n",
              "0.89652222 0.11030524 0.13315862 0.88210220 0.09096250 0.33075889 0.11030524 \n",
              "       197        198        199        200        201        202        203 \n",
              "0.74052015 0.09096250 0.07472674 0.15989589 0.09096250 0.13315862 0.11030524 \n",
              "       204        205        206        207        208        209        210 \n",
              "0.11030524 0.07472674 0.11030524 0.11030524 0.11030524 0.07472674 0.19842126 \n",
              "       211        212        213        214        215        216        217 \n",
              "0.63912068 0.98419800 0.07472674 0.99786666 0.07472674 0.22527910 0.93007164 \n",
              "       218        219        220        221        222        223        224 \n",
              "0.15925431 0.91082921 0.32011252 0.97022823 0.13315862 0.87696409 0.11030524 \n",
              "       225        226        227        228        229        230        231 \n",
              "0.98708587 0.09096250 0.07472674 0.30557469 0.13315862 0.11030524 0.07472674 \n",
              "       232        233        234        235        236        237        238 \n",
              "0.22444527 0.07472674 0.24353809 0.11030524 0.98572195 0.97862625 0.07472674 \n",
              "       239        240        241        242        243        244        245 \n",
              "0.11030524 0.50908844 0.99887189 0.11030524 0.83665429 0.30760873 0.97616867 \n",
              "       246        247        248        249        250        251        252 \n",
              "0.43140265 0.07472674 0.07472674 0.13315862 0.09096250 0.07472674 0.82156318 \n",
              "       253        254        255        256        257        258        259 \n",
              "0.22611513 0.15989589 0.07472674 0.07472674 0.15861483 0.35502793 0.15989589 \n",
              "       260        261        262        263        264        265        266 \n",
              "0.91552531 0.11030524 0.11030524 0.43140265 0.07472674 0.11030524 0.92341050 \n",
              "       267        268        269        270        271        272        273 \n",
              "0.60006541 0.87553542 0.26579425 0.22361363 0.09096250 0.93345872 0.11030524 \n",
              "       274        275        276        277        278        279        280 \n",
              "0.33075889 0.11030524 0.95088041 0.07472674 0.51147938 0.95821561 0.23471455 \n",
              "       281        282        283        284        285        286        287 \n",
              "0.79653382 0.84443576 0.07472674 0.07472674 0.07472674 0.15989589 0.07472674 \n",
              "       288        289        290        291        292        293        294 \n",
              "0.39127817 0.92341050 0.11030524 0.95749060 0.07472674 0.11030524 0.98912806 \n",
              "       295        296        297        298        299        300        301 \n",
              "0.13260739 0.61078904 0.11030524 0.13315862 0.15989589 0.19081999 0.07472674 \n",
              "       302        303        304        305        306        307        308 \n",
              "0.73015121 0.07472674 0.43140265 0.07472674 0.24353809 0.15989589 0.07472674 \n",
              "       309        310        311        312        313        314        315 \n",
              "0.32970079 0.13885712 0.15989589 0.07472674 0.11030524 0.94304681 0.42905728 \n",
              "       316        317        318        319        320        321        322 \n",
              "0.13315862 0.11030524 0.67537070 0.07472674 0.40202126 0.69828525 0.13315862 \n",
              "       323        324        325        326        327        328        329 \n",
              "0.30557469 0.15861483 0.11030524 0.15989589 0.19008241 0.09096250 0.07472674 \n",
              "       330        331        332        333        334        335        336 \n",
              "0.15989589 0.07472674 0.07472674 0.39127817 0.99887727 0.45800258 0.97727127 \n",
              "       337        338        339        340        341        342        343 \n",
              "0.61078904 0.09096250 0.42905728 0.99737070 0.82156318 0.11030524 0.07472674 \n",
              "       344        345        346        347        348        349        350 \n",
              "0.22527910 0.07472674 0.60235935 0.07472674 0.13315862 0.13315862 0.72048928 \n",
              "       351        352        353        354        355        356        357 \n",
              "0.13885712 0.83649346 0.07472674 0.43140265 0.07472674 0.07472674 0.15989589 \n",
              "       358        359        360        361        362        363        364 \n",
              "0.55007988 0.32011252 0.74235437 0.13885712 0.36621005 0.97442457 0.48455027 \n",
              "       365        366        367        368        369        370        371 \n",
              "0.07472674 0.07472674 0.07472674 0.96144586 0.07472674 0.99914064 0.07472674 \n",
              "       372        373        374        375        376        377        378 \n",
              "0.15989589 0.33075889 0.13885712 0.13315862 0.13315862 0.82279003 0.09096250 \n",
              "       379        380        381        382        383        384        385 \n",
              "0.27441221 0.11030524 0.43140265 0.97862625 0.15925431 0.97442457 0.56116362 \n",
              "       386        387        388        389        390        391        392 \n",
              "0.60006541 0.63912068 0.07472674 0.98259628 0.09096250 0.99316860 0.96879488 \n",
              "       393        394        395        396        397        398        399 \n",
              "0.07472674 0.11030524 0.07472674 0.26579425 0.15989589 0.92652572 0.87592801 \n",
              "       400        401        402        403        404        405        406 \n",
              "0.11030524 0.94803821 0.99064179 0.15989589 0.89147359 0.19081999 0.07472674 \n",
              "       407        408        409        410        411        412        413 \n",
              "0.11030524 0.11030524 0.77953968 0.13315862 0.15989589 0.27441221 0.07472674 \n",
              "       414        415        416        417        418        419        420 \n",
              "0.99385492 0.47006424 0.97022823 0.19842126 0.82086079 0.60006541 0.07472674 \n",
              "       421        422        423        424        425        426        427 \n",
              "0.07472674 0.11030524 0.07472674 0.07472674 0.39127817 0.07472674 0.11030524 \n",
              "       428        429        430        431        432        433        434 \n",
              "0.07472674 0.15989589 0.13315862 0.99887727 0.07472674 0.15989589 0.19081999 \n",
              "       435        436        437        438        439        440        441 \n",
              "0.96540715 0.13315862 0.09096250 0.15989589 0.99674431 0.19081999 0.07472674 \n",
              "       442        443        444        445        446        447        448 \n",
              "0.09096250 0.43140265 0.19081999 0.13315862 0.09096250 0.07472674 0.09096250 \n",
              "       449        450        451        452        453        454        455 \n",
              "0.90263064 0.09096250 0.26579425 0.07472674 0.11030524 0.07472674 0.60006541 \n",
              "       456        457        458        459        460        461        462 \n",
              "0.07472674 0.19081999 0.07472674 0.13315862 0.11030524 0.07472674 0.15989589 \n",
              "       463        464        465        466        467        468        469 \n",
              "0.09096250 0.72826191 0.07472674 0.27536576 0.90681079 0.19842126 0.07472674 \n",
              "       470        471        472        473        474        475        476 \n",
              "0.11030524 0.10983663 0.07472674 0.09096250 0.23471455 0.36732110 0.13315862 \n",
              "       477        478        479        480        481        482        483 \n",
              "0.90609924 0.13315862 0.11030524 0.80596691 0.19008241 0.07472674 0.96197433 \n",
              "       484        485        486        487        488        489        490 \n",
              "0.07472674 0.99206032 0.15989589 0.11030524 0.11030524 0.73015121 0.95521788 \n",
              "       491        492        493        494        495        496        497 \n",
              "0.09096250 0.07472674 0.40432351 0.13315862 0.19008241 0.13315862 0.11030524 \n",
              "       498        499        500        501        502        503        504 \n",
              "0.19081999 0.98844441 0.87553542 0.71928739 0.99671312 0.91082921 0.95821561 \n",
              "       505        506        507        508        509        510        511 \n",
              "0.41954764 0.07472674 0.15989589 0.07472674 0.13315862 0.30760873 0.07472674 \n",
              "       512        513        514        515        516        517        518 \n",
              "0.13315862 0.56205182 0.13315862 0.07472674 0.91515459 0.07472674 0.13315862 \n",
              "       519        520        521        522        523        524        525 \n",
              "0.13315862 0.07472674 0.99615940 0.09096250 0.96011490 0.07472674 0.13315862 \n",
              "       526        527        528        529        530        531        532 \n",
              "0.23471455 0.77953968 0.13315862 0.07472674 0.98031102 0.27536576 0.11030524 \n",
              "       533        534        535        536        537        538        539 \n",
              "0.61306113 0.13315862 0.07472674 0.07472674 0.22527910 0.11030524 0.11030524 \n",
              "       540        541        542        543        544        545        546 \n",
              "0.13885712 0.15989589 0.15989589 0.13315862 0.22527910 0.98058613 0.09096250 \n",
              "       547        548        549        550        551        552        553 \n",
              "0.75980926 0.51147938 0.13315862 0.93038214 0.60006541 0.07472674 0.99236117 \n",
              "       554        555        556        557        558        559        560 \n",
              "0.77789098 0.91990919 0.90263064 0.09096250 0.11030524 0.09096250 0.99124845 \n",
              "       561        562        563        564        565        566        567 \n",
              "0.15925431 0.07472674 0.50908844 0.70567502 0.11030524 0.96011490 0.07472674 \n",
              "       568        569        570        571        572        573        574 \n",
              "0.19008241 0.19081999 0.11030524 0.07472674 0.43140265 0.15861483 0.11030524 \n",
              "       575        576        577        578        579        580        581 \n",
              "0.98578912 0.07472674 0.13315862 0.68796995 0.94011647 0.07472674 0.11030524 \n",
              "       582        583        584        585        586        587        588 \n",
              "0.68488082 0.19842126 0.63801656 0.07472674 0.27536576 0.07472674 0.07472674 \n",
              "       589        590        591        592        593        594        595 \n",
              "0.11030524 0.07472674 0.15989589 0.11030524 0.13315862 0.11030524 0.13315862 \n",
              "       596        597        598        599        600        601        602 \n",
              "0.07472674 0.13315862 0.11030524 0.15989589 0.07472674 0.27536576 0.28514808 \n",
              "       603        604        605        606        607        608        609 \n",
              "0.15989589 0.87056031 0.30965029 0.55007988 0.57657711 0.13315862 0.98427223 \n",
              "       610        611        612        613        614        615        616 \n",
              "0.15989589 0.97834891 0.27536576 0.19842126 0.15989589 0.19081999 0.11030524 \n",
              "       617        618        619        620        621        622        623 \n",
              "0.39127817 0.15989589 0.19081999 0.13315862 0.11030524 0.15989589 0.95521788 \n",
              "       624        625        626        627        628        629        630 \n",
              "0.09096250 0.13315862 0.07472674 0.32970079 0.16651880 0.98267790 0.22527910 \n",
              "       631        632        633        634        635        636        637 \n",
              "0.07472674 0.15989589 0.07472674 0.09096250 0.19766147 0.43140265 0.07472674 \n",
              "       638        639        640        641        642        643        644 \n",
              "0.09096250 0.11030524 0.15989589 0.07472674 0.07472674 0.98049485 0.11030524 \n",
              "       645        646        647        648        649        650        651 \n",
              "0.99763863 0.98500566 0.35502793 0.30965029 0.98645279 0.07472674 0.13885712 \n",
              "       652        653        654        655        656        657        658 \n",
              "0.94330321 0.07472674 0.11030524 0.15989589 0.13315862 0.26579425 0.23471455 \n",
              "       659        660        661        662        663        664        665 \n",
              "0.09096250 0.64022334 0.07472674 0.19081999 0.11030524 0.99860930 0.95821561 \n",
              "       666        667        668        669        670        671        672 \n",
              "0.07472674 0.15989589 0.15989589 0.19081999 0.39127817 0.13315862 0.98412343 \n",
              "       673        674        675        676        677        678        679 \n",
              "0.11030524 0.13885712 0.96011490 0.60235935 0.95821561 0.11030524 0.11030524 \n",
              "       680        681        682        683        684        685        686 \n",
              "0.07472674 0.87696409 0.15989589 0.15989589 0.27536576 0.15989589 0.10983663 \n",
              "       687        688        689        690        691        692        693 \n",
              "0.99819203 0.19081999 0.11030524 0.07472674 0.84254113 0.09096250 0.13315862 \n",
              "       694        695        696        697        698        699 \n",
              "0.48455027 0.15989589 0.99279742 0.19081999 0.92341050 0.07472674 "
            ]
          },
          "metadata": {}
        }
      ]
    },
    {
      "cell_type": "code",
      "source": [
        "#Obtem a predicao/probabilidade para cada observacao\n",
        "Probabilidade <- predict(fit, newdata= dados,type = 'response')"
      ],
      "metadata": {
        "id": "Jd4bi5fZ6fCn"
      },
      "execution_count": 72,
      "outputs": []
    },
    {
      "cell_type": "code",
      "source": [
        "#Se a probabilidade for maior que 50% classifica como 'Boa'\n",
        "Classe_Predita <- ifelse(Probabilidade > 0.5,\"Boa\",\"Ruim\")"
      ],
      "metadata": {
        "id": "CWw2-hIC6fMi"
      },
      "execution_count": 73,
      "outputs": []
    },
    {
      "cell_type": "code",
      "source": [
        "#Visualiza data frame com as predicoes\n",
        "View(data.frame(dados,Probabilidade,Classe_Predita))"
      ],
      "metadata": {
        "colab": {
          "base_uri": "https://localhost:8080/",
          "height": 1000
        },
        "id": "FfDfn4Li6qk6",
        "outputId": "b6c9f051-3161-4889-9c02-d526c60a3c49"
      },
      "execution_count": 74,
      "outputs": [
        {
          "output_type": "display_data",
          "data": {
            "text/plain": [
              "    Prova_Logica Redacao Auto_Avaliacao Classe Probabilidade Classe_Predita\n",
              "1   2            1       1              Ruim   0.09096250    Ruim          \n",
              "2   2            1       1              Ruim   0.09096250    Ruim          \n",
              "3   5            1       1              Ruim   0.15989589    Ruim          \n",
              "4   5            4       1              Boa    0.60235935    Boa           \n",
              "5   5            3       1              Ruim   0.43140265    Ruim          \n",
              "6   2            3       1              Ruim   0.28514808    Ruim          \n",
              "7   3            5       1              Boa    0.66331842    Boa           \n",
              "8   2            5       7              Boa    0.95288247    Boa           \n",
              "9   1            9       1              Boa    0.95325780    Boa           \n",
              "10  4            1       1              Ruim   0.13315862    Ruim          \n",
              "11  5            1       1              Ruim   0.15989589    Ruim          \n",
              "12  8            1       9              Boa    0.91487406    Boa           \n",
              "13  1            1       1              Ruim   0.07472674    Ruim          \n",
              "14  1            1       1              Ruim   0.07472674    Ruim          \n",
              "15  3            4       1              Boa    0.49667040    Ruim          \n",
              "16  4            3       3              Ruim   0.58837159    Boa           \n",
              "17  3            3       6              Ruim   0.80446627    Boa           \n",
              "18  2            1       1              Ruim   0.09096250    Ruim          \n",
              "19  1            1       1              Ruim   0.07472674    Ruim          \n",
              "20  1            1       1              Ruim   0.07472674    Ruim          \n",
              "21  8            1       1              Boa    0.26579425    Ruim          \n",
              "22  8            7       1              Boa    0.95821561    Boa           \n",
              "23  1            1       1              Ruim   0.07472674    Ruim          \n",
              "24  2            1       1              Ruim   0.09096250    Ruim          \n",
              "25  1            8       1              Boa    0.91082921    Boa           \n",
              "26  5            1       1              Ruim   0.15989589    Ruim          \n",
              "27  3            1       1              Ruim   0.11030524    Ruim          \n",
              "28  3            1       1              Ruim   0.11030524    Ruim          \n",
              "29  5            3       1              Boa    0.43140265    Ruim          \n",
              "30  4            8       1              Boa    0.95104864    Boa           \n",
              "⋮   ⋮            ⋮       ⋮              ⋮      ⋮             ⋮             \n",
              "670 1            4       1              Boa    0.39127817    Ruim          \n",
              "671 4            1       1              Ruim   0.13315862    Ruim          \n",
              "672 4            6       7              Boa    0.98412343    Boa           \n",
              "673 3            1       1              Ruim   0.11030524    Ruim          \n",
              "674 1            2       1              Ruim   0.13885712    Ruim          \n",
              "675 5            8       1              Boa    0.96011490    Boa           \n",
              "676 5            4       1              Boa    0.60235935    Boa           \n",
              "677 8            7       1              Boa    0.95821561    Boa           \n",
              "678 3            1       1              Ruim   0.11030524    Ruim          \n",
              "679 3            1       1              Ruim   0.11030524    Ruim          \n",
              "680 1            1       1              Ruim   0.07472674    Ruim          \n",
              "681 9            5       1              Boa    0.87696409    Boa           \n",
              "682 5            1       1              Ruim   0.15989589    Ruim          \n",
              "683 5            1       1              Ruim   0.15989589    Ruim          \n",
              "684 5            2       1              Ruim   0.27536576    Ruim          \n",
              "685 5            1       1              Ruim   0.15989589    Ruim          \n",
              "686 1            1       2              Ruim   0.10983663    Ruim          \n",
              "687 9            7       8              Boa    0.99819203    Boa           \n",
              "688 6            1       1              Ruim   0.19081999    Ruim          \n",
              "689 3            1       1              Boa    0.11030524    Ruim          \n",
              "690 1            1       1              Ruim   0.07472674    Ruim          \n",
              "691 1            4       6              Boa    0.84254113    Boa           \n",
              "692 2            1       1              Ruim   0.09096250    Ruim          \n",
              "693 4            1       1              Ruim   0.13315862    Ruim          \n",
              "694 6            3       1              Boa    0.48455027    Ruim          \n",
              "695 5            1       1              Ruim   0.15989589    Ruim          \n",
              "696 7            5       9              Boa    0.99279742    Boa           \n",
              "697 6            1       1              Boa    0.19081999    Ruim          \n",
              "698 5            7       1              Boa    0.92341050    Boa           \n",
              "699 1            1       1              Ruim   0.07472674    Ruim          "
            ],
            "text/html": [
              "<table class=\"dataframe\">\n",
              "<caption>A data.frame: 699 × 6</caption>\n",
              "<thead>\n",
              "\t<tr><th></th><th scope=col>Prova_Logica</th><th scope=col>Redacao</th><th scope=col>Auto_Avaliacao</th><th scope=col>Classe</th><th scope=col>Probabilidade</th><th scope=col>Classe_Predita</th></tr>\n",
              "\t<tr><th></th><th scope=col>&lt;dbl&gt;</th><th scope=col>&lt;dbl&gt;</th><th scope=col>&lt;dbl&gt;</th><th scope=col>&lt;fct&gt;</th><th scope=col>&lt;dbl&gt;</th><th scope=col>&lt;chr&gt;</th></tr>\n",
              "</thead>\n",
              "<tbody>\n",
              "\t<tr><th scope=row>1</th><td>2</td><td>1</td><td>1</td><td>Ruim</td><td>0.09096250</td><td>Ruim</td></tr>\n",
              "\t<tr><th scope=row>2</th><td>2</td><td>1</td><td>1</td><td>Ruim</td><td>0.09096250</td><td>Ruim</td></tr>\n",
              "\t<tr><th scope=row>3</th><td>5</td><td>1</td><td>1</td><td>Ruim</td><td>0.15989589</td><td>Ruim</td></tr>\n",
              "\t<tr><th scope=row>4</th><td>5</td><td>4</td><td>1</td><td>Boa </td><td>0.60235935</td><td>Boa </td></tr>\n",
              "\t<tr><th scope=row>5</th><td>5</td><td>3</td><td>1</td><td>Ruim</td><td>0.43140265</td><td>Ruim</td></tr>\n",
              "\t<tr><th scope=row>6</th><td>2</td><td>3</td><td>1</td><td>Ruim</td><td>0.28514808</td><td>Ruim</td></tr>\n",
              "\t<tr><th scope=row>7</th><td>3</td><td>5</td><td>1</td><td>Boa </td><td>0.66331842</td><td>Boa </td></tr>\n",
              "\t<tr><th scope=row>8</th><td>2</td><td>5</td><td>7</td><td>Boa </td><td>0.95288247</td><td>Boa </td></tr>\n",
              "\t<tr><th scope=row>9</th><td>1</td><td>9</td><td>1</td><td>Boa </td><td>0.95325780</td><td>Boa </td></tr>\n",
              "\t<tr><th scope=row>10</th><td>4</td><td>1</td><td>1</td><td>Ruim</td><td>0.13315862</td><td>Ruim</td></tr>\n",
              "\t<tr><th scope=row>11</th><td>5</td><td>1</td><td>1</td><td>Ruim</td><td>0.15989589</td><td>Ruim</td></tr>\n",
              "\t<tr><th scope=row>12</th><td>8</td><td>1</td><td>9</td><td>Boa </td><td>0.91487406</td><td>Boa </td></tr>\n",
              "\t<tr><th scope=row>13</th><td>1</td><td>1</td><td>1</td><td>Ruim</td><td>0.07472674</td><td>Ruim</td></tr>\n",
              "\t<tr><th scope=row>14</th><td>1</td><td>1</td><td>1</td><td>Ruim</td><td>0.07472674</td><td>Ruim</td></tr>\n",
              "\t<tr><th scope=row>15</th><td>3</td><td>4</td><td>1</td><td>Boa </td><td>0.49667040</td><td>Ruim</td></tr>\n",
              "\t<tr><th scope=row>16</th><td>4</td><td>3</td><td>3</td><td>Ruim</td><td>0.58837159</td><td>Boa </td></tr>\n",
              "\t<tr><th scope=row>17</th><td>3</td><td>3</td><td>6</td><td>Ruim</td><td>0.80446627</td><td>Boa </td></tr>\n",
              "\t<tr><th scope=row>18</th><td>2</td><td>1</td><td>1</td><td>Ruim</td><td>0.09096250</td><td>Ruim</td></tr>\n",
              "\t<tr><th scope=row>19</th><td>1</td><td>1</td><td>1</td><td>Ruim</td><td>0.07472674</td><td>Ruim</td></tr>\n",
              "\t<tr><th scope=row>20</th><td>1</td><td>1</td><td>1</td><td>Ruim</td><td>0.07472674</td><td>Ruim</td></tr>\n",
              "\t<tr><th scope=row>21</th><td>8</td><td>1</td><td>1</td><td>Boa </td><td>0.26579425</td><td>Ruim</td></tr>\n",
              "\t<tr><th scope=row>22</th><td>8</td><td>7</td><td>1</td><td>Boa </td><td>0.95821561</td><td>Boa </td></tr>\n",
              "\t<tr><th scope=row>23</th><td>1</td><td>1</td><td>1</td><td>Ruim</td><td>0.07472674</td><td>Ruim</td></tr>\n",
              "\t<tr><th scope=row>24</th><td>2</td><td>1</td><td>1</td><td>Ruim</td><td>0.09096250</td><td>Ruim</td></tr>\n",
              "\t<tr><th scope=row>25</th><td>1</td><td>8</td><td>1</td><td>Boa </td><td>0.91082921</td><td>Boa </td></tr>\n",
              "\t<tr><th scope=row>26</th><td>5</td><td>1</td><td>1</td><td>Ruim</td><td>0.15989589</td><td>Ruim</td></tr>\n",
              "\t<tr><th scope=row>27</th><td>3</td><td>1</td><td>1</td><td>Ruim</td><td>0.11030524</td><td>Ruim</td></tr>\n",
              "\t<tr><th scope=row>28</th><td>3</td><td>1</td><td>1</td><td>Ruim</td><td>0.11030524</td><td>Ruim</td></tr>\n",
              "\t<tr><th scope=row>29</th><td>5</td><td>3</td><td>1</td><td>Boa </td><td>0.43140265</td><td>Ruim</td></tr>\n",
              "\t<tr><th scope=row>30</th><td>4</td><td>8</td><td>1</td><td>Boa </td><td>0.95104864</td><td>Boa </td></tr>\n",
              "\t<tr><th scope=row>⋮</th><td>⋮</td><td>⋮</td><td>⋮</td><td>⋮</td><td>⋮</td><td>⋮</td></tr>\n",
              "\t<tr><th scope=row>670</th><td>1</td><td>4</td><td>1</td><td>Boa </td><td>0.39127817</td><td>Ruim</td></tr>\n",
              "\t<tr><th scope=row>671</th><td>4</td><td>1</td><td>1</td><td>Ruim</td><td>0.13315862</td><td>Ruim</td></tr>\n",
              "\t<tr><th scope=row>672</th><td>4</td><td>6</td><td>7</td><td>Boa </td><td>0.98412343</td><td>Boa </td></tr>\n",
              "\t<tr><th scope=row>673</th><td>3</td><td>1</td><td>1</td><td>Ruim</td><td>0.11030524</td><td>Ruim</td></tr>\n",
              "\t<tr><th scope=row>674</th><td>1</td><td>2</td><td>1</td><td>Ruim</td><td>0.13885712</td><td>Ruim</td></tr>\n",
              "\t<tr><th scope=row>675</th><td>5</td><td>8</td><td>1</td><td>Boa </td><td>0.96011490</td><td>Boa </td></tr>\n",
              "\t<tr><th scope=row>676</th><td>5</td><td>4</td><td>1</td><td>Boa </td><td>0.60235935</td><td>Boa </td></tr>\n",
              "\t<tr><th scope=row>677</th><td>8</td><td>7</td><td>1</td><td>Boa </td><td>0.95821561</td><td>Boa </td></tr>\n",
              "\t<tr><th scope=row>678</th><td>3</td><td>1</td><td>1</td><td>Ruim</td><td>0.11030524</td><td>Ruim</td></tr>\n",
              "\t<tr><th scope=row>679</th><td>3</td><td>1</td><td>1</td><td>Ruim</td><td>0.11030524</td><td>Ruim</td></tr>\n",
              "\t<tr><th scope=row>680</th><td>1</td><td>1</td><td>1</td><td>Ruim</td><td>0.07472674</td><td>Ruim</td></tr>\n",
              "\t<tr><th scope=row>681</th><td>9</td><td>5</td><td>1</td><td>Boa </td><td>0.87696409</td><td>Boa </td></tr>\n",
              "\t<tr><th scope=row>682</th><td>5</td><td>1</td><td>1</td><td>Ruim</td><td>0.15989589</td><td>Ruim</td></tr>\n",
              "\t<tr><th scope=row>683</th><td>5</td><td>1</td><td>1</td><td>Ruim</td><td>0.15989589</td><td>Ruim</td></tr>\n",
              "\t<tr><th scope=row>684</th><td>5</td><td>2</td><td>1</td><td>Ruim</td><td>0.27536576</td><td>Ruim</td></tr>\n",
              "\t<tr><th scope=row>685</th><td>5</td><td>1</td><td>1</td><td>Ruim</td><td>0.15989589</td><td>Ruim</td></tr>\n",
              "\t<tr><th scope=row>686</th><td>1</td><td>1</td><td>2</td><td>Ruim</td><td>0.10983663</td><td>Ruim</td></tr>\n",
              "\t<tr><th scope=row>687</th><td>9</td><td>7</td><td>8</td><td>Boa </td><td>0.99819203</td><td>Boa </td></tr>\n",
              "\t<tr><th scope=row>688</th><td>6</td><td>1</td><td>1</td><td>Ruim</td><td>0.19081999</td><td>Ruim</td></tr>\n",
              "\t<tr><th scope=row>689</th><td>3</td><td>1</td><td>1</td><td>Boa </td><td>0.11030524</td><td>Ruim</td></tr>\n",
              "\t<tr><th scope=row>690</th><td>1</td><td>1</td><td>1</td><td>Ruim</td><td>0.07472674</td><td>Ruim</td></tr>\n",
              "\t<tr><th scope=row>691</th><td>1</td><td>4</td><td>6</td><td>Boa </td><td>0.84254113</td><td>Boa </td></tr>\n",
              "\t<tr><th scope=row>692</th><td>2</td><td>1</td><td>1</td><td>Ruim</td><td>0.09096250</td><td>Ruim</td></tr>\n",
              "\t<tr><th scope=row>693</th><td>4</td><td>1</td><td>1</td><td>Ruim</td><td>0.13315862</td><td>Ruim</td></tr>\n",
              "\t<tr><th scope=row>694</th><td>6</td><td>3</td><td>1</td><td>Boa </td><td>0.48455027</td><td>Ruim</td></tr>\n",
              "\t<tr><th scope=row>695</th><td>5</td><td>1</td><td>1</td><td>Ruim</td><td>0.15989589</td><td>Ruim</td></tr>\n",
              "\t<tr><th scope=row>696</th><td>7</td><td>5</td><td>9</td><td>Boa </td><td>0.99279742</td><td>Boa </td></tr>\n",
              "\t<tr><th scope=row>697</th><td>6</td><td>1</td><td>1</td><td>Boa </td><td>0.19081999</td><td>Ruim</td></tr>\n",
              "\t<tr><th scope=row>698</th><td>5</td><td>7</td><td>1</td><td>Boa </td><td>0.92341050</td><td>Boa </td></tr>\n",
              "\t<tr><th scope=row>699</th><td>1</td><td>1</td><td>1</td><td>Ruim</td><td>0.07472674</td><td>Ruim</td></tr>\n",
              "</tbody>\n",
              "</table>\n"
            ],
            "text/markdown": "\nA data.frame: 699 × 6\n\n| <!--/--> | Prova_Logica &lt;dbl&gt; | Redacao &lt;dbl&gt; | Auto_Avaliacao &lt;dbl&gt; | Classe &lt;fct&gt; | Probabilidade &lt;dbl&gt; | Classe_Predita &lt;chr&gt; |\n|---|---|---|---|---|---|---|\n| 1 | 2 | 1 | 1 | Ruim | 0.09096250 | Ruim |\n| 2 | 2 | 1 | 1 | Ruim | 0.09096250 | Ruim |\n| 3 | 5 | 1 | 1 | Ruim | 0.15989589 | Ruim |\n| 4 | 5 | 4 | 1 | Boa  | 0.60235935 | Boa  |\n| 5 | 5 | 3 | 1 | Ruim | 0.43140265 | Ruim |\n| 6 | 2 | 3 | 1 | Ruim | 0.28514808 | Ruim |\n| 7 | 3 | 5 | 1 | Boa  | 0.66331842 | Boa  |\n| 8 | 2 | 5 | 7 | Boa  | 0.95288247 | Boa  |\n| 9 | 1 | 9 | 1 | Boa  | 0.95325780 | Boa  |\n| 10 | 4 | 1 | 1 | Ruim | 0.13315862 | Ruim |\n| 11 | 5 | 1 | 1 | Ruim | 0.15989589 | Ruim |\n| 12 | 8 | 1 | 9 | Boa  | 0.91487406 | Boa  |\n| 13 | 1 | 1 | 1 | Ruim | 0.07472674 | Ruim |\n| 14 | 1 | 1 | 1 | Ruim | 0.07472674 | Ruim |\n| 15 | 3 | 4 | 1 | Boa  | 0.49667040 | Ruim |\n| 16 | 4 | 3 | 3 | Ruim | 0.58837159 | Boa  |\n| 17 | 3 | 3 | 6 | Ruim | 0.80446627 | Boa  |\n| 18 | 2 | 1 | 1 | Ruim | 0.09096250 | Ruim |\n| 19 | 1 | 1 | 1 | Ruim | 0.07472674 | Ruim |\n| 20 | 1 | 1 | 1 | Ruim | 0.07472674 | Ruim |\n| 21 | 8 | 1 | 1 | Boa  | 0.26579425 | Ruim |\n| 22 | 8 | 7 | 1 | Boa  | 0.95821561 | Boa  |\n| 23 | 1 | 1 | 1 | Ruim | 0.07472674 | Ruim |\n| 24 | 2 | 1 | 1 | Ruim | 0.09096250 | Ruim |\n| 25 | 1 | 8 | 1 | Boa  | 0.91082921 | Boa  |\n| 26 | 5 | 1 | 1 | Ruim | 0.15989589 | Ruim |\n| 27 | 3 | 1 | 1 | Ruim | 0.11030524 | Ruim |\n| 28 | 3 | 1 | 1 | Ruim | 0.11030524 | Ruim |\n| 29 | 5 | 3 | 1 | Boa  | 0.43140265 | Ruim |\n| 30 | 4 | 8 | 1 | Boa  | 0.95104864 | Boa  |\n| ⋮ | ⋮ | ⋮ | ⋮ | ⋮ | ⋮ | ⋮ |\n| 670 | 1 | 4 | 1 | Boa  | 0.39127817 | Ruim |\n| 671 | 4 | 1 | 1 | Ruim | 0.13315862 | Ruim |\n| 672 | 4 | 6 | 7 | Boa  | 0.98412343 | Boa  |\n| 673 | 3 | 1 | 1 | Ruim | 0.11030524 | Ruim |\n| 674 | 1 | 2 | 1 | Ruim | 0.13885712 | Ruim |\n| 675 | 5 | 8 | 1 | Boa  | 0.96011490 | Boa  |\n| 676 | 5 | 4 | 1 | Boa  | 0.60235935 | Boa  |\n| 677 | 8 | 7 | 1 | Boa  | 0.95821561 | Boa  |\n| 678 | 3 | 1 | 1 | Ruim | 0.11030524 | Ruim |\n| 679 | 3 | 1 | 1 | Ruim | 0.11030524 | Ruim |\n| 680 | 1 | 1 | 1 | Ruim | 0.07472674 | Ruim |\n| 681 | 9 | 5 | 1 | Boa  | 0.87696409 | Boa  |\n| 682 | 5 | 1 | 1 | Ruim | 0.15989589 | Ruim |\n| 683 | 5 | 1 | 1 | Ruim | 0.15989589 | Ruim |\n| 684 | 5 | 2 | 1 | Ruim | 0.27536576 | Ruim |\n| 685 | 5 | 1 | 1 | Ruim | 0.15989589 | Ruim |\n| 686 | 1 | 1 | 2 | Ruim | 0.10983663 | Ruim |\n| 687 | 9 | 7 | 8 | Boa  | 0.99819203 | Boa  |\n| 688 | 6 | 1 | 1 | Ruim | 0.19081999 | Ruim |\n| 689 | 3 | 1 | 1 | Boa  | 0.11030524 | Ruim |\n| 690 | 1 | 1 | 1 | Ruim | 0.07472674 | Ruim |\n| 691 | 1 | 4 | 6 | Boa  | 0.84254113 | Boa  |\n| 692 | 2 | 1 | 1 | Ruim | 0.09096250 | Ruim |\n| 693 | 4 | 1 | 1 | Ruim | 0.13315862 | Ruim |\n| 694 | 6 | 3 | 1 | Boa  | 0.48455027 | Ruim |\n| 695 | 5 | 1 | 1 | Ruim | 0.15989589 | Ruim |\n| 696 | 7 | 5 | 9 | Boa  | 0.99279742 | Boa  |\n| 697 | 6 | 1 | 1 | Boa  | 0.19081999 | Ruim |\n| 698 | 5 | 7 | 1 | Boa  | 0.92341050 | Boa  |\n| 699 | 1 | 1 | 1 | Ruim | 0.07472674 | Ruim |\n\n",
            "text/latex": "A data.frame: 699 × 6\n\\begin{tabular}{r|llllll}\n  & Prova\\_Logica & Redacao & Auto\\_Avaliacao & Classe & Probabilidade & Classe\\_Predita\\\\\n  & <dbl> & <dbl> & <dbl> & <fct> & <dbl> & <chr>\\\\\n\\hline\n\t1 & 2 & 1 & 1 & Ruim & 0.09096250 & Ruim\\\\\n\t2 & 2 & 1 & 1 & Ruim & 0.09096250 & Ruim\\\\\n\t3 & 5 & 1 & 1 & Ruim & 0.15989589 & Ruim\\\\\n\t4 & 5 & 4 & 1 & Boa  & 0.60235935 & Boa \\\\\n\t5 & 5 & 3 & 1 & Ruim & 0.43140265 & Ruim\\\\\n\t6 & 2 & 3 & 1 & Ruim & 0.28514808 & Ruim\\\\\n\t7 & 3 & 5 & 1 & Boa  & 0.66331842 & Boa \\\\\n\t8 & 2 & 5 & 7 & Boa  & 0.95288247 & Boa \\\\\n\t9 & 1 & 9 & 1 & Boa  & 0.95325780 & Boa \\\\\n\t10 & 4 & 1 & 1 & Ruim & 0.13315862 & Ruim\\\\\n\t11 & 5 & 1 & 1 & Ruim & 0.15989589 & Ruim\\\\\n\t12 & 8 & 1 & 9 & Boa  & 0.91487406 & Boa \\\\\n\t13 & 1 & 1 & 1 & Ruim & 0.07472674 & Ruim\\\\\n\t14 & 1 & 1 & 1 & Ruim & 0.07472674 & Ruim\\\\\n\t15 & 3 & 4 & 1 & Boa  & 0.49667040 & Ruim\\\\\n\t16 & 4 & 3 & 3 & Ruim & 0.58837159 & Boa \\\\\n\t17 & 3 & 3 & 6 & Ruim & 0.80446627 & Boa \\\\\n\t18 & 2 & 1 & 1 & Ruim & 0.09096250 & Ruim\\\\\n\t19 & 1 & 1 & 1 & Ruim & 0.07472674 & Ruim\\\\\n\t20 & 1 & 1 & 1 & Ruim & 0.07472674 & Ruim\\\\\n\t21 & 8 & 1 & 1 & Boa  & 0.26579425 & Ruim\\\\\n\t22 & 8 & 7 & 1 & Boa  & 0.95821561 & Boa \\\\\n\t23 & 1 & 1 & 1 & Ruim & 0.07472674 & Ruim\\\\\n\t24 & 2 & 1 & 1 & Ruim & 0.09096250 & Ruim\\\\\n\t25 & 1 & 8 & 1 & Boa  & 0.91082921 & Boa \\\\\n\t26 & 5 & 1 & 1 & Ruim & 0.15989589 & Ruim\\\\\n\t27 & 3 & 1 & 1 & Ruim & 0.11030524 & Ruim\\\\\n\t28 & 3 & 1 & 1 & Ruim & 0.11030524 & Ruim\\\\\n\t29 & 5 & 3 & 1 & Boa  & 0.43140265 & Ruim\\\\\n\t30 & 4 & 8 & 1 & Boa  & 0.95104864 & Boa \\\\\n\t⋮ & ⋮ & ⋮ & ⋮ & ⋮ & ⋮ & ⋮\\\\\n\t670 & 1 & 4 & 1 & Boa  & 0.39127817 & Ruim\\\\\n\t671 & 4 & 1 & 1 & Ruim & 0.13315862 & Ruim\\\\\n\t672 & 4 & 6 & 7 & Boa  & 0.98412343 & Boa \\\\\n\t673 & 3 & 1 & 1 & Ruim & 0.11030524 & Ruim\\\\\n\t674 & 1 & 2 & 1 & Ruim & 0.13885712 & Ruim\\\\\n\t675 & 5 & 8 & 1 & Boa  & 0.96011490 & Boa \\\\\n\t676 & 5 & 4 & 1 & Boa  & 0.60235935 & Boa \\\\\n\t677 & 8 & 7 & 1 & Boa  & 0.95821561 & Boa \\\\\n\t678 & 3 & 1 & 1 & Ruim & 0.11030524 & Ruim\\\\\n\t679 & 3 & 1 & 1 & Ruim & 0.11030524 & Ruim\\\\\n\t680 & 1 & 1 & 1 & Ruim & 0.07472674 & Ruim\\\\\n\t681 & 9 & 5 & 1 & Boa  & 0.87696409 & Boa \\\\\n\t682 & 5 & 1 & 1 & Ruim & 0.15989589 & Ruim\\\\\n\t683 & 5 & 1 & 1 & Ruim & 0.15989589 & Ruim\\\\\n\t684 & 5 & 2 & 1 & Ruim & 0.27536576 & Ruim\\\\\n\t685 & 5 & 1 & 1 & Ruim & 0.15989589 & Ruim\\\\\n\t686 & 1 & 1 & 2 & Ruim & 0.10983663 & Ruim\\\\\n\t687 & 9 & 7 & 8 & Boa  & 0.99819203 & Boa \\\\\n\t688 & 6 & 1 & 1 & Ruim & 0.19081999 & Ruim\\\\\n\t689 & 3 & 1 & 1 & Boa  & 0.11030524 & Ruim\\\\\n\t690 & 1 & 1 & 1 & Ruim & 0.07472674 & Ruim\\\\\n\t691 & 1 & 4 & 6 & Boa  & 0.84254113 & Boa \\\\\n\t692 & 2 & 1 & 1 & Ruim & 0.09096250 & Ruim\\\\\n\t693 & 4 & 1 & 1 & Ruim & 0.13315862 & Ruim\\\\\n\t694 & 6 & 3 & 1 & Boa  & 0.48455027 & Ruim\\\\\n\t695 & 5 & 1 & 1 & Ruim & 0.15989589 & Ruim\\\\\n\t696 & 7 & 5 & 9 & Boa  & 0.99279742 & Boa \\\\\n\t697 & 6 & 1 & 1 & Boa  & 0.19081999 & Ruim\\\\\n\t698 & 5 & 7 & 1 & Boa  & 0.92341050 & Boa \\\\\n\t699 & 1 & 1 & 1 & Ruim & 0.07472674 & Ruim\\\\\n\\end{tabular}\n"
          },
          "metadata": {}
        }
      ]
    },
    {
      "cell_type": "code",
      "source": [
        "#Gera matriz de confusao\n",
        "confusao <- table(Classe_Predita = Classe_Predita, Classe_Original = \n",
        "relevel(dados$Classe,ref = 'Boa'))"
      ],
      "metadata": {
        "id": "oZ2tRNIF6rA1"
      },
      "execution_count": 75,
      "outputs": []
    },
    {
      "cell_type": "code",
      "source": [
        "#Armazena valores da matriz de confusao\n",
        "vp <- confusao[1,1];vp\n",
        "fn <- confusao[2,1];fn\n",
        "vn <- confusao[2,2];vn\n",
        "fp <- confusao[1,2];fp"
      ],
      "metadata": {
        "colab": {
          "base_uri": "https://localhost:8080/",
          "height": 86
        },
        "id": "iUp8Mlbf6w8-",
        "outputId": "3c9b08f9-c74a-434f-f006-4886b6d4fef8"
      },
      "execution_count": 76,
      "outputs": [
        {
          "output_type": "display_data",
          "data": {
            "text/html": [
              "169"
            ],
            "text/markdown": "169",
            "text/latex": "169",
            "text/plain": [
              "[1] 169"
            ]
          },
          "metadata": {}
        },
        {
          "output_type": "display_data",
          "data": {
            "text/html": [
              "72"
            ],
            "text/markdown": "72",
            "text/latex": "72",
            "text/plain": [
              "[1] 72"
            ]
          },
          "metadata": {}
        },
        {
          "output_type": "display_data",
          "data": {
            "text/html": [
              "435"
            ],
            "text/markdown": "435",
            "text/latex": "435",
            "text/plain": [
              "[1] 435"
            ]
          },
          "metadata": {}
        },
        {
          "output_type": "display_data",
          "data": {
            "text/html": [
              "23"
            ],
            "text/markdown": "23",
            "text/latex": "23",
            "text/plain": [
              "[1] 23"
            ]
          },
          "metadata": {}
        }
      ]
    },
    {
      "cell_type": "code",
      "source": [
        "#Calcula acuracia\n",
        "acuracia <- sum(diag(confusao))/ sum(confusao);acuracia"
      ],
      "metadata": {
        "colab": {
          "base_uri": "https://localhost:8080/",
          "height": 34
        },
        "id": "3DLloi0s60kF",
        "outputId": "b9c28da5-8d18-471d-f684-afb02a6767d1"
      },
      "execution_count": 77,
      "outputs": [
        {
          "output_type": "display_data",
          "data": {
            "text/html": [
              "0.864091559370529"
            ],
            "text/markdown": "0.864091559370529",
            "text/latex": "0.864091559370529",
            "text/plain": [
              "[1] 0.8640916"
            ]
          },
          "metadata": {}
        }
      ]
    },
    {
      "cell_type": "code",
      "source": [
        "#Calcula Sensitividade \n",
        "sensitividade <- vp /(vp+fn)"
      ],
      "metadata": {
        "id": "bN1smatE614q"
      },
      "execution_count": 78,
      "outputs": []
    },
    {
      "cell_type": "code",
      "source": [
        "#Cacula Especificidade\n",
        "especificidade <- vn / (vn + fp) "
      ],
      "metadata": {
        "id": "_nqdyWxb618D"
      },
      "execution_count": 79,
      "outputs": []
    },
    {
      "cell_type": "code",
      "source": [
        "#Analise de Sensitividade e Especificidade\n",
        "limiares <- sort(Probabilidade)"
      ],
      "metadata": {
        "id": "1gOD8JDC6-Qc"
      },
      "execution_count": 80,
      "outputs": []
    },
    {
      "cell_type": "code",
      "source": [
        "acuracia <- c()\n",
        "sensitividade <- c()\n",
        "especificidade <- c()"
      ],
      "metadata": {
        "id": "-8ZC2dYhAlYZ"
      },
      "execution_count": 81,
      "outputs": []
    },
    {
      "cell_type": "code",
      "source": [
        "for ( i in 1:length(limiares)) {\n",
        " \n",
        " limiar_atual <- limiares[i]\n",
        " \n",
        " Classe_Predita <- ifelse(Probabilidade > limiar_atual,'Boa' , 'Ruim')\n",
        "\n",
        " #Gera matriz de confusao\n",
        "confusao <- table(Classe_Predita = Classe_Predita, Classe_Original = \n",
        "relevel(dados$Classe,ref = 'Boa'))\n",
        "\n",
        "#Armazena valores da matriz de confusao\n",
        "vp <- confusao[1,1];vp\n",
        "fn <- confusao[2,1];fn\n",
        "vn <- confusao[2,2];vn\n",
        "fp <- confusao[1,2];fp\n",
        "\n",
        " #Calcula acuracia\n",
        " acuracia[i] <- sum(diag(confusao))/ sum(confusao);acuracia\n",
        "\n",
        "  #Calcula Sensitividade \n",
        " sensitividade[i] <- vp /(vp+fn)\n",
        "\n",
        " #Calcula Especificidade\n",
        "especificidade[i] <- vn / (vn + fp) \n",
        "}"
      ],
      "metadata": {
        "id": "MXgM5hYkAozU"
      },
      "execution_count": null,
      "outputs": []
    },
    {
      "cell_type": "code",
      "source": [
        "plot(y = sensitividade[1:698] , x = limiares[1:698], type=\"l\", col=\"red\", ylab = \n",
        "'Sensitividade e Especificidade', xlab= 'Pontos de Corte')\n",
        "grid()\n",
        "lines(y = especificidade[1:698], x = limiares[1:698], type = 'l',col=\"blue\" )\n",
        "legend(\"bottomleft\", c(\"sensibilidade\",\"especificidade\"),\n",
        " col=c(\"red\",\"blue\"), lty=c(1,1),bty=\"n\", cex=1, lwd=1)\n",
        "abline(v=0.225)"
      ],
      "metadata": {
        "colab": {
          "base_uri": "https://localhost:8080/",
          "height": 437
        },
        "id": "udzzImVW7ktf",
        "outputId": "d2408d75-3445-46b6-ea91-994cae7e1de4"
      },
      "execution_count": 85,
      "outputs": [
        {
          "output_type": "display_data",
          "data": {
            "text/plain": [
              "plot without title"
            ],
            "image/png": "[encoded data removed]"
          },
          "metadata": {
            "image/png": {
              "width": 420,
              "height": 420
            }
          }
        }
      ]
    },
    {
      "cell_type": "code",
      "source": [
        "#Obtem novamente as probabilidades para classificar baseado no ponto de corte 22,5%\n",
        "Probabilidade <- predict(fit, newdata= dados,type = 'response')\n",
        "Classe_Predita <- ifelse(Probabilidade > 0.225,\"Boa\",\"Ruim\")\n",
        "View(data.frame(dados,Probabilidade,Classe_Predita))"
      ],
      "metadata": {
        "colab": {
          "base_uri": "https://localhost:8080/",
          "height": 1000
        },
        "id": "mNTANiOn7kxK",
        "outputId": "7eaab79e-75b5-4826-878a-651d3bc880bf"
      },
      "execution_count": 86,
      "outputs": [
        {
          "output_type": "display_data",
          "data": {
            "text/plain": [
              "    Prova_Logica Redacao Auto_Avaliacao Classe Probabilidade Classe_Predita\n",
              "1   2            1       1              Ruim   0.09096250    Ruim          \n",
              "2   2            1       1              Ruim   0.09096250    Ruim          \n",
              "3   5            1       1              Ruim   0.15989589    Ruim          \n",
              "4   5            4       1              Boa    0.60235935    Boa           \n",
              "5   5            3       1              Ruim   0.43140265    Boa           \n",
              "6   2            3       1              Ruim   0.28514808    Boa           \n",
              "7   3            5       1              Boa    0.66331842    Boa           \n",
              "8   2            5       7              Boa    0.95288247    Boa           \n",
              "9   1            9       1              Boa    0.95325780    Boa           \n",
              "10  4            1       1              Ruim   0.13315862    Ruim          \n",
              "11  5            1       1              Ruim   0.15989589    Ruim          \n",
              "12  8            1       9              Boa    0.91487406    Boa           \n",
              "13  1            1       1              Ruim   0.07472674    Ruim          \n",
              "14  1            1       1              Ruim   0.07472674    Ruim          \n",
              "15  3            4       1              Boa    0.49667040    Boa           \n",
              "16  4            3       3              Ruim   0.58837159    Boa           \n",
              "17  3            3       6              Ruim   0.80446627    Boa           \n",
              "18  2            1       1              Ruim   0.09096250    Ruim          \n",
              "19  1            1       1              Ruim   0.07472674    Ruim          \n",
              "20  1            1       1              Ruim   0.07472674    Ruim          \n",
              "21  8            1       1              Boa    0.26579425    Boa           \n",
              "22  8            7       1              Boa    0.95821561    Boa           \n",
              "23  1            1       1              Ruim   0.07472674    Ruim          \n",
              "24  2            1       1              Ruim   0.09096250    Ruim          \n",
              "25  1            8       1              Boa    0.91082921    Boa           \n",
              "26  5            1       1              Ruim   0.15989589    Ruim          \n",
              "27  3            1       1              Ruim   0.11030524    Ruim          \n",
              "28  3            1       1              Ruim   0.11030524    Ruim          \n",
              "29  5            3       1              Boa    0.43140265    Boa           \n",
              "30  4            8       1              Boa    0.95104864    Boa           \n",
              "⋮   ⋮            ⋮       ⋮              ⋮      ⋮             ⋮             \n",
              "670 1            4       1              Boa    0.39127817    Boa           \n",
              "671 4            1       1              Ruim   0.13315862    Ruim          \n",
              "672 4            6       7              Boa    0.98412343    Boa           \n",
              "673 3            1       1              Ruim   0.11030524    Ruim          \n",
              "674 1            2       1              Ruim   0.13885712    Ruim          \n",
              "675 5            8       1              Boa    0.96011490    Boa           \n",
              "676 5            4       1              Boa    0.60235935    Boa           \n",
              "677 8            7       1              Boa    0.95821561    Boa           \n",
              "678 3            1       1              Ruim   0.11030524    Ruim          \n",
              "679 3            1       1              Ruim   0.11030524    Ruim          \n",
              "680 1            1       1              Ruim   0.07472674    Ruim          \n",
              "681 9            5       1              Boa    0.87696409    Boa           \n",
              "682 5            1       1              Ruim   0.15989589    Ruim          \n",
              "683 5            1       1              Ruim   0.15989589    Ruim          \n",
              "684 5            2       1              Ruim   0.27536576    Boa           \n",
              "685 5            1       1              Ruim   0.15989589    Ruim          \n",
              "686 1            1       2              Ruim   0.10983663    Ruim          \n",
              "687 9            7       8              Boa    0.99819203    Boa           \n",
              "688 6            1       1              Ruim   0.19081999    Ruim          \n",
              "689 3            1       1              Boa    0.11030524    Ruim          \n",
              "690 1            1       1              Ruim   0.07472674    Ruim          \n",
              "691 1            4       6              Boa    0.84254113    Boa           \n",
              "692 2            1       1              Ruim   0.09096250    Ruim          \n",
              "693 4            1       1              Ruim   0.13315862    Ruim          \n",
              "694 6            3       1              Boa    0.48455027    Boa           \n",
              "695 5            1       1              Ruim   0.15989589    Ruim          \n",
              "696 7            5       9              Boa    0.99279742    Boa           \n",
              "697 6            1       1              Boa    0.19081999    Ruim          \n",
              "698 5            7       1              Boa    0.92341050    Boa           \n",
              "699 1            1       1              Ruim   0.07472674    Ruim          "
            ],
            "text/html": [
              "<table class=\"dataframe\">\n",
              "<caption>A data.frame: 699 × 6</caption>\n",
              "<thead>\n",
              "\t<tr><th></th><th scope=col>Prova_Logica</th><th scope=col>Redacao</th><th scope=col>Auto_Avaliacao</th><th scope=col>Classe</th><th scope=col>Probabilidade</th><th scope=col>Classe_Predita</th></tr>\n",
              "\t<tr><th></th><th scope=col>&lt;dbl&gt;</th><th scope=col>&lt;dbl&gt;</th><th scope=col>&lt;dbl&gt;</th><th scope=col>&lt;fct&gt;</th><th scope=col>&lt;dbl&gt;</th><th scope=col>&lt;chr&gt;</th></tr>\n",
              "</thead>\n",
              "<tbody>\n",
              "\t<tr><th scope=row>1</th><td>2</td><td>1</td><td>1</td><td>Ruim</td><td>0.09096250</td><td>Ruim</td></tr>\n",
              "\t<tr><th scope=row>2</th><td>2</td><td>1</td><td>1</td><td>Ruim</td><td>0.09096250</td><td>Ruim</td></tr>\n",
              "\t<tr><th scope=row>3</th><td>5</td><td>1</td><td>1</td><td>Ruim</td><td>0.15989589</td><td>Ruim</td></tr>\n",
              "\t<tr><th scope=row>4</th><td>5</td><td>4</td><td>1</td><td>Boa </td><td>0.60235935</td><td>Boa </td></tr>\n",
              "\t<tr><th scope=row>5</th><td>5</td><td>3</td><td>1</td><td>Ruim</td><td>0.43140265</td><td>Boa </td></tr>\n",
              "\t<tr><th scope=row>6</th><td>2</td><td>3</td><td>1</td><td>Ruim</td><td>0.28514808</td><td>Boa </td></tr>\n",
              "\t<tr><th scope=row>7</th><td>3</td><td>5</td><td>1</td><td>Boa </td><td>0.66331842</td><td>Boa </td></tr>\n",
              "\t<tr><th scope=row>8</th><td>2</td><td>5</td><td>7</td><td>Boa </td><td>0.95288247</td><td>Boa </td></tr>\n",
              "\t<tr><th scope=row>9</th><td>1</td><td>9</td><td>1</td><td>Boa </td><td>0.95325780</td><td>Boa </td></tr>\n",
              "\t<tr><th scope=row>10</th><td>4</td><td>1</td><td>1</td><td>Ruim</td><td>0.13315862</td><td>Ruim</td></tr>\n",
              "\t<tr><th scope=row>11</th><td>5</td><td>1</td><td>1</td><td>Ruim</td><td>0.15989589</td><td>Ruim</td></tr>\n",
              "\t<tr><th scope=row>12</th><td>8</td><td>1</td><td>9</td><td>Boa </td><td>0.91487406</td><td>Boa </td></tr>\n",
              "\t<tr><th scope=row>13</th><td>1</td><td>1</td><td>1</td><td>Ruim</td><td>0.07472674</td><td>Ruim</td></tr>\n",
              "\t<tr><th scope=row>14</th><td>1</td><td>1</td><td>1</td><td>Ruim</td><td>0.07472674</td><td>Ruim</td></tr>\n",
              "\t<tr><th scope=row>15</th><td>3</td><td>4</td><td>1</td><td>Boa </td><td>0.49667040</td><td>Boa </td></tr>\n",
              "\t<tr><th scope=row>16</th><td>4</td><td>3</td><td>3</td><td>Ruim</td><td>0.58837159</td><td>Boa </td></tr>\n",
              "\t<tr><th scope=row>17</th><td>3</td><td>3</td><td>6</td><td>Ruim</td><td>0.80446627</td><td>Boa </td></tr>\n",
              "\t<tr><th scope=row>18</th><td>2</td><td>1</td><td>1</td><td>Ruim</td><td>0.09096250</td><td>Ruim</td></tr>\n",
              "\t<tr><th scope=row>19</th><td>1</td><td>1</td><td>1</td><td>Ruim</td><td>0.07472674</td><td>Ruim</td></tr>\n",
              "\t<tr><th scope=row>20</th><td>1</td><td>1</td><td>1</td><td>Ruim</td><td>0.07472674</td><td>Ruim</td></tr>\n",
              "\t<tr><th scope=row>21</th><td>8</td><td>1</td><td>1</td><td>Boa </td><td>0.26579425</td><td>Boa </td></tr>\n",
              "\t<tr><th scope=row>22</th><td>8</td><td>7</td><td>1</td><td>Boa </td><td>0.95821561</td><td>Boa </td></tr>\n",
              "\t<tr><th scope=row>23</th><td>1</td><td>1</td><td>1</td><td>Ruim</td><td>0.07472674</td><td>Ruim</td></tr>\n",
              "\t<tr><th scope=row>24</th><td>2</td><td>1</td><td>1</td><td>Ruim</td><td>0.09096250</td><td>Ruim</td></tr>\n",
              "\t<tr><th scope=row>25</th><td>1</td><td>8</td><td>1</td><td>Boa </td><td>0.91082921</td><td>Boa </td></tr>\n",
              "\t<tr><th scope=row>26</th><td>5</td><td>1</td><td>1</td><td>Ruim</td><td>0.15989589</td><td>Ruim</td></tr>\n",
              "\t<tr><th scope=row>27</th><td>3</td><td>1</td><td>1</td><td>Ruim</td><td>0.11030524</td><td>Ruim</td></tr>\n",
              "\t<tr><th scope=row>28</th><td>3</td><td>1</td><td>1</td><td>Ruim</td><td>0.11030524</td><td>Ruim</td></tr>\n",
              "\t<tr><th scope=row>29</th><td>5</td><td>3</td><td>1</td><td>Boa </td><td>0.43140265</td><td>Boa </td></tr>\n",
              "\t<tr><th scope=row>30</th><td>4</td><td>8</td><td>1</td><td>Boa </td><td>0.95104864</td><td>Boa </td></tr>\n",
              "\t<tr><th scope=row>⋮</th><td>⋮</td><td>⋮</td><td>⋮</td><td>⋮</td><td>⋮</td><td>⋮</td></tr>\n",
              "\t<tr><th scope=row>670</th><td>1</td><td>4</td><td>1</td><td>Boa </td><td>0.39127817</td><td>Boa </td></tr>\n",
              "\t<tr><th scope=row>671</th><td>4</td><td>1</td><td>1</td><td>Ruim</td><td>0.13315862</td><td>Ruim</td></tr>\n",
              "\t<tr><th scope=row>672</th><td>4</td><td>6</td><td>7</td><td>Boa </td><td>0.98412343</td><td>Boa </td></tr>\n",
              "\t<tr><th scope=row>673</th><td>3</td><td>1</td><td>1</td><td>Ruim</td><td>0.11030524</td><td>Ruim</td></tr>\n",
              "\t<tr><th scope=row>674</th><td>1</td><td>2</td><td>1</td><td>Ruim</td><td>0.13885712</td><td>Ruim</td></tr>\n",
              "\t<tr><th scope=row>675</th><td>5</td><td>8</td><td>1</td><td>Boa </td><td>0.96011490</td><td>Boa </td></tr>\n",
              "\t<tr><th scope=row>676</th><td>5</td><td>4</td><td>1</td><td>Boa </td><td>0.60235935</td><td>Boa </td></tr>\n",
              "\t<tr><th scope=row>677</th><td>8</td><td>7</td><td>1</td><td>Boa </td><td>0.95821561</td><td>Boa </td></tr>\n",
              "\t<tr><th scope=row>678</th><td>3</td><td>1</td><td>1</td><td>Ruim</td><td>0.11030524</td><td>Ruim</td></tr>\n",
              "\t<tr><th scope=row>679</th><td>3</td><td>1</td><td>1</td><td>Ruim</td><td>0.11030524</td><td>Ruim</td></tr>\n",
              "\t<tr><th scope=row>680</th><td>1</td><td>1</td><td>1</td><td>Ruim</td><td>0.07472674</td><td>Ruim</td></tr>\n",
              "\t<tr><th scope=row>681</th><td>9</td><td>5</td><td>1</td><td>Boa </td><td>0.87696409</td><td>Boa </td></tr>\n",
              "\t<tr><th scope=row>682</th><td>5</td><td>1</td><td>1</td><td>Ruim</td><td>0.15989589</td><td>Ruim</td></tr>\n",
              "\t<tr><th scope=row>683</th><td>5</td><td>1</td><td>1</td><td>Ruim</td><td>0.15989589</td><td>Ruim</td></tr>\n",
              "\t<tr><th scope=row>684</th><td>5</td><td>2</td><td>1</td><td>Ruim</td><td>0.27536576</td><td>Boa </td></tr>\n",
              "\t<tr><th scope=row>685</th><td>5</td><td>1</td><td>1</td><td>Ruim</td><td>0.15989589</td><td>Ruim</td></tr>\n",
              "\t<tr><th scope=row>686</th><td>1</td><td>1</td><td>2</td><td>Ruim</td><td>0.10983663</td><td>Ruim</td></tr>\n",
              "\t<tr><th scope=row>687</th><td>9</td><td>7</td><td>8</td><td>Boa </td><td>0.99819203</td><td>Boa </td></tr>\n",
              "\t<tr><th scope=row>688</th><td>6</td><td>1</td><td>1</td><td>Ruim</td><td>0.19081999</td><td>Ruim</td></tr>\n",
              "\t<tr><th scope=row>689</th><td>3</td><td>1</td><td>1</td><td>Boa </td><td>0.11030524</td><td>Ruim</td></tr>\n",
              "\t<tr><th scope=row>690</th><td>1</td><td>1</td><td>1</td><td>Ruim</td><td>0.07472674</td><td>Ruim</td></tr>\n",
              "\t<tr><th scope=row>691</th><td>1</td><td>4</td><td>6</td><td>Boa </td><td>0.84254113</td><td>Boa </td></tr>\n",
              "\t<tr><th scope=row>692</th><td>2</td><td>1</td><td>1</td><td>Ruim</td><td>0.09096250</td><td>Ruim</td></tr>\n",
              "\t<tr><th scope=row>693</th><td>4</td><td>1</td><td>1</td><td>Ruim</td><td>0.13315862</td><td>Ruim</td></tr>\n",
              "\t<tr><th scope=row>694</th><td>6</td><td>3</td><td>1</td><td>Boa </td><td>0.48455027</td><td>Boa </td></tr>\n",
              "\t<tr><th scope=row>695</th><td>5</td><td>1</td><td>1</td><td>Ruim</td><td>0.15989589</td><td>Ruim</td></tr>\n",
              "\t<tr><th scope=row>696</th><td>7</td><td>5</td><td>9</td><td>Boa </td><td>0.99279742</td><td>Boa </td></tr>\n",
              "\t<tr><th scope=row>697</th><td>6</td><td>1</td><td>1</td><td>Boa </td><td>0.19081999</td><td>Ruim</td></tr>\n",
              "\t<tr><th scope=row>698</th><td>5</td><td>7</td><td>1</td><td>Boa </td><td>0.92341050</td><td>Boa </td></tr>\n",
              "\t<tr><th scope=row>699</th><td>1</td><td>1</td><td>1</td><td>Ruim</td><td>0.07472674</td><td>Ruim</td></tr>\n",
              "</tbody>\n",
              "</table>\n"
            ],
            "text/markdown": "\nA data.frame: 699 × 6\n\n| <!--/--> | Prova_Logica &lt;dbl&gt; | Redacao &lt;dbl&gt; | Auto_Avaliacao &lt;dbl&gt; | Classe &lt;fct&gt; | Probabilidade &lt;dbl&gt; | Classe_Predita &lt;chr&gt; |\n|---|---|---|---|---|---|---|\n| 1 | 2 | 1 | 1 | Ruim | 0.09096250 | Ruim |\n| 2 | 2 | 1 | 1 | Ruim | 0.09096250 | Ruim |\n| 3 | 5 | 1 | 1 | Ruim | 0.15989589 | Ruim |\n| 4 | 5 | 4 | 1 | Boa  | 0.60235935 | Boa  |\n| 5 | 5 | 3 | 1 | Ruim | 0.43140265 | Boa  |\n| 6 | 2 | 3 | 1 | Ruim | 0.28514808 | Boa  |\n| 7 | 3 | 5 | 1 | Boa  | 0.66331842 | Boa  |\n| 8 | 2 | 5 | 7 | Boa  | 0.95288247 | Boa  |\n| 9 | 1 | 9 | 1 | Boa  | 0.95325780 | Boa  |\n| 10 | 4 | 1 | 1 | Ruim | 0.13315862 | Ruim |\n| 11 | 5 | 1 | 1 | Ruim | 0.15989589 | Ruim |\n| 12 | 8 | 1 | 9 | Boa  | 0.91487406 | Boa  |\n| 13 | 1 | 1 | 1 | Ruim | 0.07472674 | Ruim |\n| 14 | 1 | 1 | 1 | Ruim | 0.07472674 | Ruim |\n| 15 | 3 | 4 | 1 | Boa  | 0.49667040 | Boa  |\n| 16 | 4 | 3 | 3 | Ruim | 0.58837159 | Boa  |\n| 17 | 3 | 3 | 6 | Ruim | 0.80446627 | Boa  |\n| 18 | 2 | 1 | 1 | Ruim | 0.09096250 | Ruim |\n| 19 | 1 | 1 | 1 | Ruim | 0.07472674 | Ruim |\n| 20 | 1 | 1 | 1 | Ruim | 0.07472674 | Ruim |\n| 21 | 8 | 1 | 1 | Boa  | 0.26579425 | Boa  |\n| 22 | 8 | 7 | 1 | Boa  | 0.95821561 | Boa  |\n| 23 | 1 | 1 | 1 | Ruim | 0.07472674 | Ruim |\n| 24 | 2 | 1 | 1 | Ruim | 0.09096250 | Ruim |\n| 25 | 1 | 8 | 1 | Boa  | 0.91082921 | Boa  |\n| 26 | 5 | 1 | 1 | Ruim | 0.15989589 | Ruim |\n| 27 | 3 | 1 | 1 | Ruim | 0.11030524 | Ruim |\n| 28 | 3 | 1 | 1 | Ruim | 0.11030524 | Ruim |\n| 29 | 5 | 3 | 1 | Boa  | 0.43140265 | Boa  |\n| 30 | 4 | 8 | 1 | Boa  | 0.95104864 | Boa  |\n| ⋮ | ⋮ | ⋮ | ⋮ | ⋮ | ⋮ | ⋮ |\n| 670 | 1 | 4 | 1 | Boa  | 0.39127817 | Boa  |\n| 671 | 4 | 1 | 1 | Ruim | 0.13315862 | Ruim |\n| 672 | 4 | 6 | 7 | Boa  | 0.98412343 | Boa  |\n| 673 | 3 | 1 | 1 | Ruim | 0.11030524 | Ruim |\n| 674 | 1 | 2 | 1 | Ruim | 0.13885712 | Ruim |\n| 675 | 5 | 8 | 1 | Boa  | 0.96011490 | Boa  |\n| 676 | 5 | 4 | 1 | Boa  | 0.60235935 | Boa  |\n| 677 | 8 | 7 | 1 | Boa  | 0.95821561 | Boa  |\n| 678 | 3 | 1 | 1 | Ruim | 0.11030524 | Ruim |\n| 679 | 3 | 1 | 1 | Ruim | 0.11030524 | Ruim |\n| 680 | 1 | 1 | 1 | Ruim | 0.07472674 | Ruim |\n| 681 | 9 | 5 | 1 | Boa  | 0.87696409 | Boa  |\n| 682 | 5 | 1 | 1 | Ruim | 0.15989589 | Ruim |\n| 683 | 5 | 1 | 1 | Ruim | 0.15989589 | Ruim |\n| 684 | 5 | 2 | 1 | Ruim | 0.27536576 | Boa  |\n| 685 | 5 | 1 | 1 | Ruim | 0.15989589 | Ruim |\n| 686 | 1 | 1 | 2 | Ruim | 0.10983663 | Ruim |\n| 687 | 9 | 7 | 8 | Boa  | 0.99819203 | Boa  |\n| 688 | 6 | 1 | 1 | Ruim | 0.19081999 | Ruim |\n| 689 | 3 | 1 | 1 | Boa  | 0.11030524 | Ruim |\n| 690 | 1 | 1 | 1 | Ruim | 0.07472674 | Ruim |\n| 691 | 1 | 4 | 6 | Boa  | 0.84254113 | Boa  |\n| 692 | 2 | 1 | 1 | Ruim | 0.09096250 | Ruim |\n| 693 | 4 | 1 | 1 | Ruim | 0.13315862 | Ruim |\n| 694 | 6 | 3 | 1 | Boa  | 0.48455027 | Boa  |\n| 695 | 5 | 1 | 1 | Ruim | 0.15989589 | Ruim |\n| 696 | 7 | 5 | 9 | Boa  | 0.99279742 | Boa  |\n| 697 | 6 | 1 | 1 | Boa  | 0.19081999 | Ruim |\n| 698 | 5 | 7 | 1 | Boa  | 0.92341050 | Boa  |\n| 699 | 1 | 1 | 1 | Ruim | 0.07472674 | Ruim |\n\n",
            "text/latex": "A data.frame: 699 × 6\n\\begin{tabular}{r|llllll}\n  & Prova\\_Logica & Redacao & Auto\\_Avaliacao & Classe & Probabilidade & Classe\\_Predita\\\\\n  & <dbl> & <dbl> & <dbl> & <fct> & <dbl> & <chr>\\\\\n\\hline\n\t1 & 2 & 1 & 1 & Ruim & 0.09096250 & Ruim\\\\\n\t2 & 2 & 1 & 1 & Ruim & 0.09096250 & Ruim\\\\\n\t3 & 5 & 1 & 1 & Ruim & 0.15989589 & Ruim\\\\\n\t4 & 5 & 4 & 1 & Boa  & 0.60235935 & Boa \\\\\n\t5 & 5 & 3 & 1 & Ruim & 0.43140265 & Boa \\\\\n\t6 & 2 & 3 & 1 & Ruim & 0.28514808 & Boa \\\\\n\t7 & 3 & 5 & 1 & Boa  & 0.66331842 & Boa \\\\\n\t8 & 2 & 5 & 7 & Boa  & 0.95288247 & Boa \\\\\n\t9 & 1 & 9 & 1 & Boa  & 0.95325780 & Boa \\\\\n\t10 & 4 & 1 & 1 & Ruim & 0.13315862 & Ruim\\\\\n\t11 & 5 & 1 & 1 & Ruim & 0.15989589 & Ruim\\\\\n\t12 & 8 & 1 & 9 & Boa  & 0.91487406 & Boa \\\\\n\t13 & 1 & 1 & 1 & Ruim & 0.07472674 & Ruim\\\\\n\t14 & 1 & 1 & 1 & Ruim & 0.07472674 & Ruim\\\\\n\t15 & 3 & 4 & 1 & Boa  & 0.49667040 & Boa \\\\\n\t16 & 4 & 3 & 3 & Ruim & 0.58837159 & Boa \\\\\n\t17 & 3 & 3 & 6 & Ruim & 0.80446627 & Boa \\\\\n\t18 & 2 & 1 & 1 & Ruim & 0.09096250 & Ruim\\\\\n\t19 & 1 & 1 & 1 & Ruim & 0.07472674 & Ruim\\\\\n\t20 & 1 & 1 & 1 & Ruim & 0.07472674 & Ruim\\\\\n\t21 & 8 & 1 & 1 & Boa  & 0.26579425 & Boa \\\\\n\t22 & 8 & 7 & 1 & Boa  & 0.95821561 & Boa \\\\\n\t23 & 1 & 1 & 1 & Ruim & 0.07472674 & Ruim\\\\\n\t24 & 2 & 1 & 1 & Ruim & 0.09096250 & Ruim\\\\\n\t25 & 1 & 8 & 1 & Boa  & 0.91082921 & Boa \\\\\n\t26 & 5 & 1 & 1 & Ruim & 0.15989589 & Ruim\\\\\n\t27 & 3 & 1 & 1 & Ruim & 0.11030524 & Ruim\\\\\n\t28 & 3 & 1 & 1 & Ruim & 0.11030524 & Ruim\\\\\n\t29 & 5 & 3 & 1 & Boa  & 0.43140265 & Boa \\\\\n\t30 & 4 & 8 & 1 & Boa  & 0.95104864 & Boa \\\\\n\t⋮ & ⋮ & ⋮ & ⋮ & ⋮ & ⋮ & ⋮\\\\\n\t670 & 1 & 4 & 1 & Boa  & 0.39127817 & Boa \\\\\n\t671 & 4 & 1 & 1 & Ruim & 0.13315862 & Ruim\\\\\n\t672 & 4 & 6 & 7 & Boa  & 0.98412343 & Boa \\\\\n\t673 & 3 & 1 & 1 & Ruim & 0.11030524 & Ruim\\\\\n\t674 & 1 & 2 & 1 & Ruim & 0.13885712 & Ruim\\\\\n\t675 & 5 & 8 & 1 & Boa  & 0.96011490 & Boa \\\\\n\t676 & 5 & 4 & 1 & Boa  & 0.60235935 & Boa \\\\\n\t677 & 8 & 7 & 1 & Boa  & 0.95821561 & Boa \\\\\n\t678 & 3 & 1 & 1 & Ruim & 0.11030524 & Ruim\\\\\n\t679 & 3 & 1 & 1 & Ruim & 0.11030524 & Ruim\\\\\n\t680 & 1 & 1 & 1 & Ruim & 0.07472674 & Ruim\\\\\n\t681 & 9 & 5 & 1 & Boa  & 0.87696409 & Boa \\\\\n\t682 & 5 & 1 & 1 & Ruim & 0.15989589 & Ruim\\\\\n\t683 & 5 & 1 & 1 & Ruim & 0.15989589 & Ruim\\\\\n\t684 & 5 & 2 & 1 & Ruim & 0.27536576 & Boa \\\\\n\t685 & 5 & 1 & 1 & Ruim & 0.15989589 & Ruim\\\\\n\t686 & 1 & 1 & 2 & Ruim & 0.10983663 & Ruim\\\\\n\t687 & 9 & 7 & 8 & Boa  & 0.99819203 & Boa \\\\\n\t688 & 6 & 1 & 1 & Ruim & 0.19081999 & Ruim\\\\\n\t689 & 3 & 1 & 1 & Boa  & 0.11030524 & Ruim\\\\\n\t690 & 1 & 1 & 1 & Ruim & 0.07472674 & Ruim\\\\\n\t691 & 1 & 4 & 6 & Boa  & 0.84254113 & Boa \\\\\n\t692 & 2 & 1 & 1 & Ruim & 0.09096250 & Ruim\\\\\n\t693 & 4 & 1 & 1 & Ruim & 0.13315862 & Ruim\\\\\n\t694 & 6 & 3 & 1 & Boa  & 0.48455027 & Boa \\\\\n\t695 & 5 & 1 & 1 & Ruim & 0.15989589 & Ruim\\\\\n\t696 & 7 & 5 & 9 & Boa  & 0.99279742 & Boa \\\\\n\t697 & 6 & 1 & 1 & Boa  & 0.19081999 & Ruim\\\\\n\t698 & 5 & 7 & 1 & Boa  & 0.92341050 & Boa \\\\\n\t699 & 1 & 1 & 1 & Ruim & 0.07472674 & Ruim\\\\\n\\end{tabular}\n"
          },
          "metadata": {}
        }
      ]
    },
    {
      "cell_type": "code",
      "source": [
        "#Visualiza matriz de confusao final\n",
        "confusao <- table(Classe_Predita = Classe_Predita, Classe_Original = \n",
        "relevel(dados$Classe,ref = 'Boa'))"
      ],
      "metadata": {
        "id": "qQZGP6ms7tdS"
      },
      "execution_count": 87,
      "outputs": []
    },
    {
      "cell_type": "code",
      "source": [
        "#Armazena valores da matriz de confusao\n",
        "vp <- confusao[1,1];vp\n",
        "fn <- confusao[2,1];fn\n",
        "\n",
        "vn <- confusao[2,2];vn\n",
        "fp <- confusao[1,2];fp"
      ],
      "metadata": {
        "colab": {
          "base_uri": "https://localhost:8080/",
          "height": 86
        },
        "id": "h6R1JwsM7vu9",
        "outputId": "b43fac45-dce0-4d32-f89a-78da6317fe3b"
      },
      "execution_count": 88,
      "outputs": [
        {
          "output_type": "display_data",
          "data": {
            "text/html": [
              "204"
            ],
            "text/markdown": "204",
            "text/latex": "204",
            "text/plain": [
              "[1] 204"
            ]
          },
          "metadata": {}
        },
        {
          "output_type": "display_data",
          "data": {
            "text/html": [
              "37"
            ],
            "text/markdown": "37",
            "text/latex": "37",
            "text/plain": [
              "[1] 37"
            ]
          },
          "metadata": {}
        },
        {
          "output_type": "display_data",
          "data": {
            "text/html": [
              "383"
            ],
            "text/markdown": "383",
            "text/latex": "383",
            "text/plain": [
              "[1] 383"
            ]
          },
          "metadata": {}
        },
        {
          "output_type": "display_data",
          "data": {
            "text/html": [
              "75"
            ],
            "text/markdown": "75",
            "text/latex": "75",
            "text/plain": [
              "[1] 75"
            ]
          },
          "metadata": {}
        }
      ]
    },
    {
      "cell_type": "code",
      "source": [
        "#Calcula acuracia\n",
        "acuracia <- sum(diag(confusao))/ sum(confusao);acuracia"
      ],
      "metadata": {
        "colab": {
          "base_uri": "https://localhost:8080/",
          "height": 34
        },
        "id": "JRSd9RSd7zDg",
        "outputId": "0cb1035f-4cb8-46fa-9149-a805a11cdc70"
      },
      "execution_count": 89,
      "outputs": [
        {
          "output_type": "display_data",
          "data": {
            "text/html": [
              "0.839771101573677"
            ],
            "text/markdown": "0.839771101573677",
            "text/latex": "0.839771101573677",
            "text/plain": [
              "[1] 0.8397711"
            ]
          },
          "metadata": {}
        }
      ]
    },
    {
      "cell_type": "code",
      "source": [
        "#Calcula Sensitividade \n",
        "sensitividade <- vp /(vp+fn)"
      ],
      "metadata": {
        "id": "C7U4E9v071nu"
      },
      "execution_count": 90,
      "outputs": []
    },
    {
      "cell_type": "code",
      "source": [
        "#Cacula Especificidade\n",
        "especificidade <- vn / (vn + fp)"
      ],
      "metadata": {
        "id": "clUnW7_28wH9"
      },
      "execution_count": 91,
      "outputs": []
    }
  ]
}